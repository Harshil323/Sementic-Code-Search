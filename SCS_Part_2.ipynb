{
  "nbformat": 4,
  "nbformat_minor": 0,
  "metadata": {
    "colab": {
      "provenance": [],
      "authorship_tag": "ABX9TyMIK9UAUJmuLOmN2J/l8uuZ",
      "include_colab_link": true
    },
    "kernelspec": {
      "name": "python3",
      "display_name": "Python 3"
    },
    "language_info": {
      "name": "python"
    },
    "accelerator": "GPU",
    "widgets": {
      "application/vnd.jupyter.widget-state+json": {
        "8ae3a50642f84c029e8b2f955e0b2ec2": {
          "model_module": "@jupyter-widgets/controls",
          "model_name": "HBoxModel",
          "model_module_version": "1.5.0",
          "state": {
            "_dom_classes": [],
            "_model_module": "@jupyter-widgets/controls",
            "_model_module_version": "1.5.0",
            "_model_name": "HBoxModel",
            "_view_count": null,
            "_view_module": "@jupyter-widgets/controls",
            "_view_module_version": "1.5.0",
            "_view_name": "HBoxView",
            "box_style": "",
            "children": [
              "IPY_MODEL_c25b2149b52341248e81d07fe21ba2a8",
              "IPY_MODEL_77a7b4b0c5504871a2fd14f7289815eb",
              "IPY_MODEL_89bf09dd1c7d4acc9a6632409e3e16dd"
            ],
            "layout": "IPY_MODEL_95cd2cea2919405e8a1ee9805a491d32"
          }
        },
        "c25b2149b52341248e81d07fe21ba2a8": {
          "model_module": "@jupyter-widgets/controls",
          "model_name": "HTMLModel",
          "model_module_version": "1.5.0",
          "state": {
            "_dom_classes": [],
            "_model_module": "@jupyter-widgets/controls",
            "_model_module_version": "1.5.0",
            "_model_name": "HTMLModel",
            "_view_count": null,
            "_view_module": "@jupyter-widgets/controls",
            "_view_module_version": "1.5.0",
            "_view_name": "HTMLView",
            "description": "",
            "description_tooltip": null,
            "layout": "IPY_MODEL_f9964b4f71184e018d8115c506526a0c",
            "placeholder": "​",
            "style": "IPY_MODEL_f21b5a3e06dc4bc1ac6ff485f5e5a61a",
            "value": "Downloading: 100%"
          }
        },
        "77a7b4b0c5504871a2fd14f7289815eb": {
          "model_module": "@jupyter-widgets/controls",
          "model_name": "FloatProgressModel",
          "model_module_version": "1.5.0",
          "state": {
            "_dom_classes": [],
            "_model_module": "@jupyter-widgets/controls",
            "_model_module_version": "1.5.0",
            "_model_name": "FloatProgressModel",
            "_view_count": null,
            "_view_module": "@jupyter-widgets/controls",
            "_view_module_version": "1.5.0",
            "_view_name": "ProgressView",
            "bar_style": "success",
            "description": "",
            "description_tooltip": null,
            "layout": "IPY_MODEL_432ea2e6393d435aa03e0166f7bd85e8",
            "max": 760289,
            "min": 0,
            "orientation": "horizontal",
            "style": "IPY_MODEL_23cfdd3ef53a46b1aa3bb18944192679",
            "value": 760289
          }
        },
        "89bf09dd1c7d4acc9a6632409e3e16dd": {
          "model_module": "@jupyter-widgets/controls",
          "model_name": "HTMLModel",
          "model_module_version": "1.5.0",
          "state": {
            "_dom_classes": [],
            "_model_module": "@jupyter-widgets/controls",
            "_model_module_version": "1.5.0",
            "_model_name": "HTMLModel",
            "_view_count": null,
            "_view_module": "@jupyter-widgets/controls",
            "_view_module_version": "1.5.0",
            "_view_name": "HTMLView",
            "description": "",
            "description_tooltip": null,
            "layout": "IPY_MODEL_b3b9f21abb744fbe8f87f4f3d52dabfb",
            "placeholder": "​",
            "style": "IPY_MODEL_9a49aa2834474ef8b263498d8e045e57",
            "value": " 742k/742k [00:00&lt;00:00, 1.28MB/s]"
          }
        },
        "95cd2cea2919405e8a1ee9805a491d32": {
          "model_module": "@jupyter-widgets/base",
          "model_name": "LayoutModel",
          "model_module_version": "1.2.0",
          "state": {
            "_model_module": "@jupyter-widgets/base",
            "_model_module_version": "1.2.0",
            "_model_name": "LayoutModel",
            "_view_count": null,
            "_view_module": "@jupyter-widgets/base",
            "_view_module_version": "1.2.0",
            "_view_name": "LayoutView",
            "align_content": null,
            "align_items": null,
            "align_self": null,
            "border": null,
            "bottom": null,
            "display": null,
            "flex": null,
            "flex_flow": null,
            "grid_area": null,
            "grid_auto_columns": null,
            "grid_auto_flow": null,
            "grid_auto_rows": null,
            "grid_column": null,
            "grid_gap": null,
            "grid_row": null,
            "grid_template_areas": null,
            "grid_template_columns": null,
            "grid_template_rows": null,
            "height": null,
            "justify_content": null,
            "justify_items": null,
            "left": null,
            "margin": null,
            "max_height": null,
            "max_width": null,
            "min_height": null,
            "min_width": null,
            "object_fit": null,
            "object_position": null,
            "order": null,
            "overflow": null,
            "overflow_x": null,
            "overflow_y": null,
            "padding": null,
            "right": null,
            "top": null,
            "visibility": null,
            "width": null
          }
        },
        "f9964b4f71184e018d8115c506526a0c": {
          "model_module": "@jupyter-widgets/base",
          "model_name": "LayoutModel",
          "model_module_version": "1.2.0",
          "state": {
            "_model_module": "@jupyter-widgets/base",
            "_model_module_version": "1.2.0",
            "_model_name": "LayoutModel",
            "_view_count": null,
            "_view_module": "@jupyter-widgets/base",
            "_view_module_version": "1.2.0",
            "_view_name": "LayoutView",
            "align_content": null,
            "align_items": null,
            "align_self": null,
            "border": null,
            "bottom": null,
            "display": null,
            "flex": null,
            "flex_flow": null,
            "grid_area": null,
            "grid_auto_columns": null,
            "grid_auto_flow": null,
            "grid_auto_rows": null,
            "grid_column": null,
            "grid_gap": null,
            "grid_row": null,
            "grid_template_areas": null,
            "grid_template_columns": null,
            "grid_template_rows": null,
            "height": null,
            "justify_content": null,
            "justify_items": null,
            "left": null,
            "margin": null,
            "max_height": null,
            "max_width": null,
            "min_height": null,
            "min_width": null,
            "object_fit": null,
            "object_position": null,
            "order": null,
            "overflow": null,
            "overflow_x": null,
            "overflow_y": null,
            "padding": null,
            "right": null,
            "top": null,
            "visibility": null,
            "width": null
          }
        },
        "f21b5a3e06dc4bc1ac6ff485f5e5a61a": {
          "model_module": "@jupyter-widgets/controls",
          "model_name": "DescriptionStyleModel",
          "model_module_version": "1.5.0",
          "state": {
            "_model_module": "@jupyter-widgets/controls",
            "_model_module_version": "1.5.0",
            "_model_name": "DescriptionStyleModel",
            "_view_count": null,
            "_view_module": "@jupyter-widgets/base",
            "_view_module_version": "1.2.0",
            "_view_name": "StyleView",
            "description_width": ""
          }
        },
        "432ea2e6393d435aa03e0166f7bd85e8": {
          "model_module": "@jupyter-widgets/base",
          "model_name": "LayoutModel",
          "model_module_version": "1.2.0",
          "state": {
            "_model_module": "@jupyter-widgets/base",
            "_model_module_version": "1.2.0",
            "_model_name": "LayoutModel",
            "_view_count": null,
            "_view_module": "@jupyter-widgets/base",
            "_view_module_version": "1.2.0",
            "_view_name": "LayoutView",
            "align_content": null,
            "align_items": null,
            "align_self": null,
            "border": null,
            "bottom": null,
            "display": null,
            "flex": null,
            "flex_flow": null,
            "grid_area": null,
            "grid_auto_columns": null,
            "grid_auto_flow": null,
            "grid_auto_rows": null,
            "grid_column": null,
            "grid_gap": null,
            "grid_row": null,
            "grid_template_areas": null,
            "grid_template_columns": null,
            "grid_template_rows": null,
            "height": null,
            "justify_content": null,
            "justify_items": null,
            "left": null,
            "margin": null,
            "max_height": null,
            "max_width": null,
            "min_height": null,
            "min_width": null,
            "object_fit": null,
            "object_position": null,
            "order": null,
            "overflow": null,
            "overflow_x": null,
            "overflow_y": null,
            "padding": null,
            "right": null,
            "top": null,
            "visibility": null,
            "width": null
          }
        },
        "23cfdd3ef53a46b1aa3bb18944192679": {
          "model_module": "@jupyter-widgets/controls",
          "model_name": "ProgressStyleModel",
          "model_module_version": "1.5.0",
          "state": {
            "_model_module": "@jupyter-widgets/controls",
            "_model_module_version": "1.5.0",
            "_model_name": "ProgressStyleModel",
            "_view_count": null,
            "_view_module": "@jupyter-widgets/base",
            "_view_module_version": "1.2.0",
            "_view_name": "StyleView",
            "bar_color": null,
            "description_width": ""
          }
        },
        "b3b9f21abb744fbe8f87f4f3d52dabfb": {
          "model_module": "@jupyter-widgets/base",
          "model_name": "LayoutModel",
          "model_module_version": "1.2.0",
          "state": {
            "_model_module": "@jupyter-widgets/base",
            "_model_module_version": "1.2.0",
            "_model_name": "LayoutModel",
            "_view_count": null,
            "_view_module": "@jupyter-widgets/base",
            "_view_module_version": "1.2.0",
            "_view_name": "LayoutView",
            "align_content": null,
            "align_items": null,
            "align_self": null,
            "border": null,
            "bottom": null,
            "display": null,
            "flex": null,
            "flex_flow": null,
            "grid_area": null,
            "grid_auto_columns": null,
            "grid_auto_flow": null,
            "grid_auto_rows": null,
            "grid_column": null,
            "grid_gap": null,
            "grid_row": null,
            "grid_template_areas": null,
            "grid_template_columns": null,
            "grid_template_rows": null,
            "height": null,
            "justify_content": null,
            "justify_items": null,
            "left": null,
            "margin": null,
            "max_height": null,
            "max_width": null,
            "min_height": null,
            "min_width": null,
            "object_fit": null,
            "object_position": null,
            "order": null,
            "overflow": null,
            "overflow_x": null,
            "overflow_y": null,
            "padding": null,
            "right": null,
            "top": null,
            "visibility": null,
            "width": null
          }
        },
        "9a49aa2834474ef8b263498d8e045e57": {
          "model_module": "@jupyter-widgets/controls",
          "model_name": "DescriptionStyleModel",
          "model_module_version": "1.5.0",
          "state": {
            "_model_module": "@jupyter-widgets/controls",
            "_model_module_version": "1.5.0",
            "_model_name": "DescriptionStyleModel",
            "_view_count": null,
            "_view_module": "@jupyter-widgets/base",
            "_view_module_version": "1.2.0",
            "_view_name": "StyleView",
            "description_width": ""
          }
        },
        "2b8e0c67ed3f4e379d3501c79eeba2bd": {
          "model_module": "@jupyter-widgets/controls",
          "model_name": "HBoxModel",
          "model_module_version": "1.5.0",
          "state": {
            "_dom_classes": [],
            "_model_module": "@jupyter-widgets/controls",
            "_model_module_version": "1.5.0",
            "_model_name": "HBoxModel",
            "_view_count": null,
            "_view_module": "@jupyter-widgets/controls",
            "_view_module_version": "1.5.0",
            "_view_name": "HBoxView",
            "box_style": "",
            "children": [
              "IPY_MODEL_a8548fd8e85940cd82897d87c42cf431",
              "IPY_MODEL_3700c715234c494e806ccd3f52501c7e",
              "IPY_MODEL_244bc977026c4d429e9bbd9492c66897"
            ],
            "layout": "IPY_MODEL_1fc0ce9b5eda4e7c9cddf42280063591"
          }
        },
        "a8548fd8e85940cd82897d87c42cf431": {
          "model_module": "@jupyter-widgets/controls",
          "model_name": "HTMLModel",
          "model_module_version": "1.5.0",
          "state": {
            "_dom_classes": [],
            "_model_module": "@jupyter-widgets/controls",
            "_model_module_version": "1.5.0",
            "_model_name": "HTMLModel",
            "_view_count": null,
            "_view_module": "@jupyter-widgets/controls",
            "_view_module_version": "1.5.0",
            "_view_name": "HTMLView",
            "description": "",
            "description_tooltip": null,
            "layout": "IPY_MODEL_d566ae3dd7964c2288ab1f3c5ccda190",
            "placeholder": "​",
            "style": "IPY_MODEL_f3a976a68c544f748667a037a94df4fb",
            "value": "Downloading: 100%"
          }
        },
        "3700c715234c494e806ccd3f52501c7e": {
          "model_module": "@jupyter-widgets/controls",
          "model_name": "FloatProgressModel",
          "model_module_version": "1.5.0",
          "state": {
            "_dom_classes": [],
            "_model_module": "@jupyter-widgets/controls",
            "_model_module_version": "1.5.0",
            "_model_name": "FloatProgressModel",
            "_view_count": null,
            "_view_module": "@jupyter-widgets/controls",
            "_view_module_version": "1.5.0",
            "_view_name": "ProgressView",
            "bar_style": "success",
            "description": "",
            "description_tooltip": null,
            "layout": "IPY_MODEL_646e97ec3e1e4c97add64611ff21bcf7",
            "max": 684,
            "min": 0,
            "orientation": "horizontal",
            "style": "IPY_MODEL_fcf34eded0c74a008cde41f1f9fba3ec",
            "value": 684
          }
        },
        "244bc977026c4d429e9bbd9492c66897": {
          "model_module": "@jupyter-widgets/controls",
          "model_name": "HTMLModel",
          "model_module_version": "1.5.0",
          "state": {
            "_dom_classes": [],
            "_model_module": "@jupyter-widgets/controls",
            "_model_module_version": "1.5.0",
            "_model_name": "HTMLModel",
            "_view_count": null,
            "_view_module": "@jupyter-widgets/controls",
            "_view_module_version": "1.5.0",
            "_view_name": "HTMLView",
            "description": "",
            "description_tooltip": null,
            "layout": "IPY_MODEL_dfe7824edd76442dbf40c4cc86d3796e",
            "placeholder": "​",
            "style": "IPY_MODEL_26ce385bd53441efbdc484e91d5f3613",
            "value": " 684/684 [00:00&lt;00:00, 7.40kB/s]"
          }
        },
        "1fc0ce9b5eda4e7c9cddf42280063591": {
          "model_module": "@jupyter-widgets/base",
          "model_name": "LayoutModel",
          "model_module_version": "1.2.0",
          "state": {
            "_model_module": "@jupyter-widgets/base",
            "_model_module_version": "1.2.0",
            "_model_name": "LayoutModel",
            "_view_count": null,
            "_view_module": "@jupyter-widgets/base",
            "_view_module_version": "1.2.0",
            "_view_name": "LayoutView",
            "align_content": null,
            "align_items": null,
            "align_self": null,
            "border": null,
            "bottom": null,
            "display": null,
            "flex": null,
            "flex_flow": null,
            "grid_area": null,
            "grid_auto_columns": null,
            "grid_auto_flow": null,
            "grid_auto_rows": null,
            "grid_column": null,
            "grid_gap": null,
            "grid_row": null,
            "grid_template_areas": null,
            "grid_template_columns": null,
            "grid_template_rows": null,
            "height": null,
            "justify_content": null,
            "justify_items": null,
            "left": null,
            "margin": null,
            "max_height": null,
            "max_width": null,
            "min_height": null,
            "min_width": null,
            "object_fit": null,
            "object_position": null,
            "order": null,
            "overflow": null,
            "overflow_x": null,
            "overflow_y": null,
            "padding": null,
            "right": null,
            "top": null,
            "visibility": null,
            "width": null
          }
        },
        "d566ae3dd7964c2288ab1f3c5ccda190": {
          "model_module": "@jupyter-widgets/base",
          "model_name": "LayoutModel",
          "model_module_version": "1.2.0",
          "state": {
            "_model_module": "@jupyter-widgets/base",
            "_model_module_version": "1.2.0",
            "_model_name": "LayoutModel",
            "_view_count": null,
            "_view_module": "@jupyter-widgets/base",
            "_view_module_version": "1.2.0",
            "_view_name": "LayoutView",
            "align_content": null,
            "align_items": null,
            "align_self": null,
            "border": null,
            "bottom": null,
            "display": null,
            "flex": null,
            "flex_flow": null,
            "grid_area": null,
            "grid_auto_columns": null,
            "grid_auto_flow": null,
            "grid_auto_rows": null,
            "grid_column": null,
            "grid_gap": null,
            "grid_row": null,
            "grid_template_areas": null,
            "grid_template_columns": null,
            "grid_template_rows": null,
            "height": null,
            "justify_content": null,
            "justify_items": null,
            "left": null,
            "margin": null,
            "max_height": null,
            "max_width": null,
            "min_height": null,
            "min_width": null,
            "object_fit": null,
            "object_position": null,
            "order": null,
            "overflow": null,
            "overflow_x": null,
            "overflow_y": null,
            "padding": null,
            "right": null,
            "top": null,
            "visibility": null,
            "width": null
          }
        },
        "f3a976a68c544f748667a037a94df4fb": {
          "model_module": "@jupyter-widgets/controls",
          "model_name": "DescriptionStyleModel",
          "model_module_version": "1.5.0",
          "state": {
            "_model_module": "@jupyter-widgets/controls",
            "_model_module_version": "1.5.0",
            "_model_name": "DescriptionStyleModel",
            "_view_count": null,
            "_view_module": "@jupyter-widgets/base",
            "_view_module_version": "1.2.0",
            "_view_name": "StyleView",
            "description_width": ""
          }
        },
        "646e97ec3e1e4c97add64611ff21bcf7": {
          "model_module": "@jupyter-widgets/base",
          "model_name": "LayoutModel",
          "model_module_version": "1.2.0",
          "state": {
            "_model_module": "@jupyter-widgets/base",
            "_model_module_version": "1.2.0",
            "_model_name": "LayoutModel",
            "_view_count": null,
            "_view_module": "@jupyter-widgets/base",
            "_view_module_version": "1.2.0",
            "_view_name": "LayoutView",
            "align_content": null,
            "align_items": null,
            "align_self": null,
            "border": null,
            "bottom": null,
            "display": null,
            "flex": null,
            "flex_flow": null,
            "grid_area": null,
            "grid_auto_columns": null,
            "grid_auto_flow": null,
            "grid_auto_rows": null,
            "grid_column": null,
            "grid_gap": null,
            "grid_row": null,
            "grid_template_areas": null,
            "grid_template_columns": null,
            "grid_template_rows": null,
            "height": null,
            "justify_content": null,
            "justify_items": null,
            "left": null,
            "margin": null,
            "max_height": null,
            "max_width": null,
            "min_height": null,
            "min_width": null,
            "object_fit": null,
            "object_position": null,
            "order": null,
            "overflow": null,
            "overflow_x": null,
            "overflow_y": null,
            "padding": null,
            "right": null,
            "top": null,
            "visibility": null,
            "width": null
          }
        },
        "fcf34eded0c74a008cde41f1f9fba3ec": {
          "model_module": "@jupyter-widgets/controls",
          "model_name": "ProgressStyleModel",
          "model_module_version": "1.5.0",
          "state": {
            "_model_module": "@jupyter-widgets/controls",
            "_model_module_version": "1.5.0",
            "_model_name": "ProgressStyleModel",
            "_view_count": null,
            "_view_module": "@jupyter-widgets/base",
            "_view_module_version": "1.2.0",
            "_view_name": "StyleView",
            "bar_color": null,
            "description_width": ""
          }
        },
        "dfe7824edd76442dbf40c4cc86d3796e": {
          "model_module": "@jupyter-widgets/base",
          "model_name": "LayoutModel",
          "model_module_version": "1.2.0",
          "state": {
            "_model_module": "@jupyter-widgets/base",
            "_model_module_version": "1.2.0",
            "_model_name": "LayoutModel",
            "_view_count": null,
            "_view_module": "@jupyter-widgets/base",
            "_view_module_version": "1.2.0",
            "_view_name": "LayoutView",
            "align_content": null,
            "align_items": null,
            "align_self": null,
            "border": null,
            "bottom": null,
            "display": null,
            "flex": null,
            "flex_flow": null,
            "grid_area": null,
            "grid_auto_columns": null,
            "grid_auto_flow": null,
            "grid_auto_rows": null,
            "grid_column": null,
            "grid_gap": null,
            "grid_row": null,
            "grid_template_areas": null,
            "grid_template_columns": null,
            "grid_template_rows": null,
            "height": null,
            "justify_content": null,
            "justify_items": null,
            "left": null,
            "margin": null,
            "max_height": null,
            "max_width": null,
            "min_height": null,
            "min_width": null,
            "object_fit": null,
            "object_position": null,
            "order": null,
            "overflow": null,
            "overflow_x": null,
            "overflow_y": null,
            "padding": null,
            "right": null,
            "top": null,
            "visibility": null,
            "width": null
          }
        },
        "26ce385bd53441efbdc484e91d5f3613": {
          "model_module": "@jupyter-widgets/controls",
          "model_name": "DescriptionStyleModel",
          "model_module_version": "1.5.0",
          "state": {
            "_model_module": "@jupyter-widgets/controls",
            "_model_module_version": "1.5.0",
            "_model_name": "DescriptionStyleModel",
            "_view_count": null,
            "_view_module": "@jupyter-widgets/base",
            "_view_module_version": "1.2.0",
            "_view_name": "StyleView",
            "description_width": ""
          }
        }
      }
    }
  },
  "cells": [
    {
      "cell_type": "markdown",
      "metadata": {
        "id": "view-in-github",
        "colab_type": "text"
      },
      "source": [
        "<a href=\"https://colab.research.google.com/github/Harshil323/Sementic-Code-Search/blob/main/SCS_Part_2.ipynb\" target=\"_parent\"><img src=\"https://colab.research.google.com/assets/colab-badge.svg\" alt=\"Open In Colab\"/></a>"
      ]
    },
    {
      "cell_type": "markdown",
      "source": [
        "## in this second section we will create hte mebedding of docstring and function and create a search engine using nsmlib library, first few steps are already done in the part 1, weare doing here just for the reference"
      ],
      "metadata": {
        "id": "U_PbrIRxN_i3"
      }
    },
    {
      "cell_type": "code",
      "execution_count": null,
      "metadata": {
        "colab": {
          "base_uri": "https://localhost:8080/"
        },
        "id": "z-fqHmCPH-A-",
        "outputId": "bb972bfa-766f-44b5-92d5-6663b0e0ef29"
      },
      "outputs": [
        {
          "output_type": "stream",
          "name": "stdout",
          "text": [
            "Collecting transformers\n",
            "  Downloading transformers-4.18.0-py3-none-any.whl (4.0 MB)\n",
            "\u001b[K     |████████████████████████████████| 4.0 MB 5.3 MB/s \n",
            "\u001b[?25hRequirement already satisfied: requests in /usr/local/lib/python3.7/dist-packages (from transformers) (2.23.0)\n",
            "Requirement already satisfied: tqdm>=4.27 in /usr/local/lib/python3.7/dist-packages (from transformers) (4.63.0)\n",
            "Requirement already satisfied: packaging>=20.0 in /usr/local/lib/python3.7/dist-packages (from transformers) (21.3)\n",
            "Requirement already satisfied: numpy>=1.17 in /usr/local/lib/python3.7/dist-packages (from transformers) (1.21.5)\n",
            "Collecting pyyaml>=5.1\n",
            "  Downloading PyYAML-6.0-cp37-cp37m-manylinux_2_5_x86_64.manylinux1_x86_64.manylinux_2_12_x86_64.manylinux2010_x86_64.whl (596 kB)\n",
            "\u001b[K     |████████████████████████████████| 596 kB 22.4 MB/s \n",
            "\u001b[?25hRequirement already satisfied: regex!=2019.12.17 in /usr/local/lib/python3.7/dist-packages (from transformers) (2019.12.20)\n",
            "Collecting huggingface-hub<1.0,>=0.1.0\n",
            "  Downloading huggingface_hub-0.5.1-py3-none-any.whl (77 kB)\n",
            "\u001b[K     |████████████████████████████████| 77 kB 5.9 MB/s \n",
            "\u001b[?25hCollecting sacremoses\n",
            "  Downloading sacremoses-0.0.49-py3-none-any.whl (895 kB)\n",
            "\u001b[K     |████████████████████████████████| 895 kB 33.4 MB/s \n",
            "\u001b[?25hRequirement already satisfied: importlib-metadata in /usr/local/lib/python3.7/dist-packages (from transformers) (4.11.3)\n",
            "Collecting tokenizers!=0.11.3,<0.13,>=0.11.1\n",
            "  Downloading tokenizers-0.11.6-cp37-cp37m-manylinux_2_12_x86_64.manylinux2010_x86_64.whl (6.5 MB)\n",
            "\u001b[K     |████████████████████████████████| 6.5 MB 24.8 MB/s \n",
            "\u001b[?25hRequirement already satisfied: filelock in /usr/local/lib/python3.7/dist-packages (from transformers) (3.6.0)\n",
            "Requirement already satisfied: typing-extensions>=3.7.4.3 in /usr/local/lib/python3.7/dist-packages (from huggingface-hub<1.0,>=0.1.0->transformers) (3.10.0.2)\n",
            "Requirement already satisfied: pyparsing!=3.0.5,>=2.0.2 in /usr/local/lib/python3.7/dist-packages (from packaging>=20.0->transformers) (3.0.7)\n",
            "Requirement already satisfied: zipp>=0.5 in /usr/local/lib/python3.7/dist-packages (from importlib-metadata->transformers) (3.7.0)\n",
            "Requirement already satisfied: idna<3,>=2.5 in /usr/local/lib/python3.7/dist-packages (from requests->transformers) (2.10)\n",
            "Requirement already satisfied: urllib3!=1.25.0,!=1.25.1,<1.26,>=1.21.1 in /usr/local/lib/python3.7/dist-packages (from requests->transformers) (1.24.3)\n",
            "Requirement already satisfied: certifi>=2017.4.17 in /usr/local/lib/python3.7/dist-packages (from requests->transformers) (2021.10.8)\n",
            "Requirement already satisfied: chardet<4,>=3.0.2 in /usr/local/lib/python3.7/dist-packages (from requests->transformers) (3.0.4)\n",
            "Requirement already satisfied: six in /usr/local/lib/python3.7/dist-packages (from sacremoses->transformers) (1.15.0)\n",
            "Requirement already satisfied: click in /usr/local/lib/python3.7/dist-packages (from sacremoses->transformers) (7.1.2)\n",
            "Requirement already satisfied: joblib in /usr/local/lib/python3.7/dist-packages (from sacremoses->transformers) (1.1.0)\n",
            "Installing collected packages: pyyaml, tokenizers, sacremoses, huggingface-hub, transformers\n",
            "  Attempting uninstall: pyyaml\n",
            "    Found existing installation: PyYAML 3.13\n",
            "    Uninstalling PyYAML-3.13:\n",
            "      Successfully uninstalled PyYAML-3.13\n",
            "Successfully installed huggingface-hub-0.5.1 pyyaml-6.0 sacremoses-0.0.49 tokenizers-0.11.6 transformers-4.18.0\n"
          ]
        }
      ],
      "source": [
        "!pip install transformers"
      ]
    },
    {
      "cell_type": "code",
      "source": [
        "# now connect with the google drive\n",
        "from google.colab import drive\n",
        "drive.mount(\"/content/gdrive\")"
      ],
      "metadata": {
        "colab": {
          "base_uri": "https://localhost:8080/"
        },
        "id": "VLajDmgVJj9j",
        "outputId": "fb92d9be-a086-4d15-ba24-39ee42dc4a23"
      },
      "execution_count": null,
      "outputs": [
        {
          "output_type": "stream",
          "name": "stdout",
          "text": [
            "Mounted at /content/gdrive\n"
          ]
        }
      ]
    },
    {
      "cell_type": "code",
      "source": [
        "import tensorflow as tf\n",
        "print(tf.__version__)"
      ],
      "metadata": {
        "colab": {
          "base_uri": "https://localhost:8080/"
        },
        "id": "p1ZoFQZ1JrOE",
        "outputId": "a892ae4d-848b-4c83-d3a0-70d6f0fae3c9"
      },
      "execution_count": null,
      "outputs": [
        {
          "output_type": "stream",
          "name": "stdout",
          "text": [
            "2.8.0\n"
          ]
        }
      ]
    },
    {
      "cell_type": "code",
      "source": [
        "!pip install albert-tensorflow"
      ],
      "metadata": {
        "colab": {
          "base_uri": "https://localhost:8080/"
        },
        "id": "_WGWHd_6JwXB",
        "outputId": "ca8b4461-cf6f-4f04-b0ac-9e0f188c239b"
      },
      "execution_count": null,
      "outputs": [
        {
          "output_type": "stream",
          "name": "stdout",
          "text": [
            "Collecting albert-tensorflow\n",
            "  Downloading albert_tensorflow-1.1-py3-none-any.whl (81 kB)\n",
            "\u001b[?25l\r\u001b[K     |████                            | 10 kB 20.4 MB/s eta 0:00:01\r\u001b[K     |████████                        | 20 kB 12.2 MB/s eta 0:00:01\r\u001b[K     |████████████                    | 30 kB 14.9 MB/s eta 0:00:01\r\u001b[K     |████████████████                | 40 kB 5.1 MB/s eta 0:00:01\r\u001b[K     |████████████████████            | 51 kB 4.6 MB/s eta 0:00:01\r\u001b[K     |████████████████████████        | 61 kB 5.5 MB/s eta 0:00:01\r\u001b[K     |████████████████████████████▏   | 71 kB 5.6 MB/s eta 0:00:01\r\u001b[K     |████████████████████████████████| 81 kB 4.0 MB/s \n",
            "\u001b[?25hRequirement already satisfied: six in /usr/local/lib/python3.7/dist-packages (from albert-tensorflow) (1.15.0)\n",
            "Installing collected packages: albert-tensorflow\n",
            "Successfully installed albert-tensorflow-1.1\n"
          ]
        }
      ]
    },
    {
      "cell_type": "code",
      "source": [
        "!pip install SentencePiece"
      ],
      "metadata": {
        "colab": {
          "base_uri": "https://localhost:8080/"
        },
        "id": "KcP4Jcj3Jy63",
        "outputId": "86948269-6bca-4674-f01a-4adbaadf8a5c"
      },
      "execution_count": null,
      "outputs": [
        {
          "output_type": "stream",
          "name": "stdout",
          "text": [
            "Collecting SentencePiece\n",
            "  Downloading sentencepiece-0.1.96-cp37-cp37m-manylinux_2_17_x86_64.manylinux2014_x86_64.whl (1.2 MB)\n",
            "\u001b[?25l\r\u001b[K     |▎                               | 10 kB 18.2 MB/s eta 0:00:01\r\u001b[K     |▌                               | 20 kB 10.5 MB/s eta 0:00:01\r\u001b[K     |▉                               | 30 kB 8.3 MB/s eta 0:00:01\r\u001b[K     |█                               | 40 kB 4.9 MB/s eta 0:00:01\r\u001b[K     |█▍                              | 51 kB 3.2 MB/s eta 0:00:01\r\u001b[K     |█▋                              | 61 kB 3.8 MB/s eta 0:00:01\r\u001b[K     |██                              | 71 kB 4.3 MB/s eta 0:00:01\r\u001b[K     |██▏                             | 81 kB 4.8 MB/s eta 0:00:01\r\u001b[K     |██▍                             | 92 kB 5.3 MB/s eta 0:00:01\r\u001b[K     |██▊                             | 102 kB 5.5 MB/s eta 0:00:01\r\u001b[K     |███                             | 112 kB 5.5 MB/s eta 0:00:01\r\u001b[K     |███▎                            | 122 kB 5.5 MB/s eta 0:00:01\r\u001b[K     |███▌                            | 133 kB 5.5 MB/s eta 0:00:01\r\u001b[K     |███▉                            | 143 kB 5.5 MB/s eta 0:00:01\r\u001b[K     |████                            | 153 kB 5.5 MB/s eta 0:00:01\r\u001b[K     |████▎                           | 163 kB 5.5 MB/s eta 0:00:01\r\u001b[K     |████▋                           | 174 kB 5.5 MB/s eta 0:00:01\r\u001b[K     |████▉                           | 184 kB 5.5 MB/s eta 0:00:01\r\u001b[K     |█████▏                          | 194 kB 5.5 MB/s eta 0:00:01\r\u001b[K     |█████▍                          | 204 kB 5.5 MB/s eta 0:00:01\r\u001b[K     |█████▊                          | 215 kB 5.5 MB/s eta 0:00:01\r\u001b[K     |██████                          | 225 kB 5.5 MB/s eta 0:00:01\r\u001b[K     |██████▏                         | 235 kB 5.5 MB/s eta 0:00:01\r\u001b[K     |██████▌                         | 245 kB 5.5 MB/s eta 0:00:01\r\u001b[K     |██████▊                         | 256 kB 5.5 MB/s eta 0:00:01\r\u001b[K     |███████                         | 266 kB 5.5 MB/s eta 0:00:01\r\u001b[K     |███████▎                        | 276 kB 5.5 MB/s eta 0:00:01\r\u001b[K     |███████▋                        | 286 kB 5.5 MB/s eta 0:00:01\r\u001b[K     |███████▉                        | 296 kB 5.5 MB/s eta 0:00:01\r\u001b[K     |████████                        | 307 kB 5.5 MB/s eta 0:00:01\r\u001b[K     |████████▍                       | 317 kB 5.5 MB/s eta 0:00:01\r\u001b[K     |████████▋                       | 327 kB 5.5 MB/s eta 0:00:01\r\u001b[K     |█████████                       | 337 kB 5.5 MB/s eta 0:00:01\r\u001b[K     |█████████▏                      | 348 kB 5.5 MB/s eta 0:00:01\r\u001b[K     |█████████▌                      | 358 kB 5.5 MB/s eta 0:00:01\r\u001b[K     |█████████▊                      | 368 kB 5.5 MB/s eta 0:00:01\r\u001b[K     |██████████                      | 378 kB 5.5 MB/s eta 0:00:01\r\u001b[K     |██████████▎                     | 389 kB 5.5 MB/s eta 0:00:01\r\u001b[K     |██████████▌                     | 399 kB 5.5 MB/s eta 0:00:01\r\u001b[K     |██████████▉                     | 409 kB 5.5 MB/s eta 0:00:01\r\u001b[K     |███████████                     | 419 kB 5.5 MB/s eta 0:00:01\r\u001b[K     |███████████▍                    | 430 kB 5.5 MB/s eta 0:00:01\r\u001b[K     |███████████▋                    | 440 kB 5.5 MB/s eta 0:00:01\r\u001b[K     |███████████▉                    | 450 kB 5.5 MB/s eta 0:00:01\r\u001b[K     |████████████▏                   | 460 kB 5.5 MB/s eta 0:00:01\r\u001b[K     |████████████▍                   | 471 kB 5.5 MB/s eta 0:00:01\r\u001b[K     |████████████▊                   | 481 kB 5.5 MB/s eta 0:00:01\r\u001b[K     |█████████████                   | 491 kB 5.5 MB/s eta 0:00:01\r\u001b[K     |█████████████▎                  | 501 kB 5.5 MB/s eta 0:00:01\r\u001b[K     |█████████████▌                  | 512 kB 5.5 MB/s eta 0:00:01\r\u001b[K     |█████████████▊                  | 522 kB 5.5 MB/s eta 0:00:01\r\u001b[K     |██████████████                  | 532 kB 5.5 MB/s eta 0:00:01\r\u001b[K     |██████████████▎                 | 542 kB 5.5 MB/s eta 0:00:01\r\u001b[K     |██████████████▋                 | 552 kB 5.5 MB/s eta 0:00:01\r\u001b[K     |██████████████▉                 | 563 kB 5.5 MB/s eta 0:00:01\r\u001b[K     |███████████████▏                | 573 kB 5.5 MB/s eta 0:00:01\r\u001b[K     |███████████████▍                | 583 kB 5.5 MB/s eta 0:00:01\r\u001b[K     |███████████████▋                | 593 kB 5.5 MB/s eta 0:00:01\r\u001b[K     |████████████████                | 604 kB 5.5 MB/s eta 0:00:01\r\u001b[K     |████████████████▏               | 614 kB 5.5 MB/s eta 0:00:01\r\u001b[K     |████████████████▌               | 624 kB 5.5 MB/s eta 0:00:01\r\u001b[K     |████████████████▊               | 634 kB 5.5 MB/s eta 0:00:01\r\u001b[K     |█████████████████               | 645 kB 5.5 MB/s eta 0:00:01\r\u001b[K     |█████████████████▎              | 655 kB 5.5 MB/s eta 0:00:01\r\u001b[K     |█████████████████▌              | 665 kB 5.5 MB/s eta 0:00:01\r\u001b[K     |█████████████████▉              | 675 kB 5.5 MB/s eta 0:00:01\r\u001b[K     |██████████████████              | 686 kB 5.5 MB/s eta 0:00:01\r\u001b[K     |██████████████████▍             | 696 kB 5.5 MB/s eta 0:00:01\r\u001b[K     |██████████████████▋             | 706 kB 5.5 MB/s eta 0:00:01\r\u001b[K     |███████████████████             | 716 kB 5.5 MB/s eta 0:00:01\r\u001b[K     |███████████████████▏            | 727 kB 5.5 MB/s eta 0:00:01\r\u001b[K     |███████████████████▍            | 737 kB 5.5 MB/s eta 0:00:01\r\u001b[K     |███████████████████▊            | 747 kB 5.5 MB/s eta 0:00:01\r\u001b[K     |████████████████████            | 757 kB 5.5 MB/s eta 0:00:01\r\u001b[K     |████████████████████▎           | 768 kB 5.5 MB/s eta 0:00:01\r\u001b[K     |████████████████████▌           | 778 kB 5.5 MB/s eta 0:00:01\r\u001b[K     |████████████████████▉           | 788 kB 5.5 MB/s eta 0:00:01\r\u001b[K     |█████████████████████           | 798 kB 5.5 MB/s eta 0:00:01\r\u001b[K     |█████████████████████▎          | 808 kB 5.5 MB/s eta 0:00:01\r\u001b[K     |█████████████████████▋          | 819 kB 5.5 MB/s eta 0:00:01\r\u001b[K     |█████████████████████▉          | 829 kB 5.5 MB/s eta 0:00:01\r\u001b[K     |██████████████████████▏         | 839 kB 5.5 MB/s eta 0:00:01\r\u001b[K     |██████████████████████▍         | 849 kB 5.5 MB/s eta 0:00:01\r\u001b[K     |██████████████████████▊         | 860 kB 5.5 MB/s eta 0:00:01\r\u001b[K     |███████████████████████         | 870 kB 5.5 MB/s eta 0:00:01\r\u001b[K     |███████████████████████▏        | 880 kB 5.5 MB/s eta 0:00:01\r\u001b[K     |███████████████████████▌        | 890 kB 5.5 MB/s eta 0:00:01\r\u001b[K     |███████████████████████▊        | 901 kB 5.5 MB/s eta 0:00:01\r\u001b[K     |████████████████████████        | 911 kB 5.5 MB/s eta 0:00:01\r\u001b[K     |████████████████████████▎       | 921 kB 5.5 MB/s eta 0:00:01\r\u001b[K     |████████████████████████▋       | 931 kB 5.5 MB/s eta 0:00:01\r\u001b[K     |████████████████████████▉       | 942 kB 5.5 MB/s eta 0:00:01\r\u001b[K     |█████████████████████████       | 952 kB 5.5 MB/s eta 0:00:01\r\u001b[K     |█████████████████████████▍      | 962 kB 5.5 MB/s eta 0:00:01\r\u001b[K     |█████████████████████████▋      | 972 kB 5.5 MB/s eta 0:00:01\r\u001b[K     |██████████████████████████      | 983 kB 5.5 MB/s eta 0:00:01\r\u001b[K     |██████████████████████████▏     | 993 kB 5.5 MB/s eta 0:00:01\r\u001b[K     |██████████████████████████▌     | 1.0 MB 5.5 MB/s eta 0:00:01\r\u001b[K     |██████████████████████████▊     | 1.0 MB 5.5 MB/s eta 0:00:01\r\u001b[K     |███████████████████████████     | 1.0 MB 5.5 MB/s eta 0:00:01\r\u001b[K     |███████████████████████████▎    | 1.0 MB 5.5 MB/s eta 0:00:01\r\u001b[K     |███████████████████████████▌    | 1.0 MB 5.5 MB/s eta 0:00:01\r\u001b[K     |███████████████████████████▉    | 1.1 MB 5.5 MB/s eta 0:00:01\r\u001b[K     |████████████████████████████    | 1.1 MB 5.5 MB/s eta 0:00:01\r\u001b[K     |████████████████████████████▍   | 1.1 MB 5.5 MB/s eta 0:00:01\r\u001b[K     |████████████████████████████▋   | 1.1 MB 5.5 MB/s eta 0:00:01\r\u001b[K     |████████████████████████████▉   | 1.1 MB 5.5 MB/s eta 0:00:01\r\u001b[K     |█████████████████████████████▏  | 1.1 MB 5.5 MB/s eta 0:00:01\r\u001b[K     |█████████████████████████████▍  | 1.1 MB 5.5 MB/s eta 0:00:01\r\u001b[K     |█████████████████████████████▊  | 1.1 MB 5.5 MB/s eta 0:00:01\r\u001b[K     |██████████████████████████████  | 1.1 MB 5.5 MB/s eta 0:00:01\r\u001b[K     |██████████████████████████████▎ | 1.1 MB 5.5 MB/s eta 0:00:01\r\u001b[K     |██████████████████████████████▌ | 1.2 MB 5.5 MB/s eta 0:00:01\r\u001b[K     |██████████████████████████████▊ | 1.2 MB 5.5 MB/s eta 0:00:01\r\u001b[K     |███████████████████████████████ | 1.2 MB 5.5 MB/s eta 0:00:01\r\u001b[K     |███████████████████████████████▎| 1.2 MB 5.5 MB/s eta 0:00:01\r\u001b[K     |███████████████████████████████▋| 1.2 MB 5.5 MB/s eta 0:00:01\r\u001b[K     |███████████████████████████████▉| 1.2 MB 5.5 MB/s eta 0:00:01\r\u001b[K     |████████████████████████████████| 1.2 MB 5.5 MB/s \n",
            "\u001b[?25hInstalling collected packages: SentencePiece\n",
            "Successfully installed SentencePiece-0.1.96\n"
          ]
        }
      ]
    },
    {
      "cell_type": "code",
      "source": [
        "from transformers import AlbertTokenizer\n",
        "from transformers import  AlbertConfig,TFAlbertModel\n",
        "from transformers import AlbertTokenizer\n",
        "from transformers import  AlbertConfig,TFAlbertModel\n",
        "tokenizer = AlbertTokenizer.from_pretrained(\"albert-base-v2\")"
      ],
      "metadata": {
        "colab": {
          "base_uri": "https://localhost:8080/",
          "referenced_widgets": [
            "8ae3a50642f84c029e8b2f955e0b2ec2",
            "c25b2149b52341248e81d07fe21ba2a8",
            "77a7b4b0c5504871a2fd14f7289815eb",
            "89bf09dd1c7d4acc9a6632409e3e16dd",
            "95cd2cea2919405e8a1ee9805a491d32",
            "f9964b4f71184e018d8115c506526a0c",
            "f21b5a3e06dc4bc1ac6ff485f5e5a61a",
            "432ea2e6393d435aa03e0166f7bd85e8",
            "23cfdd3ef53a46b1aa3bb18944192679",
            "b3b9f21abb744fbe8f87f4f3d52dabfb",
            "9a49aa2834474ef8b263498d8e045e57",
            "2b8e0c67ed3f4e379d3501c79eeba2bd",
            "a8548fd8e85940cd82897d87c42cf431",
            "3700c715234c494e806ccd3f52501c7e",
            "244bc977026c4d429e9bbd9492c66897",
            "1fc0ce9b5eda4e7c9cddf42280063591",
            "d566ae3dd7964c2288ab1f3c5ccda190",
            "f3a976a68c544f748667a037a94df4fb",
            "646e97ec3e1e4c97add64611ff21bcf7",
            "fcf34eded0c74a008cde41f1f9fba3ec",
            "dfe7824edd76442dbf40c4cc86d3796e",
            "26ce385bd53441efbdc484e91d5f3613"
          ]
        },
        "id": "EMpRrqINJ1aH",
        "outputId": "3980ff7b-f4be-4bbc-b022-dd5a91fe77ce"
      },
      "execution_count": null,
      "outputs": [
        {
          "output_type": "display_data",
          "data": {
            "text/plain": [
              "Downloading:   0%|          | 0.00/742k [00:00<?, ?B/s]"
            ],
            "application/vnd.jupyter.widget-view+json": {
              "version_major": 2,
              "version_minor": 0,
              "model_id": "8ae3a50642f84c029e8b2f955e0b2ec2"
            }
          },
          "metadata": {}
        },
        {
          "output_type": "display_data",
          "data": {
            "text/plain": [
              "Downloading:   0%|          | 0.00/684 [00:00<?, ?B/s]"
            ],
            "application/vnd.jupyter.widget-view+json": {
              "version_major": 2,
              "version_minor": 0,
              "model_id": "2b8e0c67ed3f4e379d3501c79eeba2bd"
            }
          },
          "metadata": {}
        }
      ]
    },
    {
      "cell_type": "code",
      "source": [
        "config = AlbertConfig.from_pretrained('/content/gdrive/MyDrive/Config_and_model', output_hidden_states=True)\n",
        "\n",
        "model = TFAlbertModel.from_pretrained('/content/gdrive/MyDrive/Config_and_model', config=config,  from_pt=True)\n",
        "print(model.config)"
      ],
      "metadata": {
        "colab": {
          "base_uri": "https://localhost:8080/"
        },
        "id": "L4Ev92bqJ3K1",
        "outputId": "18f878e5-a965-4464-e618-e6d3192c268c"
      },
      "execution_count": null,
      "outputs": [
        {
          "output_type": "stream",
          "name": "stderr",
          "text": [
            "Some weights of the PyTorch model were not used when initializing the TF 2.0 model TFAlbertModel: ['sop_classifier.classifier.bias', 'predictions.dense.weight', 'predictions.LayerNorm.weight', 'predictions.decoder.weight', 'predictions.LayerNorm.bias', 'predictions.bias', 'albert.embeddings.position_ids', 'predictions.decoder.bias', 'predictions.dense.bias', 'sop_classifier.classifier.weight']\n",
            "- This IS expected if you are initializing TFAlbertModel from a PyTorch model trained on another task or with another architecture (e.g. initializing a TFBertForSequenceClassification model from a BertForPreTraining model).\n",
            "- This IS NOT expected if you are initializing TFAlbertModel from a PyTorch model that you expect to be exactly identical (e.g. initializing a TFBertForSequenceClassification model from a BertForSequenceClassification model).\n",
            "All the weights of TFAlbertModel were initialized from the PyTorch model.\n",
            "If your task is similar to the task the model of the checkpoint was trained on, you can already use TFAlbertModel for predictions without further training.\n"
          ]
        },
        {
          "output_type": "stream",
          "name": "stdout",
          "text": [
            "AlbertConfig {\n",
            "  \"_name_or_path\": \"/content/gdrive/MyDrive/Config_and_model\",\n",
            "  \"attention_probs_dropout_prob\": 0,\n",
            "  \"bos_token_id\": 2,\n",
            "  \"classifier_dropout_prob\": 0.1,\n",
            "  \"down_scale_factor\": 1,\n",
            "  \"embedding_size\": 128,\n",
            "  \"eos_token_id\": 3,\n",
            "  \"gap_size\": 0,\n",
            "  \"hidden_act\": \"gelu\",\n",
            "  \"hidden_dropout_prob\": 0,\n",
            "  \"hidden_size\": 768,\n",
            "  \"initializer_range\": 0.02,\n",
            "  \"inner_group_num\": 1,\n",
            "  \"intermediate_size\": 3072,\n",
            "  \"layer_norm_eps\": 1e-12,\n",
            "  \"max_position_embeddings\": 512,\n",
            "  \"model_type\": \"albert\",\n",
            "  \"net_structure_type\": 0,\n",
            "  \"num_attention_heads\": 12,\n",
            "  \"num_hidden_groups\": 1,\n",
            "  \"num_hidden_layers\": 12,\n",
            "  \"num_memory_blocks\": 0,\n",
            "  \"output_hidden_states\": true,\n",
            "  \"pad_token_id\": 0,\n",
            "  \"position_embedding_type\": \"absolute\",\n",
            "  \"transformers_version\": \"4.18.0\",\n",
            "  \"type_vocab_size\": 2,\n",
            "  \"vocab_size\": 30000\n",
            "}\n",
            "\n"
          ]
        }
      ]
    },
    {
      "cell_type": "code",
      "source": [
        "import pandas as pd\n",
        "import tensorflow as tf\n",
        "\n",
        "# now load the training, validation and testing from the drive\n",
        "train_df = pd.read_csv(\"/content/gdrive/MyDrive/SCE_dataset/train.csv\")\n",
        "print(len(train_df['docstring_tokens'].values))"
      ],
      "metadata": {
        "colab": {
          "base_uri": "https://localhost:8080/"
        },
        "id": "rpaCAQt4KAS-",
        "outputId": "c88d3a19-fe34-445c-d1d9-769939a69c39"
      },
      "execution_count": null,
      "outputs": [
        {
          "output_type": "stream",
          "name": "stdout",
          "text": [
            "26\n"
          ]
        }
      ]
    },
    {
      "cell_type": "code",
      "source": [
        "avg_embeddings = []\n",
        "for count,item in enumerate(train_df['docstring_tokens'].values): #traverse thorugh all train data set docstrings\n",
        "    e = tokenizer.encode(item, max_length=512)\n",
        "    input = tf.constant(e)[None, :]  # Batch size 1\n",
        "    output = model(input)\n",
        "    v = [0]*768\n",
        "    for i in range(1, len(input[0])-1):\n",
        "        v = v + output[0][0][i].numpy()  # generate sentence vectors by averaging the word vectors\n",
        "    avg_embeddings.append(v/len(input[0])) #append all sentence vectors into a list"
      ],
      "metadata": {
        "colab": {
          "base_uri": "https://localhost:8080/"
        },
        "id": "js2aJgTLKFPx",
        "outputId": "3cd2af0f-8c5f-462a-c194-64073a135cbf"
      },
      "execution_count": null,
      "outputs": [
        {
          "output_type": "stream",
          "name": "stderr",
          "text": [
            "Truncation was not explicitly activated but `max_length` is provided a specific value, please use `truncation=True` to explicitly truncate examples to max length. Defaulting to 'longest_first' truncation strategy. If you encode pairs of sequences (GLUE-style) with the tokenizer you can select this strategy more precisely by providing a specific strategy to `truncation`.\n"
          ]
        }
      ]
    },
    {
      "cell_type": "code",
      "source": [
        "# Save the sentence embeddings in a .tsv file\n",
        "import csv\n",
        "with open(\"/content/gdrive/MyDrive/SCE_dataset/avg_embeddings.tsv\",\"w+\",newline='') as my_csv:\n",
        "    csvWriter = csv.writer(my_csv,delimiter='\\t')\n",
        "    csvWriter.writerows(avg_embeddings)"
      ],
      "metadata": {
        "id": "AussEqp2KIOP"
      },
      "execution_count": null,
      "outputs": []
    },
    {
      "cell_type": "markdown",
      "source": [
        "## Convert function to vectors"
      ],
      "metadata": {
        "id": "SqdWqXHtUfiv"
      }
    },
    {
      "cell_type": "code",
      "source": [
        "#importing libraries\n",
        "import tensorflow_datasets as tfds\n",
        "import tensorflow as tf\n",
        "import pandas as pd\n",
        "import time\n",
        "import numpy as np\n",
        "import matplotlib.pyplot as plt\n",
        "import re"
      ],
      "metadata": {
        "id": "PFGXErwhKLwj"
      },
      "execution_count": null,
      "outputs": []
    },
    {
      "cell_type": "code",
      "source": [
        "with open('/content/gdrive/MyDrive/SCE_dataset/function_tokens.txt', 'w') as f:\n",
        "    for item in train_df['function_tokens'].values:\n",
        "        f.write(\"%s\\n\" % item)"
      ],
      "metadata": {
        "id": "BO-Fq-EgKN1m"
      },
      "execution_count": null,
      "outputs": []
    },
    {
      "cell_type": "code",
      "source": [
        "inp=pd.read_csv('/content/gdrive/MyDrive/SCE_dataset/function_tokens.txt',names=['functions'])\n",
        "target=pd.read_csv('/content/gdrive/MyDrive/SCE_dataset/docstrings.txt',names=['docstrings'])"
      ],
      "metadata": {
        "id": "haNYhj3fKPqy"
      },
      "execution_count": null,
      "outputs": []
    },
    {
      "cell_type": "code",
      "source": [
        "import tokenizers\n",
        "\n",
        "tokenizer_doc = tokenizers.BertWordPieceTokenizer(\n",
        "    vocab=None,\n",
        "    strip_accents=True,\n",
        "    lowercase=True,\n",
        "    wordpieces_prefix='##'\n",
        ")\n",
        "\n",
        "tokenizer_doc.train(\n",
        "    files=['/content/gdrive/MyDrive/SCE_dataset/docstrings.txt'],\n",
        "    vocab_size=30000,\n",
        "    min_frequency=1,\n",
        "    limit_alphabet=1000\n",
        ")"
      ],
      "metadata": {
        "id": "e5MS7hrKKR0H"
      },
      "execution_count": null,
      "outputs": []
    },
    {
      "cell_type": "code",
      "source": [
        "\n",
        "encoded = tokenizer_doc.encode('insertion sort')\n",
        "print(encoded.ids)\n",
        "print(encoded.tokens)"
      ],
      "metadata": {
        "colab": {
          "base_uri": "https://localhost:8080/"
        },
        "id": "rwT6YYiLKT2z",
        "outputId": "f92f771e-6af3-4657-e23f-e3106ea403e4"
      },
      "execution_count": null,
      "outputs": [
        {
          "output_type": "stream",
          "name": "stdout",
          "text": [
            "[446, 148]\n",
            "['insertion', 'sort']\n"
          ]
        }
      ]
    },
    {
      "cell_type": "code",
      "source": [
        "#saving the docstring tokenizer\n",
        "tokenizer_doc.save(\"/content/gdrive/MyDrive/SCE_dataset/doctring_vocab.txt\")"
      ],
      "metadata": {
        "id": "rCHSUYS8KVsM"
      },
      "execution_count": null,
      "outputs": []
    },
    {
      "cell_type": "code",
      "source": [
        "\n",
        "#Function tokenizer\n",
        "tokenizer_func = tokenizers.BertWordPieceTokenizer(\n",
        "    vocab=None,\n",
        "    strip_accents=True,\n",
        "    lowercase=True,\n",
        "    wordpieces_prefix='##'\n",
        ")\n",
        "\n",
        "\n",
        "tokenizer_func.train(\n",
        "    files=['/content/gdrive/MyDrive/SCE_dataset/function_tokens.txt'],\n",
        "    vocab_size=30000,\n",
        "    min_frequency=1,\n",
        "    limit_alphabet=1000\n",
        ")\n",
        "\n",
        "encoded = tokenizer_func.encode(\"Insertion sort\")\n",
        "print(encoded.ids)\n",
        "print(encoded.tokens)"
      ],
      "metadata": {
        "colab": {
          "base_uri": "https://localhost:8080/"
        },
        "id": "EnOMj7rhKXvy",
        "outputId": "ee10021b-e7b2-42b9-d1ad-8a09cf3c0044"
      },
      "execution_count": null,
      "outputs": [
        {
          "output_type": "stream",
          "name": "stdout",
          "text": [
            "[619, 223]\n",
            "['insertion', 'sort']\n"
          ]
        }
      ]
    },
    {
      "cell_type": "code",
      "source": [
        "tokenizer_doc.save(\"/content/gdrive/MyDrive/SCE_dataset/function_tokens_vocab-vocab.txt\")"
      ],
      "metadata": {
        "id": "qmwv26wsKZfN"
      },
      "execution_count": null,
      "outputs": []
    },
    {
      "cell_type": "code",
      "source": [
        "BATCH_SIZE = 1"
      ],
      "metadata": {
        "id": "yTgKTKXYKbkm"
      },
      "execution_count": null,
      "outputs": []
    },
    {
      "cell_type": "code",
      "source": [
        "def encode(lang1, lang2):\n",
        "\n",
        "    lang1 = tokenizer_func.encode(\"[CLS] \" + [l.decode(\"utf-8\")  for l in lang1.numpy()][0] + \" [SEP]\").ids\n",
        "    lang2 = tokenizer_doc.encode(\"[CLS] \" + [l.decode(\"utf-8\")  for l in lang2.numpy()][0] + \" [SEP]\").ids\n",
        "\n",
        "    return lang1, lang2\n",
        "\n",
        "\n",
        "def tf_encode(func, doc):\n",
        "    result_func, result_doc = tf.py_function(encode, [func, doc], [tf.int64, tf.int64])\n",
        "    result_func.set_shape([None])\n",
        "    result_doc.set_shape([None])\n",
        "\n",
        "    return result_func, result_doc"
      ],
      "metadata": {
        "id": "UVcisiW7Kc4a"
      },
      "execution_count": null,
      "outputs": []
    },
    {
      "cell_type": "markdown",
      "source": [
        "### Here by using from_tensor_slices we create the slices of the inout and create the dataset\n",
        "### for example![image.png](data:image/png;base64,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)"
      ],
      "metadata": {
        "id": "KytFsP4UntGk"
      }
    },
    {
      "cell_type": "code",
      "source": [
        "dataset = tf.data.Dataset.from_tensor_slices((inp.values, target.values))\n",
        "# Print values from dataset\n",
        "for index,i in enumerate(dataset):\n",
        "    print(i)\n",
        "    if(index == 5):\n",
        "        break"
      ],
      "metadata": {
        "colab": {
          "base_uri": "https://localhost:8080/"
        },
        "id": "g3Pq2G4JKehY",
        "outputId": "bf857cda-53db-4c04-8a98-4b665a5b9e55"
      },
      "execution_count": null,
      "outputs": [
        {
          "output_type": "stream",
          "name": "stdout",
          "text": [
            "(<tf.Tensor: shape=(1,), dtype=string, numpy=\n",
            "array([b'insertion sort elements for in range 1 len elements anchor elements 1 while 0 and anchor elements elements 1 elements 1 elements 1 anchor'],\n",
            "      dtype=object)>, <tf.Tensor: shape=(1,), dtype=string, numpy=\n",
            "array([b'perform an insertion sort for given n elements of array'],\n",
            "      dtype=object)>)\n",
            "(<tf.Tensor: shape=(1,), dtype=string, numpy=\n",
            "array([b'bead sort sequence list list if any not isinstance int or 0 for in sequence raise typeerror sequence must be list of non negative integers for in range len sequence for rod upper rod lower in enumerate zip sequence sequence 1 if rod upper rod lower sequence rod upper rod lower sequence 1 rod upper rod lower return sequence'],\n",
            "      dtype=object)>, <tf.Tensor: shape=(1,), dtype=string, numpy=array([b'pure implementation of bead sort in python'], dtype=object)>)\n",
            "(<tf.Tensor: shape=(1,), dtype=string, numpy=\n",
            "array([b'gaussian elimination coefficients np matrix vector np ndarray np ndarray rows columns np shape coefficients if rows columns return np array dtype float augmented mat np concatenate coefficients vector axis 1 augmented mat augmented mat astype for row in range rows 1 pivot augmented mat row row for col in range row 1 columns factor augmented mat col row pivot augmented mat col factor augmented mat row retroactive resolution augmented mat 0 columns augmented mat columns columns 1 return'],\n",
            "      dtype=object)>, <tf.Tensor: shape=(1,), dtype=string, numpy=\n",
            "array([b'this function performs gaussian elimination method'],\n",
            "      dtype=object)>)\n",
            "(<tf.Tensor: shape=(1,), dtype=string, numpy=\n",
            "array([b'decrypt cipher list int key list int str plain for in range len key int cipher key 2 key plain append chr return join for in plain'],\n",
            "      dtype=object)>, <tf.Tensor: shape=(1,), dtype=string, numpy=\n",
            "array([b'function to decrypt text using pseudo random numbers'],\n",
            "      dtype=object)>)\n",
            "(<tf.Tensor: shape=(1,), dtype=string, numpy=\n",
            "array([b'detect self img path str tuple mat list list int img imread img path 0 img shape corner list list list int color img img copy color img cvtcolor color img color dy dx np gradient img ixx dx 2 iyy dy 2 ixy dx dy 0 04 offset self window size 2 for in range offset offset for in range offset offset wxx ixx offset offset 1 offset offset 1 sum wyy iyy offset offset 1 offset offset 1 sum wxy ixy offset offset 1 offset offset 1 sum det wxx wyy wxy 2 trace wxx wyy det trace 2 if 0 5 corner list append color img itemset 0 0 color img itemset 1 0 color img itemset 2 255 return color img corner list'],\n",
            "      dtype=object)>, <tf.Tensor: shape=(1,), dtype=string, numpy=\n",
            "array([b'returns the image with corners identified img path'],\n",
            "      dtype=object)>)\n",
            "(<tf.Tensor: shape=(1,), dtype=string, numpy=\n",
            "array([b'identity int list list int return int row column for column in range for row in range'],\n",
            "      dtype=object)>, <tf.Tensor: shape=(1,), dtype=string, numpy=\n",
            "array([b'function to create identity matrix for n dimension'],\n",
            "      dtype=object)>)\n"
          ]
        }
      ]
    },
    {
      "cell_type": "code",
      "source": [
        "train_dataset = dataset.map(tf_encode)\n",
        "print(train_dataset)\n",
        "\n",
        "\n",
        "train_dataset = train_dataset.padded_batch(BATCH_SIZE)\n",
        "\n",
        "\n",
        "train_dataset = train_dataset.prefetch(tf.data.experimental.AUTOTUNE)"
      ],
      "metadata": {
        "colab": {
          "base_uri": "https://localhost:8080/"
        },
        "id": "If1aQsiwKgB3",
        "outputId": "813c0096-709b-49b9-d03b-cf864abb40bc"
      },
      "execution_count": null,
      "outputs": [
        {
          "output_type": "stream",
          "name": "stdout",
          "text": [
            "<MapDataset element_spec=(TensorSpec(shape=(None,), dtype=tf.int64, name=None), TensorSpec(shape=(None,), dtype=tf.int64, name=None))>\n"
          ]
        }
      ]
    },
    {
      "cell_type": "code",
      "source": [
        "ft_batch, en_batch = next(iter(train_dataset))\n",
        "ft_batch, en_batch"
      ],
      "metadata": {
        "colab": {
          "base_uri": "https://localhost:8080/"
        },
        "id": "0DlcqEdwK0aw",
        "outputId": "de25689f-f143-4431-abf7-f936f7e2cbec"
      },
      "execution_count": null,
      "outputs": [
        {
          "output_type": "execute_result",
          "data": {
            "text/plain": [
              "(<tf.Tensor: shape=(1, 26), dtype=int64, numpy=\n",
              " array([[  2, 619, 223, 220,  78,  67, 113,   6,  97, 220, 395, 220,   6,\n",
              "         246,   5, 219, 395, 220, 220,   6, 220,   6, 220,   6, 395,   3]])>,\n",
              " <tf.Tensor: shape=(1, 12), dtype=int64, numpy=array([[  2, 232,  98, 446, 148, 142, 137,  18, 384,  68, 407,   3]])>)"
            ]
          },
          "metadata": {},
          "execution_count": 23
        }
      ]
    },
    {
      "cell_type": "code",
      "source": [
        "def create_padding_mask(seq):\n",
        "    seq = tf.cast(tf.math.equal(seq, 0), tf.float32)\n",
        "\n",
        "\n",
        "    return seq[:, tf.newaxis, tf.newaxis, :]"
      ],
      "metadata": {
        "id": "VOSwuPsgK2DG"
      },
      "execution_count": null,
      "outputs": []
    },
    {
      "cell_type": "code",
      "source": [
        "def create_look_ahead_mask(size):\n",
        "    mask = 1 - tf.linalg.band_part(tf.ones((size, size)), -1, 0)\n",
        "    return mask\n",
        "\n",
        "\n",
        "x = tf.random.uniform((1, 3))\n",
        "temp = create_look_ahead_mask(x.shape[1])\n",
        "temp"
      ],
      "metadata": {
        "colab": {
          "base_uri": "https://localhost:8080/"
        },
        "id": "p78EG0CKLA13",
        "outputId": "e00fd7d0-0505-473e-dfc7-81f15a6bb7da"
      },
      "execution_count": null,
      "outputs": [
        {
          "output_type": "execute_result",
          "data": {
            "text/plain": [
              "<tf.Tensor: shape=(3, 3), dtype=float32, numpy=\n",
              "array([[0., 1., 1.],\n",
              "       [0., 0., 1.],\n",
              "       [0., 0., 0.]], dtype=float32)>"
            ]
          },
          "metadata": {},
          "execution_count": 25
        }
      ]
    },
    {
      "cell_type": "code",
      "source": [
        "def scaled_dot_product_attention(q, k, v, mask):\n",
        "    matmul_qk = tf.matmul(q, k, transpose_b=True)\n",
        "\n",
        "\n",
        "    dk = tf.cast(tf.shape(k)[-1], tf.float32)\n",
        "    scaled_attention_logits = matmul_qk / tf.math.sqrt(dk)\n",
        "\n",
        "\n",
        "    if mask is not None:\n",
        "        scaled_attention_logits += (mask * -1e9)\n",
        "    attention_weights = tf.nn.softmax(scaled_attention_logits, axis=-1)\n",
        "\n",
        "    output = tf.matmul(attention_weights, v)\n",
        "\n",
        "    return output, attention_weights"
      ],
      "metadata": {
        "id": "5VkwpSnkLCfD"
      },
      "execution_count": null,
      "outputs": []
    },
    {
      "cell_type": "code",
      "source": [
        "def print_out(q, k, v):\n",
        "    temp_out, temp_attn = scaled_dot_product_attention(q, k, v, None)\n",
        "    print ('Attention weights are:')\n",
        "    print (temp_attn)\n",
        "    print ('Output is:')\n",
        "    print (temp_out)"
      ],
      "metadata": {
        "id": "S2lViInJLFrY"
      },
      "execution_count": null,
      "outputs": []
    },
    {
      "cell_type": "code",
      "source": [
        "def get_angles(pos, i, d_model):\n",
        "    angle_rates = 1 / np.power(10000, (2 * (i//2)) / np.float32(d_model))\n",
        "    return pos * angle_rates\n",
        "\n",
        "\n",
        "\n",
        "def positional_encoding(position, d_model):\n",
        "    angle_rads = get_angles(np.arange(position)[:, np.newaxis],\n",
        "                          np.arange(d_model)[np.newaxis, :],\n",
        "                          d_model)\n",
        "\n",
        "\n",
        "    angle_rads[:, 0::2] = np.sin(angle_rads[:, 0::2])\n",
        "\n",
        "\n",
        "    angle_rads[:, 1::2] = np.cos(angle_rads[:, 1::2])\n",
        "\n",
        "    pos_encoding = angle_rads[np.newaxis, ...]\n",
        "\n",
        "    return tf.cast(pos_encoding, dtype=tf.float32)\n",
        "\n",
        "\n",
        "\n",
        "pos_encoding = positional_encoding(50, 512)\n",
        "print (pos_encoding.shape)\n",
        "\n"
      ],
      "metadata": {
        "colab": {
          "base_uri": "https://localhost:8080/"
        },
        "id": "d7JTnHGBL2z3",
        "outputId": "f55ea675-98ef-4e3e-9d4d-c95383306803"
      },
      "execution_count": null,
      "outputs": [
        {
          "output_type": "stream",
          "name": "stdout",
          "text": [
            "(1, 50, 512)\n"
          ]
        }
      ]
    },
    {
      "cell_type": "code",
      "source": [
        "class MultiHeadAttention(tf.keras.layers.Layer):\n",
        "    def __init__(self, d_model, num_heads):\n",
        "        super(MultiHeadAttention, self).__init__()\n",
        "        self.num_heads = num_heads\n",
        "        self.d_model = d_model\n",
        "\n",
        "        assert d_model % self.num_heads == 0\n",
        "\n",
        "        self.depth = d_model // self.num_heads\n",
        "\n",
        "        self.wq = tf.keras.layers.Dense(d_model)\n",
        "        self.wk = tf.keras.layers.Dense(d_model)\n",
        "        self.wv = tf.keras.layers.Dense(d_model)\n",
        "\n",
        "        self.dense = tf.keras.layers.Dense(d_model)\n",
        "\n",
        "    def split_heads(self, x, batch_size):\n",
        "        x = tf.reshape(x, (batch_size, -1, self.num_heads, self.depth))\n",
        "        return tf.transpose(x, perm=[0, 2, 1, 3])\n",
        "\n",
        "    def call(self, v, k, q, mask):\n",
        "        batch_size = tf.shape(q)[0]\n",
        "\n",
        "        q = self.wq(q)\n",
        "        k = self.wk(k)\n",
        "        v = self.wv(v)\n",
        "\n",
        "        q = self.split_heads(q, batch_size)\n",
        "        k = self.split_heads(k, batch_size)\n",
        "        v = self.split_heads(v, batch_size)\n",
        "\n",
        "\n",
        "        scaled_attention, attention_weights = scaled_dot_product_attention(\n",
        "            q, k, v, mask)\n",
        "\n",
        "        scaled_attention = tf.transpose(scaled_attention, perm=[0, 2, 1, 3])\n",
        "\n",
        "        concat_attention = tf.reshape(scaled_attention,\n",
        "                                      (batch_size, -1, self.d_model))\n",
        "\n",
        "        output = self.dense(concat_attention)\n",
        "\n",
        "        return output, attention_weights"
      ],
      "metadata": {
        "id": "uC14atCALH34"
      },
      "execution_count": null,
      "outputs": []
    },
    {
      "cell_type": "code",
      "source": [
        "def point_wise_feed_forward_network(d_model, dff):\n",
        "    return tf.keras.Sequential([\n",
        "          tf.keras.layers.Dense(dff, activation='relu'),\n",
        "          tf.keras.layers.Dense(d_model)\n",
        "      ])"
      ],
      "metadata": {
        "id": "nb5suGz6LKdO"
      },
      "execution_count": null,
      "outputs": []
    },
    {
      "cell_type": "code",
      "source": [
        "class EncoderLayer(tf.keras.layers.Layer):\n",
        "    def __init__(self, d_model, num_heads, dff, rate=0.1):\n",
        "        super(EncoderLayer, self).__init__()\n",
        "\n",
        "        self.mha = MultiHeadAttention(d_model, num_heads)\n",
        "        self.ffn = point_wise_feed_forward_network(d_model, dff)\n",
        "\n",
        "        self.layernorm1 = tf.keras.layers.LayerNormalization(epsilon=1e-6)\n",
        "        self.layernorm2 = tf.keras.layers.LayerNormalization(epsilon=1e-6)\n",
        "\n",
        "        self.dropout1 = tf.keras.layers.Dropout(rate)\n",
        "        self.dropout2 = tf.keras.layers.Dropout(rate)\n",
        "\n",
        "    def call(self, x, training, mask):\n",
        "\n",
        "        attn_output, _ = self.mha(x, x, x, mask)\n",
        "        attn_output = self.dropout1(attn_output, training=training)\n",
        "        out1 = self.layernorm1(x + attn_output)\n",
        "\n",
        "        ffn_output = self.ffn(out1)\n",
        "        ffn_output = self.dropout2(ffn_output, training=training)\n",
        "        out2 = self.layernorm2(out1 + ffn_output)\n",
        "\n",
        "        return out2"
      ],
      "metadata": {
        "id": "qU4Xu2HiLMVX"
      },
      "execution_count": null,
      "outputs": []
    },
    {
      "cell_type": "code",
      "source": [
        "class Encoder(tf.keras.layers.Layer):\n",
        "    def __init__(self, num_layers, d_model, num_heads, dff, input_vocab_size,\n",
        "               maximum_position_encoding, rate=0.1):\n",
        "        super(Encoder, self).__init__()\n",
        "\n",
        "        self.d_model = d_model\n",
        "        self.num_layers = num_layers\n",
        "\n",
        "        self.embedding = tf.keras.layers.Embedding(input_vocab_size, d_model)\n",
        "        self.pos_encoding = positional_encoding(maximum_position_encoding,\n",
        "                                                self.d_model)\n",
        "\n",
        "\n",
        "        self.enc_layers = [EncoderLayer(d_model, num_heads, dff, rate)\n",
        "                           for _ in range(num_layers)]\n",
        "\n",
        "        self.dropout = tf.keras.layers.Dropout(rate)\n",
        "\n",
        "    def call(self, x, training, mask):\n",
        "\n",
        "        seq_len = tf.shape(x)[1]\n",
        "\n",
        "\n",
        "        x = self.embedding(x)\n",
        "        x *= tf.math.sqrt(tf.cast(self.d_model, tf.float32))\n",
        "        x += self.pos_encoding[:, :seq_len, :]\n",
        "\n",
        "        x = self.dropout(x, training=training)\n",
        "\n",
        "        for i in range(self.num_layers):\n",
        "          x = self.enc_layers[i](x, training, mask)\n",
        "\n",
        "        return x\n",
        "\n",
        "    def get_config(self):\n",
        "\n",
        "        config = super().get_config().copy()\n",
        "        config.update({\n",
        "            'num_layers': self.num_layers,\n",
        "            'd_model': self.d_model,\n",
        "            'num_heads': self.num_heads,\n",
        "            'dff': self.dff,\n",
        "            'input_vocab_size':self.input_vocab_size,\n",
        "            'maximum_position_encoding':self.maximum_position_encoding,\n",
        "            'rate':self.rate\n",
        "        })\n",
        "        return config"
      ],
      "metadata": {
        "id": "zL1wtxnDLN8l"
      },
      "execution_count": null,
      "outputs": []
    },
    {
      "cell_type": "code",
      "source": [
        "class DecoderLayer(tf.keras.layers.Layer):\n",
        "    def __init__(self, d_model, num_heads, dff, rate=0.1):\n",
        "        super(DecoderLayer, self).__init__()\n",
        "\n",
        "        self.mha1 = MultiHeadAttention(d_model, num_heads)\n",
        "        self.mha2 = MultiHeadAttention(d_model, num_heads)\n",
        "\n",
        "        self.ffn = point_wise_feed_forward_network(d_model, dff)\n",
        "\n",
        "        self.layernorm1 = tf.keras.layers.LayerNormalization(epsilon=1e-6)\n",
        "        self.layernorm2 = tf.keras.layers.LayerNormalization(epsilon=1e-6)\n",
        "        self.layernorm3 = tf.keras.layers.LayerNormalization(epsilon=1e-6)\n",
        "\n",
        "        self.dropout1 = tf.keras.layers.Dropout(rate)\n",
        "        self.dropout2 = tf.keras.layers.Dropout(rate)\n",
        "        self.dropout3 = tf.keras.layers.Dropout(rate)\n",
        "\n",
        "\n",
        "    def call(self, x, enc_output, training,look_ahead_mask, padding_mask):\n",
        "\n",
        "\n",
        "        attn1, attn_weights_block1 = self.mha1(x, x, x, look_ahead_mask)\n",
        "        attn1 = self.dropout1(attn1, training=training)\n",
        "        out1 = self.layernorm1(attn1 + x)\n",
        "\n",
        "        attn2, attn_weights_block2 = self.mha2(\n",
        "            enc_output, enc_output, out1, padding_mask)\n",
        "        attn2 = self.dropout2(attn2, training=training)\n",
        "        out2 = self.layernorm2(attn2 + out1)\n",
        "\n",
        "        ffn_output = self.ffn(out2)\n",
        "        ffn_output = self.dropout3(ffn_output, training=training)\n",
        "        out3 = self.layernorm3(ffn_output + out2)\n",
        "\n",
        "        return out3, attn_weights_block1, attn_weights_block2"
      ],
      "metadata": {
        "id": "OGAkL4jGLQNT"
      },
      "execution_count": null,
      "outputs": []
    },
    {
      "cell_type": "code",
      "source": [
        "class Decoder(tf.keras.layers.Layer):\n",
        "    def __init__(self, num_layers, d_model, num_heads, dff, target_vocab_size,\n",
        "               maximum_position_encoding, rate=0.1):\n",
        "        super(Decoder, self).__init__()\n",
        "\n",
        "        self.d_model = d_model\n",
        "        self.num_layers = num_layers\n",
        "\n",
        "        self.embedding = tf.keras.layers.Embedding(target_vocab_size, d_model)\n",
        "        self.pos_encoding = positional_encoding(maximum_position_encoding, d_model)\n",
        "\n",
        "        self.dec_layers = [DecoderLayer(d_model, num_heads, dff, rate)\n",
        "                           for _ in range(num_layers)]\n",
        "        self.dropout = tf.keras.layers.Dropout(rate)\n",
        "\n",
        "    def call(self, x, enc_output, training,\n",
        "           look_ahead_mask, padding_mask):\n",
        "\n",
        "        seq_len = tf.shape(x)[1]\n",
        "        attention_weights = {}\n",
        "\n",
        "        x = self.embedding(x)  # (batch_size, target_seq_len, d_model)\n",
        "        x *= tf.math.sqrt(tf.cast(self.d_model, tf.float32))\n",
        "        x += self.pos_encoding[:, :seq_len, :]\n",
        "\n",
        "        x = self.dropout(x, training=training)\n",
        "\n",
        "        for i in range(self.num_layers):\n",
        "            x, block1, block2 = self.dec_layers[i](x, enc_output, training,\n",
        "                                                 look_ahead_mask, padding_mask)\n",
        "\n",
        "            attention_weights['decoder_layer{}_block1'.format(i+1)] = block1\n",
        "            attention_weights['decoder_layer{}_block2'.format(i+1)] = block2\n",
        "\n",
        "        # x.shape == (batch_size, target_seq_len, d_model)\n",
        "        return x, attention_weights\n",
        "\n",
        "    def get_config(self):\n",
        "\n",
        "        config = super().get_config().copy()\n",
        "        config.update({\n",
        "            'num_layers': self.num_layers,\n",
        "            'd_model': self.d_model,\n",
        "            'num_heads': self.num_heads,\n",
        "            'dff': self.dff,\n",
        "            'target_vocab_size':self.target_vocab_size,\n",
        "            'maximum_position_encoding':self.maximum_position_encoding,\n",
        "            'rate':self.rate\n",
        "        })\n",
        "        return config"
      ],
      "metadata": {
        "id": "JmFEgnEULSKh"
      },
      "execution_count": null,
      "outputs": []
    },
    {
      "cell_type": "code",
      "source": [
        "class Transformer(tf.keras.Model):\n",
        "    def __init__(self, num_layers, d_model, num_heads, dff, input_vocab_size,\n",
        "               target_vocab_size, pe_input, pe_target, rate=0.1):\n",
        "        super(Transformer, self).__init__()\n",
        "\n",
        "        self.encoder = Encoder(num_layers, d_model, num_heads, dff,\n",
        "                               input_vocab_size, pe_input, rate)\n",
        "\n",
        "        self.decoder = Decoder(num_layers, d_model, num_heads, dff,\n",
        "                               target_vocab_size, pe_target, rate)\n",
        "\n",
        "        self.final_layer = tf.keras.layers.Dense(target_vocab_size)\n",
        "\n",
        "    def call(self, inp, tar, training, enc_padding_mask,\n",
        "           look_ahead_mask, dec_padding_mask):\n",
        "\n",
        "        enc_output = self.encoder(inp, training, enc_padding_mask)\n",
        "\n",
        "        dec_output, attention_weights = self.decoder(\n",
        "            tar, enc_output, training, look_ahead_mask, dec_padding_mask)\n",
        "\n",
        "        final_output = self.final_layer(dec_output)\n",
        "\n",
        "        return final_output, attention_weights\n",
        "\n",
        "    def get_config(self):\n",
        "\n",
        "        config = super().get_config().copy()\n",
        "        config.update({\n",
        "            'num_layers': self.num_layers,\n",
        "            'd_model': self.d_model,\n",
        "            'num_heads': self.num_heads,\n",
        "            'dff': self.dff,\n",
        "            'input_vocab_size':self.input_vocab_size,\n",
        "            'target_vocab_size':self.target_vocab_size,\n",
        "            'pe_input':self.pe_input,\n",
        "            'pe_target':self.pe_target,\n",
        "            'rate':self.rate\n",
        "        })\n",
        "        return config"
      ],
      "metadata": {
        "id": "bVFd13j4LUD4"
      },
      "execution_count": null,
      "outputs": []
    },
    {
      "cell_type": "code",
      "source": [
        "num_layers = 4\n",
        "d_model = 128\n",
        "dff = 512\n",
        "num_heads = 8\n",
        "\n",
        "\n",
        "input_vocab_size = 30000\n",
        "target_vocab_size = 30000\n",
        "dropout_rate = 0.1"
      ],
      "metadata": {
        "id": "Fm-KpQ4xLV2D"
      },
      "execution_count": null,
      "outputs": []
    },
    {
      "cell_type": "code",
      "source": [
        "class CustomSchedule(tf.keras.optimizers.schedules.LearningRateSchedule):\n",
        "    def __init__(self, d_model, warmup_steps=4000):\n",
        "        super(CustomSchedule, self).__init__()\n",
        "\n",
        "        self.d_model = d_model\n",
        "        self.d_model = tf.cast(self.d_model, tf.float32)\n",
        "\n",
        "        self.warmup_steps = warmup_steps\n",
        "\n",
        "    def __call__(self, step):\n",
        "        arg1 = tf.math.rsqrt(step)\n",
        "        arg2 = step * (self.warmup_steps ** -1.5)\n",
        "\n",
        "        return tf.math.rsqrt(self.d_model) * tf.math.minimum(arg1, arg2)"
      ],
      "metadata": {
        "id": "Blfgfej_LXc4"
      },
      "execution_count": null,
      "outputs": []
    },
    {
      "cell_type": "code",
      "source": [
        "learning_rate = CustomSchedule(d_model)\n",
        "\n",
        "optimizer = tf.keras.optimizers.Adam(learning_rate, beta_1=0.9, beta_2=0.98,\n",
        "                                     epsilon=1e-9)"
      ],
      "metadata": {
        "id": "vInk5INLLZZS"
      },
      "execution_count": null,
      "outputs": []
    },
    {
      "cell_type": "code",
      "source": [
        "temp_learning_rate_schedule = CustomSchedule(d_model)\n",
        "\n",
        "plt.plot(temp_learning_rate_schedule(tf.range(40000, dtype=tf.float32)))\n",
        "plt.ylabel(\"Learning Rate\")\n",
        "plt.xlabel(\"Train Step\")"
      ],
      "metadata": {
        "colab": {
          "base_uri": "https://localhost:8080/",
          "height": 296
        },
        "id": "ZiaYEZQnLc7Y",
        "outputId": "b6813c68-4cb9-42e8-e08f-7e41e6f92bd5"
      },
      "execution_count": null,
      "outputs": [
        {
          "output_type": "execute_result",
          "data": {
            "text/plain": [
              "Text(0.5, 0, 'Train Step')"
            ]
          },
          "metadata": {},
          "execution_count": 39
        },
        {
          "output_type": "display_data",
          "data": {
            "text/plain": [
              "<Figure size 432x288 with 1 Axes>"
            ],
            "image/png": "[encoded data removed]"
          },
          "metadata": {
            "needs_background": "light"
          }
        }
      ]
    },
    {
      "cell_type": "code",
      "source": [
        "loss_object = tf.keras.losses.SparseCategoricalCrossentropy(\n",
        "    from_logits=True, reduction='none')"
      ],
      "metadata": {
        "id": "bPBeDz2ELeqh"
      },
      "execution_count": null,
      "outputs": []
    },
    {
      "cell_type": "code",
      "source": [
        "def loss_function(real, pred):\n",
        "    mask = tf.math.logical_not(tf.math.equal(real, 0))\n",
        "    loss_ = loss_object(real, pred)\n",
        "\n",
        "    mask = tf.cast(mask, dtype=loss_.dtype)\n",
        "    loss_ *= mask\n",
        "\n",
        "    return tf.reduce_sum(loss_)/tf.reduce_sum(mask)"
      ],
      "metadata": {
        "id": "BAryfVXnLg2g"
      },
      "execution_count": null,
      "outputs": []
    },
    {
      "cell_type": "code",
      "source": [
        "train_loss = tf.keras.metrics.Mean(name='train_loss')\n",
        "train_accuracy = tf.keras.metrics.SparseCategoricalAccuracy(\n",
        "    name='train_accuracy')"
      ],
      "metadata": {
        "id": "eQbwU30qLil4"
      },
      "execution_count": null,
      "outputs": []
    },
    {
      "cell_type": "code",
      "source": [
        "transformer = Transformer(num_layers, d_model, num_heads, dff,\n",
        "                          input_vocab_size, target_vocab_size,\n",
        "                          pe_input=input_vocab_size,\n",
        "                          pe_target=target_vocab_size,\n",
        "                          rate=dropout_rate)"
      ],
      "metadata": {
        "id": "3UEtm1cBLtBR"
      },
      "execution_count": null,
      "outputs": []
    },
    {
      "cell_type": "code",
      "source": [
        "def create_masks(inp, tar):\n",
        "    enc_padding_mask = create_padding_mask(inp)\n",
        "\n",
        "\n",
        "\n",
        "    dec_padding_mask = create_padding_mask(inp)\n",
        "    look_ahead_mask = create_look_ahead_mask(tf.shape(tar)[1])\n",
        "    dec_target_padding_mask = create_padding_mask(tar)\n",
        "    combined_mask = tf.maximum(dec_target_padding_mask, look_ahead_mask)\n",
        "\n",
        "    return enc_padding_mask, combined_mask, dec_padding_mask"
      ],
      "metadata": {
        "id": "nB_QgNR3LkH7"
      },
      "execution_count": null,
      "outputs": []
    },
    {
      "cell_type": "code",
      "source": [
        "checkpoint_path = \"/content/gdrive/MyDrive/Albert_model_output\"\n",
        "\n",
        "ckpt = tf.train.Checkpoint(transformer=transformer,\n",
        "                           optimizer=optimizer)\n",
        "\n",
        "ckpt_manager = tf.train.CheckpointManager(ckpt, checkpoint_path, max_to_keep=5)\n",
        "\n",
        "\n",
        "if ckpt_manager.latest_checkpoint:\n",
        "    ckpt.restore(ckpt_manager.latest_checkpoint)\n",
        "    print ('Latest checkpoint restored!!')"
      ],
      "metadata": {
        "colab": {
          "base_uri": "https://localhost:8080/"
        },
        "id": "vwTE_7siLlzy",
        "outputId": "76a27103-acd3-4919-94d4-a1187c58aea7"
      },
      "execution_count": null,
      "outputs": [
        {
          "output_type": "stream",
          "name": "stdout",
          "text": [
            "Latest checkpoint restored!!\n"
          ]
        }
      ]
    },
    {
      "cell_type": "code",
      "source": [
        "train_step_signature = [\n",
        "    tf.TensorSpec(shape=(None, None), dtype=tf.int64),\n",
        "    tf.TensorSpec(shape=(None, None), dtype=tf.int64),\n",
        "]\n",
        "\n",
        "@tf.function(input_signature=train_step_signature)\n",
        "def train_step(inp, tar):\n",
        "    tar_inp = tar[:, :-1]\n",
        "    tar_real = tar[:, 1:]\n",
        "\n",
        "    enc_padding_mask, combined_mask, dec_padding_mask = create_masks(inp, tar_inp)\n",
        "\n",
        "    with tf.GradientTape() as tape:\n",
        "        predictions, _ = transformer(inp, tar_inp,\n",
        "                                     True,\n",
        "                                     enc_padding_mask,\n",
        "                                     combined_mask,\n",
        "                                     dec_padding_mask)\n",
        "        loss = loss_function(tar_real, predictions)\n",
        "\n",
        "    gradients = tape.gradient(loss, transformer.trainable_variables)\n",
        "    optimizer.apply_gradients(zip(gradients, transformer.trainable_variables))\n",
        "\n",
        "    train_loss(loss)\n",
        "    train_accuracy(tar_real, predictions)"
      ],
      "metadata": {
        "id": "c29dVlkSLn6w"
      },
      "execution_count": null,
      "outputs": []
    },
    {
      "cell_type": "code",
      "source": [
        "EPOCHS = 100"
      ],
      "metadata": {
        "id": "er2z-lN0MuB4"
      },
      "execution_count": null,
      "outputs": []
    },
    {
      "cell_type": "code",
      "source": [
        "for epoch in range(EPOCHS):\n",
        "    start = time.time()\n",
        "\n",
        "    train_loss.reset_states()\n",
        "    train_accuracy.reset_states()\n",
        "\n",
        "\n",
        "    for (batch, (inp, tar)) in enumerate(train_dataset):\n",
        "        train_step(inp, tar)\n",
        "\n",
        "        if batch % 50 == 0:\n",
        "            print ('Epoch {} Batch {} Loss {:.4f} Accuracy {:.4f}'.format(epoch + 1, batch, train_loss.result(), train_accuracy.result()))\n",
        "\n",
        "    if (epoch + 1) % 5 == 0:\n",
        "        ckpt_save_path = ckpt_manager.save()\n",
        "        print ('Saving checkpoint for epoch {} at {}'.format(epoch+1,\n",
        "                                                             ckpt_save_path))\n",
        "\n",
        "    print ('Epoch {} Loss {:.4f} Accuracy {:.4f}'.format(epoch + 1,\n",
        "                                                train_loss.result(),\n",
        "                                                train_accuracy.result()))\n",
        "\n",
        "    print ('Time taken for 1 epoch: {} secs\\n'.format(time.time() - start))"
      ],
      "metadata": {
        "colab": {
          "base_uri": "https://localhost:8080/"
        },
        "id": "yj61fFCoMnJu",
        "outputId": "14f17614-f6bb-4cc7-f83e-415eb76ad26f"
      },
      "execution_count": null,
      "outputs": [
        {
          "output_type": "stream",
          "name": "stdout",
          "text": [
            "Epoch 1 Batch 0 Loss 6.7288 Accuracy 0.0909\n",
            "Epoch 1 Loss 6.0119 Accuracy 0.2508\n",
            "Time taken for 1 epoch: 33.07243061065674 secs\n",
            "\n",
            "Epoch 2 Batch 0 Loss 3.2374 Accuracy 0.3636\n",
            "Epoch 2 Loss 3.9427 Accuracy 0.2696\n",
            "Time taken for 1 epoch: 4.766602993011475 secs\n",
            "\n",
            "Epoch 3 Batch 0 Loss 2.5356 Accuracy 0.4545\n",
            "Epoch 3 Loss 3.1345 Accuracy 0.3605\n",
            "Time taken for 1 epoch: 3.5599887371063232 secs\n",
            "\n",
            "Epoch 4 Batch 0 Loss 2.0445 Accuracy 0.5455\n",
            "Epoch 4 Loss 2.4402 Accuracy 0.4451\n",
            "Time taken for 1 epoch: 3.564673662185669 secs\n",
            "\n",
            "Epoch 5 Batch 0 Loss 1.3905 Accuracy 0.5455\n",
            "Saving checkpoint for epoch 5 at /content/gdrive/MyDrive/Albert_model_output/ckpt-241\n",
            "Epoch 5 Loss 2.1220 Accuracy 0.4483\n",
            "Time taken for 1 epoch: 4.61852502822876 secs\n",
            "\n",
            "Epoch 6 Batch 0 Loss 1.1841 Accuracy 0.6364\n",
            "Epoch 6 Loss 1.9932 Accuracy 0.4639\n",
            "Time taken for 1 epoch: 3.886242389678955 secs\n",
            "\n",
            "Epoch 7 Batch 0 Loss 1.0230 Accuracy 0.7273\n",
            "Epoch 7 Loss 1.5293 Accuracy 0.5235\n",
            "Time taken for 1 epoch: 3.847721576690674 secs\n",
            "\n",
            "Epoch 8 Batch 0 Loss 1.3187 Accuracy 0.5455\n",
            "Epoch 8 Loss 1.4022 Accuracy 0.5298\n",
            "Time taken for 1 epoch: 4.061120510101318 secs\n",
            "\n",
            "Epoch 9 Batch 0 Loss 1.2571 Accuracy 0.7273\n",
            "Epoch 9 Loss 1.3482 Accuracy 0.5737\n",
            "Time taken for 1 epoch: 4.440504312515259 secs\n",
            "\n",
            "Epoch 10 Batch 0 Loss 0.8498 Accuracy 0.8182\n",
            "Saving checkpoint for epoch 10 at /content/gdrive/MyDrive/Albert_model_output/ckpt-242\n",
            "Epoch 10 Loss 1.2869 Accuracy 0.5768\n",
            "Time taken for 1 epoch: 4.552212238311768 secs\n",
            "\n",
            "Epoch 11 Batch 0 Loss 0.5039 Accuracy 0.8182\n",
            "Epoch 11 Loss 1.1997 Accuracy 0.5737\n",
            "Time taken for 1 epoch: 6.544099807739258 secs\n",
            "\n",
            "Epoch 12 Batch 0 Loss 1.9016 Accuracy 0.6364\n",
            "Epoch 12 Loss 1.2327 Accuracy 0.5705\n",
            "Time taken for 1 epoch: 7.1384172439575195 secs\n",
            "\n",
            "Epoch 13 Batch 0 Loss 0.7203 Accuracy 0.7273\n",
            "Epoch 13 Loss 1.3392 Accuracy 0.5455\n",
            "Time taken for 1 epoch: 6.288487672805786 secs\n",
            "\n",
            "Epoch 14 Batch 0 Loss 1.0130 Accuracy 0.7273\n",
            "Epoch 14 Loss 1.2904 Accuracy 0.5768\n",
            "Time taken for 1 epoch: 4.108505010604858 secs\n",
            "\n",
            "Epoch 15 Batch 0 Loss 0.6792 Accuracy 0.8182\n",
            "Saving checkpoint for epoch 15 at /content/gdrive/MyDrive/Albert_model_output/ckpt-243\n",
            "Epoch 15 Loss 1.1550 Accuracy 0.6395\n",
            "Time taken for 1 epoch: 5.7559168338775635 secs\n",
            "\n",
            "Epoch 16 Batch 0 Loss 0.5906 Accuracy 0.8182\n",
            "Epoch 16 Loss 0.9304 Accuracy 0.6207\n",
            "Time taken for 1 epoch: 4.113529443740845 secs\n",
            "\n",
            "Epoch 17 Batch 0 Loss 0.5288 Accuracy 0.8182\n",
            "Epoch 17 Loss 0.8128 Accuracy 0.7241\n",
            "Time taken for 1 epoch: 4.009922981262207 secs\n",
            "\n",
            "Epoch 18 Batch 0 Loss 0.5599 Accuracy 0.8182\n",
            "Epoch 18 Loss 0.7012 Accuracy 0.7116\n",
            "Time taken for 1 epoch: 4.673696756362915 secs\n",
            "\n",
            "Epoch 19 Batch 0 Loss 0.3100 Accuracy 0.9091\n",
            "Epoch 19 Loss 0.7674 Accuracy 0.6928\n",
            "Time taken for 1 epoch: 3.8038437366485596 secs\n",
            "\n",
            "Epoch 20 Batch 0 Loss 0.6382 Accuracy 0.8182\n",
            "Saving checkpoint for epoch 20 at /content/gdrive/MyDrive/Albert_model_output/ckpt-244\n",
            "Epoch 20 Loss 0.7608 Accuracy 0.6897\n",
            "Time taken for 1 epoch: 4.99777364730835 secs\n",
            "\n",
            "Epoch 21 Batch 0 Loss 0.7913 Accuracy 0.8182\n",
            "Epoch 21 Loss 0.8021 Accuracy 0.6834\n",
            "Time taken for 1 epoch: 3.982807159423828 secs\n",
            "\n",
            "Epoch 22 Batch 0 Loss 0.6334 Accuracy 0.8182\n",
            "Epoch 22 Loss 0.7199 Accuracy 0.6865\n",
            "Time taken for 1 epoch: 4.152272939682007 secs\n",
            "\n",
            "Epoch 23 Batch 0 Loss 0.6306 Accuracy 0.9091\n",
            "Epoch 23 Loss 0.6621 Accuracy 0.7210\n",
            "Time taken for 1 epoch: 4.820460796356201 secs\n",
            "\n",
            "Epoch 24 Batch 0 Loss 1.5160 Accuracy 0.5455\n",
            "Epoch 24 Loss 0.8941 Accuracy 0.7147\n",
            "Time taken for 1 epoch: 4.282770872116089 secs\n",
            "\n",
            "Epoch 25 Batch 0 Loss 1.3390 Accuracy 0.7273\n",
            "Saving checkpoint for epoch 25 at /content/gdrive/MyDrive/Albert_model_output/ckpt-245\n",
            "Epoch 25 Loss 0.6843 Accuracy 0.7179\n",
            "Time taken for 1 epoch: 5.808593273162842 secs\n",
            "\n",
            "Epoch 26 Batch 0 Loss 0.9269 Accuracy 0.8182\n",
            "Epoch 26 Loss 0.7010 Accuracy 0.7367\n",
            "Time taken for 1 epoch: 3.8236405849456787 secs\n",
            "\n",
            "Epoch 27 Batch 0 Loss 0.7086 Accuracy 0.8182\n",
            "Epoch 27 Loss 0.6637 Accuracy 0.7179\n",
            "Time taken for 1 epoch: 3.494433879852295 secs\n",
            "\n",
            "Epoch 28 Batch 0 Loss 0.5780 Accuracy 0.7273\n",
            "Epoch 28 Loss 0.7357 Accuracy 0.7335\n",
            "Time taken for 1 epoch: 4.443634986877441 secs\n",
            "\n",
            "Epoch 29 Batch 0 Loss 0.3105 Accuracy 0.9091\n",
            "Epoch 29 Loss 0.6753 Accuracy 0.6991\n",
            "Time taken for 1 epoch: 3.9485905170440674 secs\n",
            "\n",
            "Epoch 30 Batch 0 Loss 0.3579 Accuracy 0.9091\n",
            "Saving checkpoint for epoch 30 at /content/gdrive/MyDrive/Albert_model_output/ckpt-246\n",
            "Epoch 30 Loss 0.5533 Accuracy 0.7774\n",
            "Time taken for 1 epoch: 4.285403251647949 secs\n",
            "\n",
            "Epoch 31 Batch 0 Loss 0.3173 Accuracy 0.9091\n",
            "Epoch 31 Loss 0.4802 Accuracy 0.7649\n",
            "Time taken for 1 epoch: 3.5316009521484375 secs\n",
            "\n",
            "Epoch 32 Batch 0 Loss 0.1371 Accuracy 1.0000\n",
            "Epoch 32 Loss 0.5535 Accuracy 0.7492\n",
            "Time taken for 1 epoch: 3.737189769744873 secs\n",
            "\n",
            "Epoch 33 Batch 0 Loss 0.2029 Accuracy 0.9091\n",
            "Epoch 33 Loss 0.5718 Accuracy 0.7586\n",
            "Time taken for 1 epoch: 5.452845096588135 secs\n",
            "\n",
            "Epoch 34 Batch 0 Loss 0.4832 Accuracy 0.9091\n",
            "Epoch 34 Loss 0.5237 Accuracy 0.7555\n",
            "Time taken for 1 epoch: 4.631205081939697 secs\n",
            "\n",
            "Epoch 35 Batch 0 Loss 0.2553 Accuracy 0.9091\n",
            "Saving checkpoint for epoch 35 at /content/gdrive/MyDrive/Albert_model_output/ckpt-247\n",
            "Epoch 35 Loss 0.4846 Accuracy 0.7524\n",
            "Time taken for 1 epoch: 4.558535575866699 secs\n",
            "\n",
            "Epoch 36 Batch 0 Loss 0.2601 Accuracy 0.9091\n",
            "Epoch 36 Loss 0.5529 Accuracy 0.7712\n",
            "Time taken for 1 epoch: 4.054234504699707 secs\n",
            "\n",
            "Epoch 37 Batch 0 Loss 0.3939 Accuracy 0.9091\n",
            "Epoch 37 Loss 0.7200 Accuracy 0.7273\n",
            "Time taken for 1 epoch: 4.565809726715088 secs\n",
            "\n",
            "Epoch 38 Batch 0 Loss 0.4007 Accuracy 0.9091\n",
            "Epoch 38 Loss 0.6640 Accuracy 0.7335\n",
            "Time taken for 1 epoch: 4.406310319900513 secs\n",
            "\n",
            "Epoch 39 Batch 0 Loss 0.5578 Accuracy 0.9091\n",
            "Epoch 39 Loss 0.7015 Accuracy 0.7147\n",
            "Time taken for 1 epoch: 3.805821418762207 secs\n",
            "\n",
            "Epoch 40 Batch 0 Loss 0.7455 Accuracy 0.8182\n",
            "Saving checkpoint for epoch 40 at /content/gdrive/MyDrive/Albert_model_output/ckpt-248\n",
            "Epoch 40 Loss 0.7024 Accuracy 0.7304\n",
            "Time taken for 1 epoch: 6.381056308746338 secs\n",
            "\n",
            "Epoch 41 Batch 0 Loss 0.2258 Accuracy 0.9091\n",
            "Epoch 41 Loss 0.4796 Accuracy 0.7743\n",
            "Time taken for 1 epoch: 4.403525352478027 secs\n",
            "\n",
            "Epoch 42 Batch 0 Loss 0.2568 Accuracy 0.9091\n",
            "Epoch 42 Loss 0.4876 Accuracy 0.7649\n",
            "Time taken for 1 epoch: 3.7992758750915527 secs\n",
            "\n",
            "Epoch 43 Batch 0 Loss 0.1662 Accuracy 0.9091\n",
            "Epoch 43 Loss 0.4420 Accuracy 0.8025\n",
            "Time taken for 1 epoch: 4.549185276031494 secs\n",
            "\n",
            "Epoch 44 Batch 0 Loss 0.2728 Accuracy 0.9091\n",
            "Epoch 44 Loss 0.4052 Accuracy 0.8276\n",
            "Time taken for 1 epoch: 3.500659227371216 secs\n",
            "\n",
            "Epoch 45 Batch 0 Loss 0.1765 Accuracy 0.9091\n",
            "Saving checkpoint for epoch 45 at /content/gdrive/MyDrive/Albert_model_output/ckpt-249\n",
            "Epoch 45 Loss 0.4577 Accuracy 0.8182\n",
            "Time taken for 1 epoch: 4.4472551345825195 secs\n",
            "\n",
            "Epoch 46 Batch 0 Loss 0.7107 Accuracy 0.8182\n",
            "Epoch 46 Loss 0.6862 Accuracy 0.7774\n",
            "Time taken for 1 epoch: 3.4935970306396484 secs\n",
            "\n",
            "Epoch 47 Batch 0 Loss 0.4578 Accuracy 0.7273\n",
            "Epoch 47 Loss 0.5156 Accuracy 0.7712\n",
            "Time taken for 1 epoch: 4.226150274276733 secs\n",
            "\n",
            "Epoch 48 Batch 0 Loss 0.7245 Accuracy 0.7273\n",
            "Epoch 48 Loss 0.5326 Accuracy 0.7649\n",
            "Time taken for 1 epoch: 4.360921621322632 secs\n",
            "\n",
            "Epoch 49 Batch 0 Loss 0.6093 Accuracy 0.7273\n",
            "Epoch 49 Loss 0.4418 Accuracy 0.8119\n",
            "Time taken for 1 epoch: 4.421677112579346 secs\n",
            "\n",
            "Epoch 50 Batch 0 Loss 0.4261 Accuracy 0.9091\n",
            "Saving checkpoint for epoch 50 at /content/gdrive/MyDrive/Albert_model_output/ckpt-250\n",
            "Epoch 50 Loss 0.3504 Accuracy 0.8401\n",
            "Time taken for 1 epoch: 5.265996932983398 secs\n",
            "\n",
            "Epoch 51 Batch 0 Loss 0.2010 Accuracy 0.9091\n",
            "Epoch 51 Loss 0.4107 Accuracy 0.7994\n",
            "Time taken for 1 epoch: 4.295836687088013 secs\n",
            "\n",
            "Epoch 52 Batch 0 Loss 1.0001 Accuracy 0.8182\n",
            "Epoch 52 Loss 0.4377 Accuracy 0.8119\n",
            "Time taken for 1 epoch: 4.112029314041138 secs\n",
            "\n",
            "Epoch 53 Batch 0 Loss 0.6212 Accuracy 0.7273\n",
            "Epoch 53 Loss 0.3786 Accuracy 0.7931\n",
            "Time taken for 1 epoch: 4.554347276687622 secs\n",
            "\n",
            "Epoch 54 Batch 0 Loss 0.3451 Accuracy 0.8182\n",
            "Epoch 54 Loss 0.4641 Accuracy 0.8088\n",
            "Time taken for 1 epoch: 4.03352165222168 secs\n",
            "\n",
            "Epoch 55 Batch 0 Loss 0.2277 Accuracy 0.9091\n",
            "Saving checkpoint for epoch 55 at /content/gdrive/MyDrive/Albert_model_output/ckpt-251\n",
            "Epoch 55 Loss 0.6097 Accuracy 0.7900\n",
            "Time taken for 1 epoch: 4.236523389816284 secs\n",
            "\n",
            "Epoch 56 Batch 0 Loss 0.4921 Accuracy 0.8182\n",
            "Epoch 56 Loss 0.4523 Accuracy 0.7962\n",
            "Time taken for 1 epoch: 3.493555784225464 secs\n",
            "\n",
            "Epoch 57 Batch 0 Loss 0.2741 Accuracy 0.9091\n",
            "Epoch 57 Loss 0.3685 Accuracy 0.8245\n",
            "Time taken for 1 epoch: 3.4782204627990723 secs\n",
            "\n",
            "Epoch 58 Batch 0 Loss 0.3594 Accuracy 0.9091\n",
            "Epoch 58 Loss 0.3740 Accuracy 0.8339\n",
            "Time taken for 1 epoch: 4.629471778869629 secs\n",
            "\n",
            "Epoch 59 Batch 0 Loss 0.2784 Accuracy 0.9091\n",
            "Epoch 59 Loss 0.3596 Accuracy 0.8150\n",
            "Time taken for 1 epoch: 3.6977953910827637 secs\n",
            "\n",
            "Epoch 60 Batch 0 Loss 0.4350 Accuracy 0.9091\n",
            "Saving checkpoint for epoch 60 at /content/gdrive/MyDrive/Albert_model_output/ckpt-252\n",
            "Epoch 60 Loss 0.4142 Accuracy 0.8182\n",
            "Time taken for 1 epoch: 5.286064147949219 secs\n",
            "\n",
            "Epoch 61 Batch 0 Loss 0.3875 Accuracy 0.9091\n",
            "Epoch 61 Loss 0.4041 Accuracy 0.8245\n",
            "Time taken for 1 epoch: 4.097818851470947 secs\n",
            "\n",
            "Epoch 62 Batch 0 Loss 0.2740 Accuracy 0.9091\n",
            "Epoch 62 Loss 0.4795 Accuracy 0.7994\n",
            "Time taken for 1 epoch: 3.4273335933685303 secs\n",
            "\n",
            "Epoch 63 Batch 0 Loss 0.6120 Accuracy 0.9091\n",
            "Epoch 63 Loss 0.5311 Accuracy 0.7774\n",
            "Time taken for 1 epoch: 4.786253452301025 secs\n",
            "\n",
            "Epoch 64 Batch 0 Loss 0.3841 Accuracy 0.8182\n",
            "Epoch 64 Loss 0.5977 Accuracy 0.7398\n",
            "Time taken for 1 epoch: 3.805532217025757 secs\n",
            "\n",
            "Epoch 65 Batch 0 Loss 0.2182 Accuracy 0.9091\n",
            "Saving checkpoint for epoch 65 at /content/gdrive/MyDrive/Albert_model_output/ckpt-253\n",
            "Epoch 65 Loss 0.5780 Accuracy 0.7931\n",
            "Time taken for 1 epoch: 4.2563135623931885 secs\n",
            "\n",
            "Epoch 66 Batch 0 Loss 0.4872 Accuracy 0.8182\n",
            "Epoch 66 Loss 0.5174 Accuracy 0.7900\n",
            "Time taken for 1 epoch: 3.8394298553466797 secs\n",
            "\n",
            "Epoch 67 Batch 0 Loss 0.4003 Accuracy 0.8182\n",
            "Epoch 67 Loss 0.3866 Accuracy 0.8307\n",
            "Time taken for 1 epoch: 3.4902312755584717 secs\n",
            "\n",
            "Epoch 68 Batch 0 Loss 0.1568 Accuracy 1.0000\n",
            "Epoch 68 Loss 0.4046 Accuracy 0.8182\n",
            "Time taken for 1 epoch: 4.075449228286743 secs\n",
            "\n",
            "Epoch 69 Batch 0 Loss 0.0673 Accuracy 1.0000\n",
            "Epoch 69 Loss 0.3689 Accuracy 0.8150\n",
            "Time taken for 1 epoch: 3.541766881942749 secs\n",
            "\n",
            "Epoch 70 Batch 0 Loss 0.1396 Accuracy 0.9091\n",
            "Saving checkpoint for epoch 70 at /content/gdrive/MyDrive/Albert_model_output/ckpt-254\n",
            "Epoch 70 Loss 0.4214 Accuracy 0.8527\n",
            "Time taken for 1 epoch: 4.173487901687622 secs\n",
            "\n",
            "Epoch 71 Batch 0 Loss 0.2748 Accuracy 0.9091\n",
            "Epoch 71 Loss 0.4213 Accuracy 0.8276\n",
            "Time taken for 1 epoch: 3.509836196899414 secs\n",
            "\n",
            "Epoch 72 Batch 0 Loss 0.2898 Accuracy 0.8182\n",
            "Epoch 72 Loss 0.4325 Accuracy 0.7962\n",
            "Time taken for 1 epoch: 3.7766947746276855 secs\n",
            "\n",
            "Epoch 73 Batch 0 Loss 0.2288 Accuracy 0.8182\n",
            "Epoch 73 Loss 0.3508 Accuracy 0.8401\n",
            "Time taken for 1 epoch: 4.890707015991211 secs\n",
            "\n",
            "Epoch 74 Batch 0 Loss 0.4927 Accuracy 0.8182\n",
            "Epoch 74 Loss 0.5567 Accuracy 0.8056\n",
            "Time taken for 1 epoch: 3.838636875152588 secs\n",
            "\n",
            "Epoch 75 Batch 0 Loss 0.7198 Accuracy 0.8182\n",
            "Saving checkpoint for epoch 75 at /content/gdrive/MyDrive/Albert_model_output/ckpt-255\n",
            "Epoch 75 Loss 0.6705 Accuracy 0.7524\n",
            "Time taken for 1 epoch: 4.545485734939575 secs\n",
            "\n",
            "Epoch 76 Batch 0 Loss 0.2909 Accuracy 0.9091\n",
            "Epoch 76 Loss 1.0616 Accuracy 0.7241\n",
            "Time taken for 1 epoch: 3.8412952423095703 secs\n",
            "\n",
            "Epoch 77 Batch 0 Loss 0.4505 Accuracy 0.8182\n",
            "Epoch 77 Loss 0.4613 Accuracy 0.8056\n",
            "Time taken for 1 epoch: 3.8199169635772705 secs\n",
            "\n",
            "Epoch 78 Batch 0 Loss 1.1594 Accuracy 0.8182\n",
            "Epoch 78 Loss 0.4365 Accuracy 0.8182\n",
            "Time taken for 1 epoch: 4.3966357707977295 secs\n",
            "\n",
            "Epoch 79 Batch 0 Loss 0.3263 Accuracy 0.8182\n",
            "Epoch 79 Loss 0.3495 Accuracy 0.8307\n",
            "Time taken for 1 epoch: 4.384854078292847 secs\n",
            "\n",
            "Epoch 80 Batch 0 Loss 0.2576 Accuracy 0.9091\n",
            "Saving checkpoint for epoch 80 at /content/gdrive/MyDrive/Albert_model_output/ckpt-256\n",
            "Epoch 80 Loss 0.2645 Accuracy 0.8840\n",
            "Time taken for 1 epoch: 4.6460120677948 secs\n",
            "\n",
            "Epoch 81 Batch 0 Loss 0.1166 Accuracy 1.0000\n",
            "Epoch 81 Loss 0.3036 Accuracy 0.8871\n",
            "Time taken for 1 epoch: 3.764399528503418 secs\n",
            "\n",
            "Epoch 82 Batch 0 Loss 0.5277 Accuracy 0.9091\n",
            "Epoch 82 Loss 0.3544 Accuracy 0.8433\n",
            "Time taken for 1 epoch: 3.8235397338867188 secs\n",
            "\n",
            "Epoch 83 Batch 0 Loss 0.0734 Accuracy 1.0000\n",
            "Epoch 83 Loss 0.3514 Accuracy 0.8621\n",
            "Time taken for 1 epoch: 3.9831936359405518 secs\n",
            "\n",
            "Epoch 84 Batch 0 Loss 0.2401 Accuracy 0.9091\n",
            "Epoch 84 Loss 0.3633 Accuracy 0.8245\n",
            "Time taken for 1 epoch: 3.9297633171081543 secs\n",
            "\n",
            "Epoch 85 Batch 0 Loss 0.4964 Accuracy 0.9091\n",
            "Saving checkpoint for epoch 85 at /content/gdrive/MyDrive/Albert_model_output/ckpt-257\n",
            "Epoch 85 Loss 0.3357 Accuracy 0.8558\n",
            "Time taken for 1 epoch: 4.489120721817017 secs\n",
            "\n",
            "Epoch 86 Batch 0 Loss 0.2186 Accuracy 0.9091\n",
            "Epoch 86 Loss 0.2840 Accuracy 0.8495\n",
            "Time taken for 1 epoch: 3.8574650287628174 secs\n",
            "\n",
            "Epoch 87 Batch 0 Loss 0.3760 Accuracy 0.9091\n",
            "Epoch 87 Loss 0.3139 Accuracy 0.8495\n",
            "Time taken for 1 epoch: 3.5432493686676025 secs\n",
            "\n",
            "Epoch 88 Batch 0 Loss 0.2363 Accuracy 0.8182\n",
            "Epoch 88 Loss 0.4597 Accuracy 0.8056\n",
            "Time taken for 1 epoch: 4.384820222854614 secs\n",
            "\n",
            "Epoch 89 Batch 0 Loss 0.2001 Accuracy 0.9091\n",
            "Epoch 89 Loss 0.5114 Accuracy 0.7931\n",
            "Time taken for 1 epoch: 3.551190137863159 secs\n",
            "\n",
            "Epoch 90 Batch 0 Loss 0.6439 Accuracy 0.8182\n",
            "Saving checkpoint for epoch 90 at /content/gdrive/MyDrive/Albert_model_output/ckpt-258\n",
            "Epoch 90 Loss 0.5378 Accuracy 0.7774\n",
            "Time taken for 1 epoch: 5.239088296890259 secs\n",
            "\n",
            "Epoch 91 Batch 0 Loss 0.9547 Accuracy 0.8182\n",
            "Epoch 91 Loss 0.5111 Accuracy 0.7931\n",
            "Time taken for 1 epoch: 6.3848350048065186 secs\n",
            "\n",
            "Epoch 92 Batch 0 Loss 0.1821 Accuracy 0.9091\n",
            "Epoch 92 Loss 0.4147 Accuracy 0.8276\n",
            "Time taken for 1 epoch: 5.8604278564453125 secs\n",
            "\n",
            "Epoch 93 Batch 0 Loss 0.2000 Accuracy 0.9091\n",
            "Epoch 93 Loss 0.3063 Accuracy 0.8527\n",
            "Time taken for 1 epoch: 5.572746515274048 secs\n",
            "\n",
            "Epoch 94 Batch 0 Loss 0.2394 Accuracy 0.8182\n",
            "Epoch 94 Loss 0.3601 Accuracy 0.8464\n",
            "Time taken for 1 epoch: 5.567532300949097 secs\n",
            "\n",
            "Epoch 95 Batch 0 Loss 0.1810 Accuracy 0.9091\n",
            "Saving checkpoint for epoch 95 at /content/gdrive/MyDrive/Albert_model_output/ckpt-259\n",
            "Epoch 95 Loss 0.5091 Accuracy 0.8025\n",
            "Time taken for 1 epoch: 9.031758308410645 secs\n",
            "\n",
            "Epoch 96 Batch 0 Loss 0.3476 Accuracy 0.8182\n",
            "Epoch 96 Loss 0.5176 Accuracy 0.8245\n",
            "Time taken for 1 epoch: 4.036796569824219 secs\n",
            "\n",
            "Epoch 97 Batch 0 Loss 0.2579 Accuracy 0.9091\n",
            "Epoch 97 Loss 0.4815 Accuracy 0.8213\n",
            "Time taken for 1 epoch: 4.334301233291626 secs\n",
            "\n",
            "Epoch 98 Batch 0 Loss 0.0510 Accuracy 1.0000\n",
            "Epoch 98 Loss 0.3392 Accuracy 0.8339\n",
            "Time taken for 1 epoch: 4.645027160644531 secs\n",
            "\n",
            "Epoch 99 Batch 0 Loss 0.0953 Accuracy 1.0000\n",
            "Epoch 99 Loss 0.2462 Accuracy 0.8871\n",
            "Time taken for 1 epoch: 3.843156576156616 secs\n",
            "\n",
            "Epoch 100 Batch 0 Loss 0.0677 Accuracy 1.0000\n",
            "Saving checkpoint for epoch 100 at /content/gdrive/MyDrive/Albert_model_output/ckpt-260\n",
            "Epoch 100 Loss 0.3382 Accuracy 0.8683\n",
            "Time taken for 1 epoch: 4.995206594467163 secs\n",
            "\n"
          ]
        }
      ]
    },
    {
      "cell_type": "code",
      "source": [
        "transformer.summary()"
      ],
      "metadata": {
        "colab": {
          "base_uri": "https://localhost:8080/"
        },
        "id": "6Az5lpoPMsWh",
        "outputId": "93caddee-e1eb-4f12-fc31-540c31100a78"
      },
      "execution_count": null,
      "outputs": [
        {
          "output_type": "stream",
          "name": "stdout",
          "text": [
            "Model: \"transformer\"\n",
            "_________________________________________________________________\n",
            " Layer (type)                Output Shape              Param #   \n",
            "=================================================================\n",
            " encoder (Encoder)           multiple                  4633088   \n",
            "                                                                 \n",
            " decoder (Decoder)           multiple                  4898304   \n",
            "                                                                 \n",
            " dense_64 (Dense)            multiple                  3870000   \n",
            "                                                                 \n",
            "=================================================================\n",
            "Total params: 13,401,392\n",
            "Trainable params: 13,401,392\n",
            "Non-trainable params: 0\n",
            "_________________________________________________________________\n"
          ]
        }
      ]
    },
    {
      "cell_type": "code",
      "source": [
        "def evaluate(inp_sentence):\n",
        "\n",
        "\n",
        "    inp_sentence = tokenizer_func.encode(\"[CLS]\"+inp_sentence+\"[SEP]\").ids\n",
        "    encoder_input = tf.expand_dims(inp_sentence, 0)\n",
        "\n",
        "\n",
        "    decoder_input = tokenizer_doc.encode(\"[CLS]\").ids\n",
        "    output = tf.expand_dims(decoder_input, 0)\n",
        "\n",
        "    for i in range(50):\n",
        "        enc_padding_mask, combined_mask, dec_padding_mask = create_masks(\n",
        "            encoder_input, output)\n",
        "\n",
        "        predictions, attention_weights = transformer(encoder_input,\n",
        "                                                     output,\n",
        "                                                     False,\n",
        "                                                     enc_padding_mask,\n",
        "                                                     combined_mask,\n",
        "                                                     dec_padding_mask)\n",
        "\n",
        "\n",
        "        predictions = predictions[: ,-1:, :]\n",
        "\n",
        "        predicted_id = tf.cast(tf.argmax(predictions, axis=-1), tf.int32)\n",
        "\n",
        "\n",
        "        if predicted_id == 3:\n",
        "            return tf.squeeze(output, axis=0), attention_weights\n",
        "\n",
        "        output = tf.concat([output, predicted_id], axis=-1)\n",
        "\n",
        "    return tf.squeeze(output, axis=0), attention_weights"
      ],
      "metadata": {
        "id": "oNc4yT86QuWa"
      },
      "execution_count": null,
      "outputs": []
    },
    {
      "cell_type": "code",
      "source": [
        "def translate(sentence, plot=''):\n",
        "    result, attention_weights = evaluate(sentence)\n",
        "\n",
        "    predicted_sentence = tokenizer_doc.decode([i for i in result\n",
        "                                            ])\n",
        "\n",
        "    print('Input: {}'.format(sentence))\n",
        "    print('Predicted translation: {}'.format(predicted_sentence))"
      ],
      "metadata": {
        "id": "_MpabXM4QzK3"
      },
      "execution_count": null,
      "outputs": []
    },
    {
      "cell_type": "code",
      "source": [
        "x=pd.read_csv('/content/gdrive/MyDrive/SCE_dataset/function_tokens.txt',names=['functions'])\n",
        "y = pd.read_csv('/content/gdrive/MyDrive/SCE_dataset/docstrings.txt',names=['docstrings'])"
      ],
      "metadata": {
        "id": "GmJW0ytlQ1bC"
      },
      "execution_count": null,
      "outputs": []
    },
    {
      "cell_type": "code",
      "source": [
        "translate(x['functions'][0])\n",
        "print (\"Real translation: \",y['docstrings'][0])"
      ],
      "metadata": {
        "colab": {
          "base_uri": "https://localhost:8080/"
        },
        "id": "Wwn0n9lxQ3f4",
        "outputId": "d9d6fdfd-1219-415f-d2db-86cf33d6757e"
      },
      "execution_count": null,
      "outputs": [
        {
          "output_type": "stream",
          "name": "stdout",
          "text": [
            "Input: insertion sort elements for in range 1 len elements anchor elements 1 while 0 and anchor elements elements 1 elements 1 elements 1 anchor\n",
            "Predicted translation: perform an insertion sort for given n elements of array\n",
            "Real translation:  perform an insertion sort for given n elements of array\n"
          ]
        }
      ]
    },
    {
      "cell_type": "code",
      "source": [
        "translate(x['functions'][3])\n",
        "print (\"Real translation: \",y['docstrings'][3])"
      ],
      "metadata": {
        "colab": {
          "base_uri": "https://localhost:8080/"
        },
        "id": "5EXFtXUSQ5eE",
        "outputId": "7e444b1c-fd7e-417f-badc-38c602044728"
      },
      "execution_count": null,
      "outputs": [
        {
          "output_type": "stream",
          "name": "stdout",
          "text": [
            "Input: decrypt cipher list int key list int str plain for in range len key int cipher key 2 key plain append chr return join for in plain\n",
            "Predicted translation: function to convert a decimal to binary\n",
            "Real translation:  function to decrypt text using pseudo random numbers\n"
          ]
        }
      ]
    },
    {
      "cell_type": "code",
      "source": [
        "translate(x['functions'][13])\n",
        "print (\"Real translation: \",y['docstrings'][13])"
      ],
      "metadata": {
        "colab": {
          "base_uri": "https://localhost:8080/"
        },
        "id": "SJYJjGGrQ-3-",
        "outputId": "564a127c-9f57-4d51-9caa-fc7f1104ccaf"
      },
      "execution_count": null,
      "outputs": [
        {
          "output_type": "stream",
          "name": "stdout",
          "text": [
            "Input: split string str separator str list split words last index 0 for index char in enumerate string if char separator split words append string last index index last index index 1 elif index 1 len string split words append string last index index 1 return split words\n",
            "Predicted translation: returns the image with corners identified img path\n",
            "Real translation:  will split the string up into all the values separated by the separator\n"
          ]
        }
      ]
    },
    {
      "cell_type": "markdown",
      "source": [
        "## Using transformer to generate function vectors"
      ],
      "metadata": {
        "id": "7OkqtA5HRPrh"
      }
    },
    {
      "cell_type": "code",
      "source": [
        "input_functions=pd.read_csv('/content/gdrive/MyDrive/SCE_dataset/function_tokens.txt',names=['functions'])"
      ],
      "metadata": {
        "id": "O1wVq04WRHOL"
      },
      "execution_count": null,
      "outputs": []
    },
    {
      "cell_type": "code",
      "source": [
        "import fileinput\n",
        "import sys\n",
        "\n",
        "from contextlib import closing\n",
        "\n",
        "n_features = 768\n",
        "def read_csv():\n",
        "  # Reading multiple files using FileInput. Note the order of the input matters and it is in the order provided that files are read\n",
        "  # closing ensures the file object is destroyed after use.\n",
        "    with closing(fileinput.input(files=('/content/gdrive/MyDrive/SCE_dataset/avg_embeddings.tsv'))) as finput:\n",
        "        for index,line in enumerate(finput):\n",
        "            record = line.rstrip().split('\\t')\n",
        "            features = [float(n) for n in record]\n",
        "            function = tokenizer_func.encode(input_functions['functions'].values[index]).ids\n",
        "            yield function,features\n",
        "\n",
        "def get_dataset():\n",
        "    generator = lambda: read_csv()\n",
        "    return tf.data.Dataset.from_generator(\n",
        "        generator, (tf.int32,tf.float32), ((None,),(768)))"
      ],
      "metadata": {
        "id": "cZMwts5iRT05"
      },
      "execution_count": null,
      "outputs": []
    },
    {
      "cell_type": "code",
      "source": [
        "d = get_dataset()"
      ],
      "metadata": {
        "id": "HaZdBBAiRXNs"
      },
      "execution_count": null,
      "outputs": []
    },
    {
      "cell_type": "code",
      "source": [
        "train_dataset = d\n",
        "print(train_dataset)\n",
        "\n",
        "BATCH_SIZE = 1\n",
        "train_dataset = train_dataset.padded_batch(BATCH_SIZE,padded_shapes=((None,), (768,)))"
      ],
      "metadata": {
        "colab": {
          "base_uri": "https://localhost:8080/"
        },
        "id": "mbWwEzlRRY_q",
        "outputId": "af3d33b4-9b80-4236-ae89-d96881bacdd8"
      },
      "execution_count": null,
      "outputs": [
        {
          "output_type": "stream",
          "name": "stdout",
          "text": [
            "<FlatMapDataset element_spec=(TensorSpec(shape=(None,), dtype=tf.int32, name=None), TensorSpec(shape=(768,), dtype=tf.float32, name=None))>\n"
          ]
        }
      ]
    },
    {
      "cell_type": "code",
      "source": [
        "\n",
        "\n",
        "def get_angles(pos, i, d_model):\n",
        "    angle_rates = 1 / np.power(10000, (2 * (i//2)) / np.float32(d_model))\n",
        "    return pos * angle_rates\n",
        "\n",
        "\n",
        "\n",
        "def positional_encoding(position, d_model):\n",
        "    angle_rads = get_angles(np.arange(position)[:, np.newaxis],\n",
        "                          np.arange(d_model)[np.newaxis, :],\n",
        "                          d_model)\n",
        "\n",
        "\n",
        "    angle_rads[:, 0::2] = np.sin(angle_rads[:, 0::2])\n",
        "\n",
        "\n",
        "    angle_rads[:, 1::2] = np.cos(angle_rads[:, 1::2])\n",
        "\n",
        "    pos_encoding = angle_rads[np.newaxis, ...]\n",
        "\n",
        "    return tf.cast(pos_encoding, dtype=tf.float32)\n",
        "\n",
        "\n",
        "\n",
        "pos_encoding = positional_encoding(50, 512)\n",
        "print (pos_encoding.shape)\n",
        "\n"
      ],
      "metadata": {
        "colab": {
          "base_uri": "https://localhost:8080/"
        },
        "id": "UIGka2ItRdD9",
        "outputId": "c3c731e7-3d3d-4799-e02c-b1b5526398f5"
      },
      "execution_count": null,
      "outputs": [
        {
          "output_type": "stream",
          "name": "stdout",
          "text": [
            "5\n",
            "(1, 50, 512)\n"
          ]
        }
      ]
    },
    {
      "cell_type": "code",
      "source": [
        "def create_padding_mask(seq):\n",
        "    seq = tf.cast(tf.math.equal(seq, 0), tf.float32)\n",
        "\n",
        "\n",
        "    return seq[:, tf.newaxis, tf.newaxis, :]"
      ],
      "metadata": {
        "id": "rFMq-bVVRhJX"
      },
      "execution_count": null,
      "outputs": []
    },
    {
      "cell_type": "code",
      "source": [
        "def scaled_dot_product_attention(q, k, v, mask):\n",
        "    matmul_qk = tf.matmul(q, k, transpose_b=True)\n",
        "\n",
        "    dk = tf.cast(tf.shape(k)[-1], tf.float32)\n",
        "    scaled_attention_logits = matmul_qk / tf.math.sqrt(dk)\n",
        "\n",
        "    if mask is not None:\n",
        "        scaled_attention_logits += (mask * -1e9)\n",
        "\n",
        "\n",
        "    attention_weights = tf.nn.softmax(scaled_attention_logits, axis=-1)\n",
        "\n",
        "    output = tf.matmul(attention_weights, v)\n",
        "\n",
        "    return output, attention_weights"
      ],
      "metadata": {
        "id": "FpoqBn7wRqe9"
      },
      "execution_count": null,
      "outputs": []
    },
    {
      "cell_type": "code",
      "source": [
        "def print_out(q, k, v):\n",
        "    temp_out, temp_attn = scaled_dot_product_attention(q, k, v, None)\n",
        "    print ('Attention weights are:')\n",
        "    print (temp_attn)\n",
        "    print ('Output is:')\n",
        "    print (temp_out)"
      ],
      "metadata": {
        "id": "zZB6JpXWRsJ9"
      },
      "execution_count": null,
      "outputs": []
    },
    {
      "cell_type": "code",
      "source": [
        "class MultiHeadAttention(tf.keras.layers.Layer):\n",
        "    def __init__(self, d_model, num_heads):\n",
        "        super(MultiHeadAttention, self).__init__()\n",
        "        self.num_heads = num_heads\n",
        "        self.d_model = d_model  # typically 512\n",
        "\n",
        "        assert d_model % self.num_heads == 0\n",
        "\n",
        "        self.depth = d_model // self.num_heads\n",
        "\n",
        "        self.wq = tf.keras.layers.Dense(d_model)\n",
        "        self.wk = tf.keras.layers.Dense(d_model)\n",
        "        self.wv = tf.keras.layers.Dense(d_model)\n",
        "\n",
        "        self.dense = tf.keras.layers.Dense(d_model)\n",
        "\n",
        "    def split_heads(self, x, batch_size):\n",
        "        x = tf.reshape(x, (batch_size, -1, self.num_heads, self.depth))\n",
        "        return tf.transpose(x, perm=[0, 2, 1, 3])\n",
        "\n",
        "    def call(self, v, k, q, mask):\n",
        "        batch_size = tf.shape(q)[0]\n",
        "\n",
        "        q = self.wq(q)\n",
        "        k = self.wk(k)\n",
        "        v = self.wv(v)\n",
        "\n",
        "        q = self.split_heads(q, batch_size)\n",
        "        k = self.split_heads(k, batch_size)\n",
        "        v = self.split_heads(v, batch_size)\n",
        "\n",
        "\n",
        "        scaled_attention, attention_weights = scaled_dot_product_attention(\n",
        "            q, k, v, mask)\n",
        "\n",
        "        scaled_attention = tf.transpose(scaled_attention, perm=[0, 2, 1, 3])\n",
        "\n",
        "        concat_attention = tf.reshape(scaled_attention,\n",
        "                                      (batch_size, -1, self.d_model))\n",
        "\n",
        "        output = self.dense(concat_attention)\n",
        "\n",
        "        return output, attention_weights"
      ],
      "metadata": {
        "id": "qFp_oCcqRuCq"
      },
      "execution_count": null,
      "outputs": []
    },
    {
      "cell_type": "code",
      "source": [
        "def point_wise_feed_forward_network(d_model, dff):\n",
        "    return tf.keras.Sequential([\n",
        "          tf.keras.layers.Dense(dff, activation='relu'),\n",
        "          tf.keras.layers.Dense(d_model)\n",
        "      ])"
      ],
      "metadata": {
        "id": "WrE9HkrDRvyM"
      },
      "execution_count": null,
      "outputs": []
    },
    {
      "cell_type": "code",
      "source": [
        "class EncoderLayer(tf.keras.layers.Layer):\n",
        "    def __init__(self, d_model, num_heads, dff, rate=0.1):\n",
        "        super(EncoderLayer, self).__init__()\n",
        "\n",
        "        self.mha = MultiHeadAttention(d_model, num_heads)\n",
        "        self.ffn = point_wise_feed_forward_network(d_model, dff)\n",
        "\n",
        "        self.layernorm1 = tf.keras.layers.LayerNormalization(epsilon=1e-6)\n",
        "        self.layernorm2 = tf.keras.layers.LayerNormalization(epsilon=1e-6)\n",
        "\n",
        "        self.dropout1 = tf.keras.layers.Dropout(rate)\n",
        "        self.dropout2 = tf.keras.layers.Dropout(rate)\n",
        "\n",
        "    def call(self, x, training, mask):\n",
        "\n",
        "        attn_output, _ = self.mha(x, x, x, mask)\n",
        "        attn_output = self.dropout1(attn_output, training=training)\n",
        "        out1 = self.layernorm1(x + attn_output)\n",
        "\n",
        "        ffn_output = self.ffn(out1)\n",
        "        ffn_output = self.dropout2(ffn_output, training=training)\n",
        "        out2 = self.layernorm2(out1 + ffn_output)\n",
        "\n",
        "        return out2"
      ],
      "metadata": {
        "id": "M9BTg-VQRxto"
      },
      "execution_count": null,
      "outputs": []
    },
    {
      "cell_type": "code",
      "source": [
        "class Encoder(tf.keras.layers.Layer):\n",
        "    def __init__(self, num_layers, d_model, num_heads, dff, input_vocab_size,\n",
        "               maximum_position_encoding, rate=0.1):\n",
        "        super(Encoder, self).__init__()\n",
        "\n",
        "        self.d_model = d_model\n",
        "        self.num_layers = num_layers\n",
        "\n",
        "        self.embedding = tf.keras.layers.Embedding(input_vocab_size, d_model)\n",
        "        self.pos_encoding = positional_encoding(maximum_position_encoding,\n",
        "                                                self.d_model)\n",
        "\n",
        "\n",
        "        self.enc_layers = [EncoderLayer(d_model, num_heads, dff, rate)\n",
        "                           for _ in range(num_layers)]\n",
        "\n",
        "        self.dropout = tf.keras.layers.Dropout(rate)\n",
        "\n",
        "    def call(self, x, training, mask):\n",
        "\n",
        "        seq_len = tf.shape(x)[1]\n",
        "\n",
        "        # adding embedding and position encoding.\n",
        "        x = self.embedding(x)  # (batch_size, input_seq_len, d_model)\n",
        "        x *= tf.math.sqrt(tf.cast(self.d_model, tf.float32))\n",
        "        x += self.pos_encoding[:, :seq_len, :]\n",
        "\n",
        "        x = self.dropout(x, training=training)\n",
        "\n",
        "        for i in range(self.num_layers):\n",
        "            x = self.enc_layers[i](x, training, mask)\n",
        "\n",
        "        return x  # (batch_size, input_seq_len, d_model)\n",
        "\n",
        "    def get_config(self):\n",
        "\n",
        "        config = super().get_config().copy()\n",
        "        config.update({\n",
        "            'num_layers': self.num_layers,\n",
        "            'd_model': self.d_model,\n",
        "            'num_heads': self.num_heads,\n",
        "            'dff': self.dff,\n",
        "            'input_vocab_size':self.input_vocab_size,\n",
        "            'maximum_position_encoding':self.maximum_position_encoding,\n",
        "            'rate':self.rate\n",
        "        })\n",
        "        return config"
      ],
      "metadata": {
        "id": "e28eZC-7RzPu"
      },
      "execution_count": null,
      "outputs": []
    },
    {
      "cell_type": "code",
      "source": [
        "sample_encoder = Encoder(num_layers=2, d_model=512, num_heads=8,\n",
        "                         dff=2048, input_vocab_size=8500,\n",
        "                         maximum_position_encoding=10000)\n",
        "temp_input = tf.random.uniform((64, 62), dtype=tf.int64, minval=0, maxval=200)\n",
        "\n",
        "sample_encoder_output = sample_encoder(temp_input, training=False, mask=None)\n",
        "\n",
        "print (sample_encoder_output.shape)"
      ],
      "metadata": {
        "colab": {
          "base_uri": "https://localhost:8080/"
        },
        "id": "EboGyrULR1aQ",
        "outputId": "8304ad57-09b9-4329-b94b-9b9ebb24e297"
      },
      "execution_count": null,
      "outputs": [
        {
          "output_type": "stream",
          "name": "stdout",
          "text": [
            "(64, 62, 512)\n"
          ]
        }
      ]
    },
    {
      "cell_type": "code",
      "source": [
        "# bt creating a modified transformer we will be converting function code to 768 dimensional vector\n",
        "class Transformer(tf.keras.Model):\n",
        "    def __init__(self, num_layers, d_model, num_heads, dff, input_vocab_size, pe_input, rate=0.1):\n",
        "        super(Transformer, self).__init__()\n",
        "\n",
        "        self.encoder = Encoder(num_layers, d_model, num_heads, dff,\n",
        "                               input_vocab_size, pe_input, rate)\n",
        "        self.lstm = tf.keras.layers.LSTM(1000)\n",
        "\n",
        "        self.final_layer = tf.keras.layers.Dense(768)\n",
        "\n",
        "    def call(self, inp, training, enc_padding_mask):\n",
        "\n",
        "        enc_output = self.encoder(inp, training, enc_padding_mask)  # (batch_size, inp_seq_len, d_model)\n",
        "        lstm_output = self.lstm(enc_output)\n",
        "        final_output = self.final_layer(lstm_output)  # (batch_size, tar_seq_len, target_vocab_size)\n",
        "\n",
        "        return final_output"
      ],
      "metadata": {
        "id": "WeXz79USR3ch"
      },
      "execution_count": null,
      "outputs": []
    },
    {
      "cell_type": "code",
      "source": [
        "sample_transformer = Transformer(num_layers=2, d_model=512, num_heads=8, dff=2048,input_vocab_size=8500,pe_input=10000)\n",
        "\n",
        "temp_input = tf.random.uniform((64, 38), dtype=tf.int64, minval=0, maxval=200)\n",
        "\n",
        "fn_out = sample_transformer(temp_input, training=False,enc_padding_mask=None)\n",
        "\n",
        "fn_out.shape  # (batch_size, 768)"
      ],
      "metadata": {
        "colab": {
          "base_uri": "https://localhost:8080/"
        },
        "id": "9NKT_hXBR-uO",
        "outputId": "82812828-ef98-4600-96bd-932cfd3a0656"
      },
      "execution_count": null,
      "outputs": [
        {
          "output_type": "execute_result",
          "data": {
            "text/plain": [
              "TensorShape([64, 768])"
            ]
          },
          "metadata": {},
          "execution_count": 71
        }
      ]
    },
    {
      "cell_type": "code",
      "source": [
        "sample_transformer.summary()"
      ],
      "metadata": {
        "colab": {
          "base_uri": "https://localhost:8080/"
        },
        "id": "Gd4kIbJ0SAIF",
        "outputId": "6c9bb522-ca84-426b-d4a4-e5b9aa49c40f"
      },
      "execution_count": null,
      "outputs": [
        {
          "output_type": "stream",
          "name": "stdout",
          "text": [
            "Model: \"transformer_1\"\n",
            "_________________________________________________________________\n",
            " Layer (type)                Output Shape              Param #   \n",
            "=================================================================\n",
            " encoder_2 (Encoder)         multiple                  10656768  \n",
            "                                                                 \n",
            " lstm (LSTM)                 multiple                  6052000   \n",
            "                                                                 \n",
            " dense_89 (Dense)            multiple                  768768    \n",
            "                                                                 \n",
            "=================================================================\n",
            "Total params: 17,477,536\n",
            "Trainable params: 17,477,536\n",
            "Non-trainable params: 0\n",
            "_________________________________________________________________\n"
          ]
        }
      ]
    },
    {
      "cell_type": "code",
      "source": [
        "num_layers = 4\n",
        "d_model = 128\n",
        "dff = 512\n",
        "num_heads = 8\n",
        "\n",
        "\n",
        "input_vocab_size = 30000\n",
        "dropout_rate = 0.1"
      ],
      "metadata": {
        "id": "3TrR-_ofSDwR"
      },
      "execution_count": null,
      "outputs": []
    },
    {
      "cell_type": "code",
      "source": [
        "class CustomSchedule(tf.keras.optimizers.schedules.LearningRateSchedule):\n",
        "    def __init__(self, d_model, warmup_steps=4000):\n",
        "        super(CustomSchedule, self).__init__()\n",
        "\n",
        "        self.d_model = d_model\n",
        "        self.d_model = tf.cast(self.d_model, tf.float32)\n",
        "\n",
        "        self.warmup_steps = warmup_steps\n",
        "\n",
        "    def __call__(self, step):\n",
        "        arg1 = tf.math.rsqrt(step)\n",
        "        arg2 = step * (self.warmup_steps ** -1.5)\n",
        "\n",
        "        return tf.math.rsqrt(self.d_model) * tf.math.minimum(arg1, arg2)"
      ],
      "metadata": {
        "id": "wGe4Duv2SNF6"
      },
      "execution_count": null,
      "outputs": []
    },
    {
      "cell_type": "code",
      "source": [
        "learning_rate = CustomSchedule(d_model)\n",
        "\n",
        "optimizer = tf.keras.optimizers.Adam(learning_rate, beta_1=0.9, beta_2=0.98,\n",
        "                                     epsilon=1e-9)"
      ],
      "metadata": {
        "id": "XKgvxeLsSOvX"
      },
      "execution_count": null,
      "outputs": []
    },
    {
      "cell_type": "code",
      "source": [
        "temp_learning_rate_schedule = CustomSchedule(d_model)\n",
        "\n",
        "plt.plot(temp_learning_rate_schedule(tf.range(25000, dtype=tf.float32)))\n",
        "plt.ylabel(\"Learning Rate\")\n",
        "plt.xlabel(\"Train Step\")"
      ],
      "metadata": {
        "colab": {
          "base_uri": "https://localhost:8080/",
          "height": 296
        },
        "id": "pPwH8IvlSQK_",
        "outputId": "d0d789a4-2839-4ac8-d206-bd1081544dc0"
      },
      "execution_count": null,
      "outputs": [
        {
          "output_type": "execute_result",
          "data": {
            "text/plain": [
              "Text(0.5, 0, 'Train Step')"
            ]
          },
          "metadata": {},
          "execution_count": 76
        },
        {
          "output_type": "display_data",
          "data": {
            "text/plain": [
              "<Figure size 432x288 with 1 Axes>"
            ],
            "image/png": "[encoded data removed]"
          },
          "metadata": {
            "needs_background": "light"
          }
        }
      ]
    },
    {
      "cell_type": "code",
      "source": [
        "# we use cosine similairty as the loss we wish to optimize on\n",
        "loss_object = tf.keras.losses.CosineSimilarity(axis=1)"
      ],
      "metadata": {
        "id": "7YBxUmhWSTWw"
      },
      "execution_count": null,
      "outputs": []
    },
    {
      "cell_type": "code",
      "source": [
        "# our loss function\n",
        "def loss_function(real, pred):\n",
        "    loss = loss_object(real, pred)\n",
        "\n",
        "    return loss"
      ],
      "metadata": {
        "id": "iXXR_KyiSeDB"
      },
      "execution_count": null,
      "outputs": []
    },
    {
      "cell_type": "code",
      "source": [
        "train_loss = tf.keras.metrics.Mean(name='train_loss')"
      ],
      "metadata": {
        "id": "kIe9rmMTSfuR"
      },
      "execution_count": null,
      "outputs": []
    },
    {
      "cell_type": "code",
      "source": [
        "modified_transformer = Transformer(num_layers, d_model, num_heads, dff,\n",
        "                          input_vocab_size,\n",
        "                          pe_input=input_vocab_size,\n",
        "                          rate=dropout_rate)"
      ],
      "metadata": {
        "id": "dey0R2D0SiE8"
      },
      "execution_count": null,
      "outputs": []
    },
    {
      "cell_type": "code",
      "source": [
        "# we only create the encoder mask\n",
        "def create_masks(inp):\n",
        "    enc_padding_mask = create_padding_mask(inp)\n",
        "\n",
        "    return enc_padding_mask"
      ],
      "metadata": {
        "id": "ZBlLRqQESjn_"
      },
      "execution_count": null,
      "outputs": []
    },
    {
      "cell_type": "code",
      "source": [
        "EPOCHS = 100\n",
        "train_step_signature = [\n",
        "    tf.TensorSpec(shape=(None, None), dtype=tf.int32),\n",
        "    tf.TensorSpec(shape=(None, None), dtype=tf.float32),\n",
        "]\n",
        "\n",
        "@tf.function(input_signature=train_step_signature)\n",
        "def train_step(inp, tar):\n",
        "\n",
        "    enc_padding_mask = create_masks(inp)\n",
        "\n",
        "    with tf.GradientTape() as tape:\n",
        "        predictions = modified_transformer(inp,\n",
        "                                     True,\n",
        "                                     enc_padding_mask)\n",
        "        loss = loss_function(tar, predictions)\n",
        "\n",
        "    gradients = tape.gradient(loss, modified_transformer.trainable_variables)\n",
        "    optimizer.apply_gradients(zip(gradients, modified_transformer.trainable_variables))\n",
        "\n",
        "    train_loss(loss)"
      ],
      "metadata": {
        "id": "2Lk-QuPYSmRs"
      },
      "execution_count": null,
      "outputs": []
    },
    {
      "cell_type": "code",
      "source": [
        "for epoch in range(EPOCHS):\n",
        "    start = time.time()\n",
        "\n",
        "    train_loss.reset_states()\n",
        "\n",
        "    for (batch, (inp, tar)) in enumerate(train_dataset):\n",
        "        train_step(inp, tar)\n",
        "\n",
        "        if batch % 50 == 0:\n",
        "            print ('Epoch {} Batch {} Loss {:.4f}'.format(epoch + 1, batch, train_loss.result()))\n",
        "\n",
        "    ckpt_save_path = ckpt_manager.save()\n",
        "    print ('Saving checkpoint for epoch {} at {}'.format(epoch+1,\n",
        "                                                             ckpt_save_path))\n",
        "\n",
        "    print ('Epoch {} Loss {:.4f}'.format(epoch + 1,\n",
        "                                                train_loss.result(), ))\n",
        "\n",
        "    print ('Time taken for 1 epoch: {} secs\\n'.format(time.time() - start))"
      ],
      "metadata": {
        "colab": {
          "base_uri": "https://localhost:8080/"
        },
        "id": "Ei-PdIdAStSF",
        "outputId": "db12d5bc-85a4-48a3-c69e-c40c62c2c015"
      },
      "execution_count": null,
      "outputs": [
        {
          "output_type": "stream",
          "name": "stdout",
          "text": [
            "Epoch 1 Batch 0 Loss 0.5584\n",
            "Saving checkpoint for epoch 1 at /content/gdrive/MyDrive/Albert_model_output/ckpt-277\n",
            "Epoch 1 Loss -0.7046\n",
            "Time taken for 1 epoch: 27.82369065284729 secs\n",
            "\n",
            "Epoch 2 Batch 0 Loss -0.9541\n",
            "Saving checkpoint for epoch 2 at /content/gdrive/MyDrive/Albert_model_output/ckpt-278\n",
            "Epoch 2 Loss -0.9635\n",
            "Time taken for 1 epoch: 23.631070137023926 secs\n",
            "\n",
            "Epoch 3 Batch 0 Loss -0.9574\n",
            "Saving checkpoint for epoch 3 at /content/gdrive/MyDrive/Albert_model_output/ckpt-279\n",
            "Epoch 3 Loss -0.9647\n",
            "Time taken for 1 epoch: 23.799383640289307 secs\n",
            "\n",
            "Epoch 4 Batch 0 Loss -0.9570\n",
            "Saving checkpoint for epoch 4 at /content/gdrive/MyDrive/Albert_model_output/ckpt-280\n",
            "Epoch 4 Loss -0.9645\n",
            "Time taken for 1 epoch: 24.005786180496216 secs\n",
            "\n",
            "Epoch 5 Batch 0 Loss -0.9567\n",
            "Saving checkpoint for epoch 5 at /content/gdrive/MyDrive/Albert_model_output/ckpt-281\n",
            "Epoch 5 Loss -0.9644\n",
            "Time taken for 1 epoch: 24.38269329071045 secs\n",
            "\n",
            "Epoch 6 Batch 0 Loss -0.9562\n",
            "Saving checkpoint for epoch 6 at /content/gdrive/MyDrive/Albert_model_output/ckpt-282\n",
            "Epoch 6 Loss -0.9642\n",
            "Time taken for 1 epoch: 22.986917972564697 secs\n",
            "\n",
            "Epoch 7 Batch 0 Loss -0.9560\n",
            "Saving checkpoint for epoch 7 at /content/gdrive/MyDrive/Albert_model_output/ckpt-283\n",
            "Epoch 7 Loss -0.9641\n",
            "Time taken for 1 epoch: 22.34316897392273 secs\n",
            "\n",
            "Epoch 8 Batch 0 Loss -0.9558\n",
            "Saving checkpoint for epoch 8 at /content/gdrive/MyDrive/Albert_model_output/ckpt-284\n",
            "Epoch 8 Loss -0.9641\n",
            "Time taken for 1 epoch: 22.126771211624146 secs\n",
            "\n",
            "Epoch 9 Batch 0 Loss -0.9558\n",
            "Saving checkpoint for epoch 9 at /content/gdrive/MyDrive/Albert_model_output/ckpt-285\n",
            "Epoch 9 Loss -0.9643\n",
            "Time taken for 1 epoch: 20.42541480064392 secs\n",
            "\n",
            "Epoch 10 Batch 0 Loss -0.9558\n",
            "Saving checkpoint for epoch 10 at /content/gdrive/MyDrive/Albert_model_output/ckpt-286\n",
            "Epoch 10 Loss -0.9644\n",
            "Time taken for 1 epoch: 23.52994680404663 secs\n",
            "\n",
            "Epoch 11 Batch 0 Loss -0.9558\n",
            "Saving checkpoint for epoch 11 at /content/gdrive/MyDrive/Albert_model_output/ckpt-287\n",
            "Epoch 11 Loss -0.9646\n",
            "Time taken for 1 epoch: 22.83935236930847 secs\n",
            "\n",
            "Epoch 12 Batch 0 Loss -0.9560\n",
            "Saving checkpoint for epoch 12 at /content/gdrive/MyDrive/Albert_model_output/ckpt-288\n",
            "Epoch 12 Loss -0.9647\n",
            "Time taken for 1 epoch: 22.220836400985718 secs\n",
            "\n",
            "Epoch 13 Batch 0 Loss -0.9560\n",
            "Saving checkpoint for epoch 13 at /content/gdrive/MyDrive/Albert_model_output/ckpt-289\n",
            "Epoch 13 Loss -0.9649\n",
            "Time taken for 1 epoch: 22.22606372833252 secs\n",
            "\n",
            "Epoch 14 Batch 0 Loss -0.9562\n",
            "Saving checkpoint for epoch 14 at /content/gdrive/MyDrive/Albert_model_output/ckpt-290\n",
            "Epoch 14 Loss -0.9651\n",
            "Time taken for 1 epoch: 22.369133710861206 secs\n",
            "\n",
            "Epoch 15 Batch 0 Loss -0.9560\n",
            "Saving checkpoint for epoch 15 at /content/gdrive/MyDrive/Albert_model_output/ckpt-291\n",
            "Epoch 15 Loss -0.9652\n",
            "Time taken for 1 epoch: 21.521432638168335 secs\n",
            "\n",
            "Epoch 16 Batch 0 Loss -0.9554\n",
            "Saving checkpoint for epoch 16 at /content/gdrive/MyDrive/Albert_model_output/ckpt-292\n",
            "Epoch 16 Loss -0.9652\n",
            "Time taken for 1 epoch: 22.112491846084595 secs\n",
            "\n",
            "Epoch 17 Batch 0 Loss -0.9556\n",
            "Saving checkpoint for epoch 17 at /content/gdrive/MyDrive/Albert_model_output/ckpt-293\n",
            "Epoch 17 Loss -0.9654\n",
            "Time taken for 1 epoch: 22.247217655181885 secs\n",
            "\n",
            "Epoch 18 Batch 0 Loss -0.9564\n",
            "Saving checkpoint for epoch 18 at /content/gdrive/MyDrive/Albert_model_output/ckpt-294\n",
            "Epoch 18 Loss -0.9656\n",
            "Time taken for 1 epoch: 23.07319402694702 secs\n",
            "\n",
            "Epoch 19 Batch 0 Loss -0.9565\n",
            "Saving checkpoint for epoch 19 at /content/gdrive/MyDrive/Albert_model_output/ckpt-295\n",
            "Epoch 19 Loss -0.9651\n",
            "Time taken for 1 epoch: 21.61508059501648 secs\n",
            "\n",
            "Epoch 20 Batch 0 Loss -0.9564\n",
            "Saving checkpoint for epoch 20 at /content/gdrive/MyDrive/Albert_model_output/ckpt-296\n",
            "Epoch 20 Loss -0.9657\n",
            "Time taken for 1 epoch: 22.75015163421631 secs\n",
            "\n",
            "Epoch 21 Batch 0 Loss -0.9566\n",
            "Saving checkpoint for epoch 21 at /content/gdrive/MyDrive/Albert_model_output/ckpt-297\n",
            "Epoch 21 Loss -0.9665\n",
            "Time taken for 1 epoch: 22.919381618499756 secs\n",
            "\n",
            "Epoch 22 Batch 0 Loss -0.9580\n",
            "Saving checkpoint for epoch 22 at /content/gdrive/MyDrive/Albert_model_output/ckpt-298\n",
            "Epoch 22 Loss -0.9672\n",
            "Time taken for 1 epoch: 23.34327530860901 secs\n",
            "\n",
            "Epoch 23 Batch 0 Loss -0.9591\n",
            "Saving checkpoint for epoch 23 at /content/gdrive/MyDrive/Albert_model_output/ckpt-299\n",
            "Epoch 23 Loss -0.9661\n",
            "Time taken for 1 epoch: 22.25090527534485 secs\n",
            "\n",
            "Epoch 24 Batch 0 Loss -0.9607\n",
            "Saving checkpoint for epoch 24 at /content/gdrive/MyDrive/Albert_model_output/ckpt-300\n",
            "Epoch 24 Loss -0.9651\n",
            "Time taken for 1 epoch: 22.496028661727905 secs\n",
            "\n",
            "Epoch 25 Batch 0 Loss -0.9569\n",
            "Saving checkpoint for epoch 25 at /content/gdrive/MyDrive/Albert_model_output/ckpt-301\n",
            "Epoch 25 Loss -0.9680\n",
            "Time taken for 1 epoch: 26.877540588378906 secs\n",
            "\n",
            "Epoch 26 Batch 0 Loss -0.9592\n",
            "Saving checkpoint for epoch 26 at /content/gdrive/MyDrive/Albert_model_output/ckpt-302\n",
            "Epoch 26 Loss -0.9684\n",
            "Time taken for 1 epoch: 23.579628705978394 secs\n",
            "\n",
            "Epoch 27 Batch 0 Loss -0.9599\n",
            "Saving checkpoint for epoch 27 at /content/gdrive/MyDrive/Albert_model_output/ckpt-303\n",
            "Epoch 27 Loss -0.9688\n",
            "Time taken for 1 epoch: 24.02853751182556 secs\n",
            "\n",
            "Epoch 28 Batch 0 Loss -0.9607\n",
            "Saving checkpoint for epoch 28 at /content/gdrive/MyDrive/Albert_model_output/ckpt-304\n",
            "Epoch 28 Loss -0.9690\n",
            "Time taken for 1 epoch: 23.847130060195923 secs\n",
            "\n",
            "Epoch 29 Batch 0 Loss -0.9612\n",
            "Saving checkpoint for epoch 29 at /content/gdrive/MyDrive/Albert_model_output/ckpt-305\n",
            "Epoch 29 Loss -0.9694\n",
            "Time taken for 1 epoch: 25.953179836273193 secs\n",
            "\n",
            "Epoch 30 Batch 0 Loss -0.9610\n",
            "Saving checkpoint for epoch 30 at /content/gdrive/MyDrive/Albert_model_output/ckpt-306\n",
            "Epoch 30 Loss -0.8299\n",
            "Time taken for 1 epoch: 23.785316467285156 secs\n",
            "\n",
            "Epoch 31 Batch 0 Loss -0.9588\n",
            "Saving checkpoint for epoch 31 at /content/gdrive/MyDrive/Albert_model_output/ckpt-307\n",
            "Epoch 31 Loss -0.8689\n",
            "Time taken for 1 epoch: 23.753522157669067 secs\n",
            "\n",
            "Epoch 32 Batch 0 Loss -0.9630\n",
            "Saving checkpoint for epoch 32 at /content/gdrive/MyDrive/Albert_model_output/ckpt-308\n",
            "Epoch 32 Loss -0.9670\n",
            "Time taken for 1 epoch: 24.512181997299194 secs\n",
            "\n",
            "Epoch 33 Batch 0 Loss -0.9605\n",
            "Saving checkpoint for epoch 33 at /content/gdrive/MyDrive/Albert_model_output/ckpt-309\n",
            "Epoch 33 Loss -0.9199\n",
            "Time taken for 1 epoch: 24.357218980789185 secs\n",
            "\n",
            "Epoch 34 Batch 0 Loss -0.9623\n",
            "Saving checkpoint for epoch 34 at /content/gdrive/MyDrive/Albert_model_output/ckpt-310\n",
            "Epoch 34 Loss -0.9690\n",
            "Time taken for 1 epoch: 25.437029600143433 secs\n",
            "\n",
            "Epoch 35 Batch 0 Loss -0.9620\n",
            "Saving checkpoint for epoch 35 at /content/gdrive/MyDrive/Albert_model_output/ckpt-311\n",
            "Epoch 35 Loss -0.9680\n",
            "Time taken for 1 epoch: 23.59306812286377 secs\n",
            "\n",
            "Epoch 36 Batch 0 Loss -0.9629\n",
            "Saving checkpoint for epoch 36 at /content/gdrive/MyDrive/Albert_model_output/ckpt-312\n",
            "Epoch 36 Loss -0.9693\n",
            "Time taken for 1 epoch: 24.784051418304443 secs\n",
            "\n",
            "Epoch 37 Batch 0 Loss -0.9630\n",
            "Saving checkpoint for epoch 37 at /content/gdrive/MyDrive/Albert_model_output/ckpt-313\n",
            "Epoch 37 Loss -0.9701\n",
            "Time taken for 1 epoch: 22.82686948776245 secs\n",
            "\n",
            "Epoch 38 Batch 0 Loss -0.9632\n",
            "Saving checkpoint for epoch 38 at /content/gdrive/MyDrive/Albert_model_output/ckpt-314\n",
            "Epoch 38 Loss -0.9709\n",
            "Time taken for 1 epoch: 21.742000341415405 secs\n",
            "\n",
            "Epoch 39 Batch 0 Loss -0.9636\n",
            "Saving checkpoint for epoch 39 at /content/gdrive/MyDrive/Albert_model_output/ckpt-315\n",
            "Epoch 39 Loss -0.9698\n",
            "Time taken for 1 epoch: 23.422600984573364 secs\n",
            "\n",
            "Epoch 40 Batch 0 Loss -0.9655\n",
            "Saving checkpoint for epoch 40 at /content/gdrive/MyDrive/Albert_model_output/ckpt-316\n",
            "Epoch 40 Loss -0.9718\n",
            "Time taken for 1 epoch: 24.255231618881226 secs\n",
            "\n",
            "Epoch 41 Batch 0 Loss -0.9668\n",
            "Saving checkpoint for epoch 41 at /content/gdrive/MyDrive/Albert_model_output/ckpt-317\n",
            "Epoch 41 Loss -0.9709\n",
            "Time taken for 1 epoch: 24.984500408172607 secs\n",
            "\n",
            "Epoch 42 Batch 0 Loss -0.9656\n",
            "Saving checkpoint for epoch 42 at /content/gdrive/MyDrive/Albert_model_output/ckpt-318\n",
            "Epoch 42 Loss -0.9716\n",
            "Time taken for 1 epoch: 23.864824533462524 secs\n",
            "\n",
            "Epoch 43 Batch 0 Loss -0.9651\n",
            "Saving checkpoint for epoch 43 at /content/gdrive/MyDrive/Albert_model_output/ckpt-319\n",
            "Epoch 43 Loss -0.9722\n",
            "Time taken for 1 epoch: 22.78149151802063 secs\n",
            "\n",
            "Epoch 44 Batch 0 Loss -0.9665\n",
            "Saving checkpoint for epoch 44 at /content/gdrive/MyDrive/Albert_model_output/ckpt-320\n",
            "Epoch 44 Loss -0.9710\n",
            "Time taken for 1 epoch: 23.614508867263794 secs\n",
            "\n",
            "Epoch 45 Batch 0 Loss -0.9645\n",
            "Saving checkpoint for epoch 45 at /content/gdrive/MyDrive/Albert_model_output/ckpt-321\n",
            "Epoch 45 Loss -0.9721\n",
            "Time taken for 1 epoch: 24.428725481033325 secs\n",
            "\n",
            "Epoch 46 Batch 0 Loss -0.9655\n",
            "Saving checkpoint for epoch 46 at /content/gdrive/MyDrive/Albert_model_output/ckpt-322\n",
            "Epoch 46 Loss -0.9737\n",
            "Time taken for 1 epoch: 23.433773517608643 secs\n",
            "\n",
            "Epoch 47 Batch 0 Loss -0.9685\n",
            "Saving checkpoint for epoch 47 at /content/gdrive/MyDrive/Albert_model_output/ckpt-323\n",
            "Epoch 47 Loss -0.9736\n",
            "Time taken for 1 epoch: 23.988860845565796 secs\n",
            "\n",
            "Epoch 48 Batch 0 Loss -0.9674\n",
            "Saving checkpoint for epoch 48 at /content/gdrive/MyDrive/Albert_model_output/ckpt-324\n",
            "Epoch 48 Loss -0.9739\n",
            "Time taken for 1 epoch: 33.08500528335571 secs\n",
            "\n",
            "Epoch 49 Batch 0 Loss -0.9486\n",
            "Saving checkpoint for epoch 49 at /content/gdrive/MyDrive/Albert_model_output/ckpt-325\n",
            "Epoch 49 Loss -0.9730\n",
            "Time taken for 1 epoch: 23.57633137702942 secs\n",
            "\n",
            "Epoch 50 Batch 0 Loss -0.9666\n",
            "Saving checkpoint for epoch 50 at /content/gdrive/MyDrive/Albert_model_output/ckpt-326\n",
            "Epoch 50 Loss -0.9734\n",
            "Time taken for 1 epoch: 29.25173568725586 secs\n",
            "\n",
            "Epoch 51 Batch 0 Loss -0.9588\n",
            "Saving checkpoint for epoch 51 at /content/gdrive/MyDrive/Albert_model_output/ckpt-327\n",
            "Epoch 51 Loss -0.9731\n",
            "Time taken for 1 epoch: 25.24949884414673 secs\n",
            "\n",
            "Epoch 52 Batch 0 Loss -0.9619\n",
            "Saving checkpoint for epoch 52 at /content/gdrive/MyDrive/Albert_model_output/ckpt-328\n",
            "Epoch 52 Loss -0.8968\n",
            "Time taken for 1 epoch: 24.97379207611084 secs\n",
            "\n",
            "Epoch 53 Batch 0 Loss -0.9672\n",
            "Saving checkpoint for epoch 53 at /content/gdrive/MyDrive/Albert_model_output/ckpt-329\n",
            "Epoch 53 Loss -0.9739\n",
            "Time taken for 1 epoch: 25.463364839553833 secs\n",
            "\n",
            "Epoch 54 Batch 0 Loss -0.9646\n",
            "Saving checkpoint for epoch 54 at /content/gdrive/MyDrive/Albert_model_output/ckpt-330\n",
            "Epoch 54 Loss -0.9753\n",
            "Time taken for 1 epoch: 24.96197199821472 secs\n",
            "\n",
            "Epoch 55 Batch 0 Loss -0.9681\n",
            "Saving checkpoint for epoch 55 at /content/gdrive/MyDrive/Albert_model_output/ckpt-331\n",
            "Epoch 55 Loss -0.9761\n",
            "Time taken for 1 epoch: 22.3559410572052 secs\n",
            "\n",
            "Epoch 56 Batch 0 Loss -0.9706\n",
            "Saving checkpoint for epoch 56 at /content/gdrive/MyDrive/Albert_model_output/ckpt-332\n",
            "Epoch 56 Loss -0.9762\n",
            "Time taken for 1 epoch: 25.595499515533447 secs\n",
            "\n",
            "Epoch 57 Batch 0 Loss -0.9704\n",
            "Saving checkpoint for epoch 57 at /content/gdrive/MyDrive/Albert_model_output/ckpt-333\n",
            "Epoch 57 Loss -0.9766\n",
            "Time taken for 1 epoch: 23.398898601531982 secs\n",
            "\n",
            "Epoch 58 Batch 0 Loss -0.9706\n",
            "Saving checkpoint for epoch 58 at /content/gdrive/MyDrive/Albert_model_output/ckpt-334\n",
            "Epoch 58 Loss -0.9742\n",
            "Time taken for 1 epoch: 24.728636264801025 secs\n",
            "\n",
            "Epoch 59 Batch 0 Loss -0.9668\n",
            "Saving checkpoint for epoch 59 at /content/gdrive/MyDrive/Albert_model_output/ckpt-335\n",
            "Epoch 59 Loss -0.9750\n",
            "Time taken for 1 epoch: 24.39216899871826 secs\n",
            "\n",
            "Epoch 60 Batch 0 Loss -0.9704\n",
            "Saving checkpoint for epoch 60 at /content/gdrive/MyDrive/Albert_model_output/ckpt-336\n",
            "Epoch 60 Loss -0.9760\n",
            "Time taken for 1 epoch: 25.576623916625977 secs\n",
            "\n",
            "Epoch 61 Batch 0 Loss -0.9712\n",
            "Saving checkpoint for epoch 61 at /content/gdrive/MyDrive/Albert_model_output/ckpt-337\n",
            "Epoch 61 Loss -0.9765\n",
            "Time taken for 1 epoch: 24.099070072174072 secs\n",
            "\n",
            "Epoch 62 Batch 0 Loss -0.9746\n",
            "Saving checkpoint for epoch 62 at /content/gdrive/MyDrive/Albert_model_output/ckpt-338\n",
            "Epoch 62 Loss -0.9772\n",
            "Time taken for 1 epoch: 23.116801500320435 secs\n",
            "\n",
            "Epoch 63 Batch 0 Loss -0.9802\n",
            "Saving checkpoint for epoch 63 at /content/gdrive/MyDrive/Albert_model_output/ckpt-339\n",
            "Epoch 63 Loss -0.9777\n",
            "Time taken for 1 epoch: 25.084336757659912 secs\n",
            "\n",
            "Epoch 64 Batch 0 Loss -0.9657\n",
            "Saving checkpoint for epoch 64 at /content/gdrive/MyDrive/Albert_model_output/ckpt-340\n",
            "Epoch 64 Loss -0.9778\n",
            "Time taken for 1 epoch: 23.640273332595825 secs\n",
            "\n",
            "Epoch 65 Batch 0 Loss -0.9766\n",
            "Saving checkpoint for epoch 65 at /content/gdrive/MyDrive/Albert_model_output/ckpt-341\n",
            "Epoch 65 Loss -0.9748\n",
            "Time taken for 1 epoch: 24.75177812576294 secs\n",
            "\n",
            "Epoch 66 Batch 0 Loss -0.9519\n",
            "Saving checkpoint for epoch 66 at /content/gdrive/MyDrive/Albert_model_output/ckpt-342\n",
            "Epoch 66 Loss -0.9751\n",
            "Time taken for 1 epoch: 24.49528193473816 secs\n",
            "\n",
            "Epoch 67 Batch 0 Loss -0.9596\n",
            "Saving checkpoint for epoch 67 at /content/gdrive/MyDrive/Albert_model_output/ckpt-343\n",
            "Epoch 67 Loss -0.9769\n",
            "Time taken for 1 epoch: 23.949070692062378 secs\n",
            "\n",
            "Epoch 68 Batch 0 Loss -0.9572\n",
            "Saving checkpoint for epoch 68 at /content/gdrive/MyDrive/Albert_model_output/ckpt-344\n",
            "Epoch 68 Loss -0.9766\n",
            "Time taken for 1 epoch: 24.48556351661682 secs\n",
            "\n",
            "Epoch 69 Batch 0 Loss -0.9702\n",
            "Saving checkpoint for epoch 69 at /content/gdrive/MyDrive/Albert_model_output/ckpt-345\n",
            "Epoch 69 Loss -0.9777\n",
            "Time taken for 1 epoch: 23.379390239715576 secs\n",
            "\n",
            "Epoch 70 Batch 0 Loss -0.9755\n",
            "Saving checkpoint for epoch 70 at /content/gdrive/MyDrive/Albert_model_output/ckpt-346\n",
            "Epoch 70 Loss -0.9760\n",
            "Time taken for 1 epoch: 25.58108425140381 secs\n",
            "\n",
            "Epoch 71 Batch 0 Loss -0.9810\n",
            "Saving checkpoint for epoch 71 at /content/gdrive/MyDrive/Albert_model_output/ckpt-347\n",
            "Epoch 71 Loss -0.9763\n",
            "Time taken for 1 epoch: 23.084901809692383 secs\n",
            "\n",
            "Epoch 72 Batch 0 Loss -0.9793\n",
            "Saving checkpoint for epoch 72 at /content/gdrive/MyDrive/Albert_model_output/ckpt-348\n",
            "Epoch 72 Loss -0.9781\n",
            "Time taken for 1 epoch: 24.75570797920227 secs\n",
            "\n",
            "Epoch 73 Batch 0 Loss -0.9840\n",
            "Saving checkpoint for epoch 73 at /content/gdrive/MyDrive/Albert_model_output/ckpt-349\n",
            "Epoch 73 Loss -0.9797\n",
            "Time taken for 1 epoch: 25.59396719932556 secs\n",
            "\n",
            "Epoch 74 Batch 0 Loss -0.9865\n",
            "Saving checkpoint for epoch 74 at /content/gdrive/MyDrive/Albert_model_output/ckpt-350\n",
            "Epoch 74 Loss -0.9778\n",
            "Time taken for 1 epoch: 24.31588339805603 secs\n",
            "\n",
            "Epoch 75 Batch 0 Loss -0.9931\n",
            "Saving checkpoint for epoch 75 at /content/gdrive/MyDrive/Albert_model_output/ckpt-351\n",
            "Epoch 75 Loss -0.9777\n",
            "Time taken for 1 epoch: 26.587591886520386 secs\n",
            "\n",
            "Epoch 76 Batch 0 Loss -0.9729\n",
            "Saving checkpoint for epoch 76 at /content/gdrive/MyDrive/Albert_model_output/ckpt-352\n",
            "Epoch 76 Loss -0.9763\n",
            "Time taken for 1 epoch: 20.626558542251587 secs\n",
            "\n",
            "Epoch 77 Batch 0 Loss -0.9885\n",
            "Saving checkpoint for epoch 77 at /content/gdrive/MyDrive/Albert_model_output/ckpt-353\n",
            "Epoch 77 Loss -0.9773\n",
            "Time taken for 1 epoch: 22.441211938858032 secs\n",
            "\n",
            "Epoch 78 Batch 0 Loss -0.9947\n",
            "Saving checkpoint for epoch 78 at /content/gdrive/MyDrive/Albert_model_output/ckpt-354\n",
            "Epoch 78 Loss -0.9782\n",
            "Time taken for 1 epoch: 23.784842252731323 secs\n",
            "\n",
            "Epoch 79 Batch 0 Loss -0.9974\n",
            "Saving checkpoint for epoch 79 at /content/gdrive/MyDrive/Albert_model_output/ckpt-355\n",
            "Epoch 79 Loss -0.9808\n",
            "Time taken for 1 epoch: 24.472245693206787 secs\n",
            "\n",
            "Epoch 80 Batch 0 Loss -0.9984\n",
            "Saving checkpoint for epoch 80 at /content/gdrive/MyDrive/Albert_model_output/ckpt-356\n",
            "Epoch 80 Loss -0.9819\n",
            "Time taken for 1 epoch: 24.65809988975525 secs\n",
            "\n",
            "Epoch 81 Batch 0 Loss -0.9985\n",
            "Saving checkpoint for epoch 81 at /content/gdrive/MyDrive/Albert_model_output/ckpt-357\n",
            "Epoch 81 Loss -0.9803\n",
            "Time taken for 1 epoch: 22.709352731704712 secs\n",
            "\n",
            "Epoch 82 Batch 0 Loss -0.9960\n",
            "Saving checkpoint for epoch 82 at /content/gdrive/MyDrive/Albert_model_output/ckpt-358\n",
            "Epoch 82 Loss -0.9790\n",
            "Time taken for 1 epoch: 25.02171564102173 secs\n",
            "\n",
            "Epoch 83 Batch 0 Loss -0.9914\n",
            "Saving checkpoint for epoch 83 at /content/gdrive/MyDrive/Albert_model_output/ckpt-359\n",
            "Epoch 83 Loss -0.9815\n",
            "Time taken for 1 epoch: 24.422416925430298 secs\n",
            "\n",
            "Epoch 84 Batch 0 Loss -0.9969\n",
            "Saving checkpoint for epoch 84 at /content/gdrive/MyDrive/Albert_model_output/ckpt-360\n",
            "Epoch 84 Loss -0.9814\n",
            "Time taken for 1 epoch: 24.78286099433899 secs\n",
            "\n",
            "Epoch 85 Batch 0 Loss -0.9952\n",
            "Saving checkpoint for epoch 85 at /content/gdrive/MyDrive/Albert_model_output/ckpt-361\n",
            "Epoch 85 Loss -0.9814\n",
            "Time taken for 1 epoch: 24.529178857803345 secs\n",
            "\n",
            "Epoch 86 Batch 0 Loss -0.9824\n",
            "Saving checkpoint for epoch 86 at /content/gdrive/MyDrive/Albert_model_output/ckpt-362\n",
            "Epoch 86 Loss -0.9788\n",
            "Time taken for 1 epoch: 24.513490438461304 secs\n",
            "\n",
            "Epoch 87 Batch 0 Loss -0.9942\n",
            "Saving checkpoint for epoch 87 at /content/gdrive/MyDrive/Albert_model_output/ckpt-363\n",
            "Epoch 87 Loss -0.9785\n",
            "Time taken for 1 epoch: 25.439173221588135 secs\n",
            "\n",
            "Epoch 88 Batch 0 Loss -0.9969\n",
            "Saving checkpoint for epoch 88 at /content/gdrive/MyDrive/Albert_model_output/ckpt-364\n",
            "Epoch 88 Loss -0.9795\n",
            "Time taken for 1 epoch: 25.40777015686035 secs\n",
            "\n",
            "Epoch 89 Batch 0 Loss -0.9675\n",
            "Saving checkpoint for epoch 89 at /content/gdrive/MyDrive/Albert_model_output/ckpt-365\n",
            "Epoch 89 Loss -0.9778\n",
            "Time taken for 1 epoch: 24.23518681526184 secs\n",
            "\n",
            "Epoch 90 Batch 0 Loss -0.9531\n",
            "Saving checkpoint for epoch 90 at /content/gdrive/MyDrive/Albert_model_output/ckpt-366\n",
            "Epoch 90 Loss -0.9777\n",
            "Time taken for 1 epoch: 25.732463836669922 secs\n",
            "\n",
            "Epoch 91 Batch 0 Loss -0.9614\n",
            "Saving checkpoint for epoch 91 at /content/gdrive/MyDrive/Albert_model_output/ckpt-367\n",
            "Epoch 91 Loss -0.9802\n",
            "Time taken for 1 epoch: 25.427576065063477 secs\n",
            "\n",
            "Epoch 92 Batch 0 Loss -0.9632\n",
            "Saving checkpoint for epoch 92 at /content/gdrive/MyDrive/Albert_model_output/ckpt-368\n",
            "Epoch 92 Loss -0.9813\n",
            "Time taken for 1 epoch: 23.387818574905396 secs\n",
            "\n",
            "Epoch 93 Batch 0 Loss -0.9643\n",
            "Saving checkpoint for epoch 93 at /content/gdrive/MyDrive/Albert_model_output/ckpt-369\n",
            "Epoch 93 Loss -0.9793\n",
            "Time taken for 1 epoch: 26.607738494873047 secs\n",
            "\n",
            "Epoch 94 Batch 0 Loss -0.9645\n",
            "Saving checkpoint for epoch 94 at /content/gdrive/MyDrive/Albert_model_output/ckpt-370\n",
            "Epoch 94 Loss -0.9759\n",
            "Time taken for 1 epoch: 23.664477109909058 secs\n",
            "\n",
            "Epoch 95 Batch 0 Loss -0.9633\n",
            "Saving checkpoint for epoch 95 at /content/gdrive/MyDrive/Albert_model_output/ckpt-371\n",
            "Epoch 95 Loss -0.9726\n",
            "Time taken for 1 epoch: 24.307722330093384 secs\n",
            "\n",
            "Epoch 96 Batch 0 Loss -0.9615\n",
            "Saving checkpoint for epoch 96 at /content/gdrive/MyDrive/Albert_model_output/ckpt-372\n",
            "Epoch 96 Loss -0.9750\n",
            "Time taken for 1 epoch: 23.83740735054016 secs\n",
            "\n",
            "Epoch 97 Batch 0 Loss -0.9601\n",
            "Saving checkpoint for epoch 97 at /content/gdrive/MyDrive/Albert_model_output/ckpt-373\n",
            "Epoch 97 Loss -0.9761\n",
            "Time taken for 1 epoch: 23.85638928413391 secs\n",
            "\n",
            "Epoch 98 Batch 0 Loss -0.9601\n",
            "Saving checkpoint for epoch 98 at /content/gdrive/MyDrive/Albert_model_output/ckpt-374\n",
            "Epoch 98 Loss -0.9766\n",
            "Time taken for 1 epoch: 24.29892587661743 secs\n",
            "\n",
            "Epoch 99 Batch 0 Loss -0.9613\n",
            "Saving checkpoint for epoch 99 at /content/gdrive/MyDrive/Albert_model_output/ckpt-375\n",
            "Epoch 99 Loss -0.9757\n",
            "Time taken for 1 epoch: 23.8173189163208 secs\n",
            "\n",
            "Epoch 100 Batch 0 Loss -0.9593\n",
            "Saving checkpoint for epoch 100 at /content/gdrive/MyDrive/Albert_model_output/ckpt-376\n",
            "Epoch 100 Loss -0.9784\n",
            "Time taken for 1 epoch: 28.9348406791687 secs\n",
            "\n"
          ]
        }
      ]
    },
    {
      "cell_type": "code",
      "source": [
        "modified_transformer.summary()"
      ],
      "metadata": {
        "colab": {
          "base_uri": "https://localhost:8080/"
        },
        "id": "k2E4zEtxiPoN",
        "outputId": "01f5e5ba-8fa6-488f-d870-b8e7427fccda"
      },
      "execution_count": null,
      "outputs": [
        {
          "output_type": "stream",
          "name": "stdout",
          "text": [
            "Model: \"transformer_2\"\n",
            "_________________________________________________________________\n",
            " Layer (type)                Output Shape              Param #   \n",
            "=================================================================\n",
            " encoder_3 (Encoder)         multiple                  4633088   \n",
            "                                                                 \n",
            " lstm_1 (LSTM)               multiple                  4516000   \n",
            "                                                                 \n",
            " dense_114 (Dense)           multiple                  768768    \n",
            "                                                                 \n",
            "=================================================================\n",
            "Total params: 9,917,856\n",
            "Trainable params: 9,917,856\n",
            "Non-trainable params: 0\n",
            "_________________________________________________________________\n"
          ]
        }
      ]
    },
    {
      "cell_type": "code",
      "source": [
        "modified_transformer.layers[0].set_weights(transformer.layers[0].get_weights())"
      ],
      "metadata": {
        "id": "SAavUhciSqMk"
      },
      "execution_count": null,
      "outputs": []
    },
    {
      "cell_type": "code",
      "source": [
        "def generate_embeddings(inp_sentence):\n",
        "    encoder_input = tf.expand_dims(inp_sentence, 0)\n",
        "    enc_padding_mask, = create_masks(encoder_input)\n",
        "    predictions = modified_transformer(encoder_input,False,enc_padding_mask)\n",
        "    return predictions[0].numpy()"
      ],
      "metadata": {
        "id": "c75_V928SxQ5"
      },
      "execution_count": null,
      "outputs": []
    },
    {
      "cell_type": "code",
      "source": [
        "test_df = pd.read_csv(\"/content/gdrive/MyDrive/SCE_dataset/test.csv\")"
      ],
      "metadata": {
        "id": "I_ZZ_5IPX_Xs"
      },
      "execution_count": null,
      "outputs": []
    },
    {
      "cell_type": "code",
      "source": [
        "inp = tokenizer_func.encode(test_df['function_tokens'][0]).ids\n",
        "generate_embeddings(inp)"
      ],
      "metadata": {
        "colab": {
          "base_uri": "https://localhost:8080/"
        },
        "id": "z_hk06jYT61k",
        "outputId": "a8e874e1-9e58-4ed1-e67b-1d71306274dd"
      },
      "execution_count": null,
      "outputs": [
        {
          "output_type": "execute_result",
          "data": {
            "text/plain": [
              "array([-3.19565964e+00, -7.29658222e+00,  2.08378506e+00, -3.28660101e-01,\n",
              "        4.48142481e+00,  1.20974946e+00, -2.04044557e+00,  1.06964064e+00,\n",
              "       -4.87977743e-01, -3.30551982e-01,  4.85921413e-01, -2.79793000e+00,\n",
              "       -3.97344542e+00,  1.06538093e+00,  1.02450681e+00,  5.59530556e-01,\n",
              "       -1.29391789e+00,  2.31831002e+00,  4.92425084e-01,  4.47319889e+00,\n",
              "       -4.34895694e-01,  1.63595164e+00, -2.77629876e+00,  6.67954636e+00,\n",
              "        1.66181743e+00,  9.03267264e-01, -1.18071043e+00, -2.01154739e-01,\n",
              "       -4.10045266e-01,  3.74779916e+00, -2.94214320e+00,  5.27373195e-01,\n",
              "        2.44345045e+00,  4.85236216e+00, -2.91850972e+00, -2.51544571e+00,\n",
              "        5.55612612e+00,  3.98942876e+00, -1.01296687e+00,  5.07270575e+00,\n",
              "        7.61745393e-01,  2.11264563e+00,  3.97109795e+00,  4.69851446e+00,\n",
              "        1.63764203e+00,  7.63232374e+00, -1.72009420e+00,  2.70621681e+00,\n",
              "        1.02773023e+00,  2.10076308e+00, -3.45624328e+00, -2.13247466e+00,\n",
              "       -5.10749435e+00, -1.57913721e+00,  4.70084935e-01, -2.07170889e-01,\n",
              "        1.96686053e+00,  4.28182030e+00,  8.45695138e-01,  2.02316105e-01,\n",
              "       -4.74773169e-01,  9.36049271e+00,  7.80981362e-01,  5.14167166e+00,\n",
              "       -2.91340685e+00,  2.58715296e+00,  1.56363261e+00, -3.33919692e+00,\n",
              "       -3.84938896e-01, -6.47261190e+00, -3.75524402e+00,  2.20229149e+00,\n",
              "        6.25302792e-01,  6.15209103e+00,  3.03030014e+00,  2.52717590e+00,\n",
              "       -5.66376543e+00, -8.80917311e-01,  1.72916043e+00,  8.03584903e-02,\n",
              "       -2.94372749e+00, -6.33544922e-01, -1.19202089e+00,  6.28022909e+00,\n",
              "       -1.74886346e-01,  5.04530001e+00, -2.91417539e-01, -6.41311264e+00,\n",
              "       -1.35410666e+00,  3.10044289e+00,  5.68289661e+00,  3.32538319e+00,\n",
              "        6.16770935e+00, -3.59555531e+00,  8.16870093e-01,  5.48310101e-01,\n",
              "       -1.51301181e+00, -2.90070629e+00, -3.82281375e+00, -5.73761702e-01,\n",
              "       -3.70698571e+00, -2.63395953e+00,  1.89865911e+00, -1.40842950e+00,\n",
              "        1.77438092e+00, -1.06269479e+00, -3.56697297e+00,  3.07528591e+00,\n",
              "       -7.68863022e-01, -5.23474753e-01, -3.35710239e+00,  3.51866543e-01,\n",
              "        4.06039619e+00,  5.22919118e-01, -5.53364944e+00,  3.01676798e+00,\n",
              "       -5.34043133e-01,  4.21238989e-01, -5.36649585e-01, -3.58005852e-01,\n",
              "       -4.37643337e+00,  2.27735448e+00, -7.15487194e+00,  7.73288488e-01,\n",
              "        2.40754175e+00, -3.47004843e+00, -2.78538585e+00,  3.59668684e+00,\n",
              "       -1.22333324e+00,  2.32465816e+00, -3.02319229e-01, -1.68919837e+00,\n",
              "        2.92676926e-01, -1.94771087e+00, -2.31809092e+00,  3.68200874e+00,\n",
              "       -2.87880158e+00, -3.94226551e+00,  3.49307060e+00, -2.58820987e+00,\n",
              "        1.31147075e+00,  5.96562624e-02, -2.35983562e+00,  9.98357832e-01,\n",
              "        3.29223466e+00, -1.08449602e+00, -5.74180722e-01,  1.14207923e+00,\n",
              "        4.82716894e+00, -3.03566456e+00, -1.73952067e+00, -1.41293430e+00,\n",
              "       -1.55793381e+00,  1.66345870e+00, -4.98394108e+00, -2.21384740e+00,\n",
              "       -1.38880074e+00, -1.14964509e+00,  1.12285781e+00, -4.10030127e+00,\n",
              "        4.71443748e+00, -8.41353834e-01,  7.20464170e-01,  1.86589587e+00,\n",
              "       -1.84568977e+00, -2.15284753e+00,  1.20652854e+00, -1.48240566e+00,\n",
              "       -1.17268777e+00,  9.23915952e-02, -5.79692721e-01, -3.05099416e+00,\n",
              "       -2.42410493e+00, -5.19306779e-01, -2.03982496e+00, -3.37729931e-01,\n",
              "        5.66410685e+00,  2.38711524e+00,  9.22844652e-03,  2.08390284e+00,\n",
              "       -9.99274552e-01, -2.90529966e+00,  2.28460407e+00, -1.00056267e+00,\n",
              "        1.02127957e+00,  1.40660906e+00, -3.16004544e-01,  1.16943860e+00,\n",
              "        1.23461854e+00, -2.57197165e+00,  3.51457548e+00, -2.25302601e+00,\n",
              "        1.38833606e+00,  3.10599804e+00, -1.21271133e-01, -9.67777193e-01,\n",
              "       -3.74334574e+00, -8.45567513e+00,  9.79252100e-01, -2.81040835e+00,\n",
              "       -8.85001540e-01, -5.48569298e+00, -7.53394425e-01,  3.73377824e+00,\n",
              "        8.33737469e+00, -3.70759201e+00, -1.13149095e+00,  1.49290323e+00,\n",
              "        6.33126676e-01,  2.34528875e+00, -5.05446434e+00,  2.54474401e+00,\n",
              "       -4.26625633e+00, -4.07924950e-01, -5.90098381e-01,  1.03513551e+00,\n",
              "        8.61383021e-01,  2.07432806e-02, -2.92113471e+00,  8.58966529e-01,\n",
              "       -2.30512381e+00, -5.34016705e+00, -8.95690203e-01, -5.09684324e-01,\n",
              "        9.86351013e+00,  4.37850380e+00,  1.11084712e+00, -4.15700048e-01,\n",
              "        1.08332968e+00, -1.54321158e+00, -5.09718597e-01, -2.69319028e-01,\n",
              "        1.37772942e+00,  4.11745119e+00,  3.60208893e+00, -2.42299628e+00,\n",
              "        4.45296317e-01,  1.05581611e-01, -2.05244875e+00, -5.59869230e-01,\n",
              "        1.03173208e+00,  3.95146155e+00,  5.89964390e-01,  1.13191521e+00,\n",
              "        8.55979323e-01, -4.26438141e+00, -7.61699438e-01, -6.74214935e+00,\n",
              "        6.54064894e-01, -3.84760857e+00, -1.04065835e-01, -7.90501237e-01,\n",
              "        6.72611058e-01,  2.03462291e+00, -4.25268888e-01, -2.30423522e+00,\n",
              "       -3.09511065e-01, -8.50218594e-01, -7.89754629e-01, -3.14359546e+00,\n",
              "       -7.81918764e-01,  4.88193512e+00,  1.17435873e+00,  4.59742785e+00,\n",
              "        1.56902039e+00,  4.86760044e+00, -2.16687873e-01, -4.87676501e-01,\n",
              "        2.41486168e+00, -2.14802362e-02, -3.95367295e-01, -4.58274651e+00,\n",
              "       -1.03537178e+00, -4.63033736e-01,  1.33012474e-01, -3.53327274e+00,\n",
              "        3.84955955e+00,  1.22176516e+00, -4.28920841e+00,  3.19347763e+00,\n",
              "        2.66256976e+00,  1.43148720e+00,  5.19459391e+00,  2.05298877e+00,\n",
              "       -6.56859100e-01,  1.05724251e+00, -3.87554240e+00, -3.85316634e+00,\n",
              "        3.10954022e+00,  4.03672963e-01,  4.73969698e+00, -1.69901931e+00,\n",
              "       -3.57747602e+00,  1.78916240e+00, -2.39182544e+00,  1.94363117e+00,\n",
              "       -1.67579007e+00,  5.19687796e+00, -4.25513029e+00, -5.96104622e-01,\n",
              "        1.55698729e+00, -4.07888412e+00, -4.42165756e+00,  5.39799547e+00,\n",
              "        3.19896311e-01,  6.54982376e+00, -2.07951808e+00,  6.55948222e-01,\n",
              "       -2.33235669e+00, -2.83696532e-01, -3.54127407e+00, -3.03496766e+00,\n",
              "       -6.52596295e-01, -2.60866880e+00, -2.51022434e+00,  3.38246655e+00,\n",
              "        3.73512769e+00, -2.95649767e+00,  3.61048794e+00, -2.53568959e+00,\n",
              "        8.60565090e+00,  1.65450895e+00,  5.39670658e+00,  3.37652993e+00,\n",
              "       -6.02318108e-01, -4.04318762e+00, -1.96976876e+00,  3.39075685e+00,\n",
              "       -2.62674242e-01,  5.21765089e+00,  3.00064468e+00,  9.80747581e-01,\n",
              "        1.29972410e+00, -1.16612506e+00, -3.54830694e+00,  1.63138974e+00,\n",
              "       -4.21167374e+00, -3.09488118e-01,  1.55263245e+00, -9.92304444e-01,\n",
              "       -6.81129098e-01,  1.97450912e+00,  2.41793585e+00,  3.74143034e-01,\n",
              "        9.83883023e-01, -4.04019165e+00,  2.91062331e+00,  2.52793336e+00,\n",
              "        4.24560457e-01,  8.85139585e-01,  1.89220834e+00,  7.29467809e-01,\n",
              "        3.51741385e+00, -2.25352980e-02, -6.09251881e+00, -1.68975067e+00,\n",
              "       -1.98399317e+00,  1.05584753e+00,  1.11732173e+00,  5.32684445e-01,\n",
              "        2.49476767e+00,  2.22263360e+00,  2.18225861e+00, -3.51802206e+00,\n",
              "       -9.17865932e-01, -1.09917736e+00, -2.19690108e+00, -2.37547383e-01,\n",
              "       -1.02693141e+00,  4.88069963e+00, -1.64171147e+00, -3.78695869e+00,\n",
              "        2.88357592e+00,  8.15471709e-01, -4.62094247e-01,  4.50813723e+00,\n",
              "        7.70059153e-02, -2.70941353e+00, -7.51190186e-01, -3.28000593e+00,\n",
              "       -6.20090961e-01,  2.86022472e+00, -3.67438030e+00,  1.36374998e+00,\n",
              "       -2.56100225e+00,  3.37195754e+00,  1.58331835e+00,  2.18130612e+00,\n",
              "       -1.41081512e+00, -2.99977517e+00, -2.50830746e+00, -1.18259931e+00,\n",
              "        6.44267857e-01,  1.24627519e+00, -4.99631023e+00,  4.40756130e+00,\n",
              "        1.30630720e+00,  1.18005967e+00, -1.92695409e-01, -3.73529816e+00,\n",
              "        2.15501046e+00,  7.29907322e+00, -7.51758277e-01,  4.10751438e+00,\n",
              "       -3.64873946e-01, -3.12695122e+00, -2.55332732e+00,  2.61130428e+00,\n",
              "       -1.07267606e+00, -2.13099170e+00, -3.77876258e+00,  2.92626381e+00,\n",
              "       -1.42050970e+00, -4.08367586e+00, -2.91460085e+00,  2.88878918e+00,\n",
              "       -1.96931154e-01, -3.40358472e+00, -2.26646900e+00, -2.68537545e+00,\n",
              "       -1.46482778e+00,  1.89481091e+00,  2.38457727e+00, -4.01632690e+00,\n",
              "        1.24076891e+00, -3.24061608e+00,  5.35410929e+00, -9.09263194e-01,\n",
              "       -1.36771452e+00,  3.29533529e+00, -1.68507886e+00,  9.19529498e-01,\n",
              "        3.21506381e+00, -8.12438130e-01,  4.81213123e-01,  5.79009771e-01,\n",
              "        8.95938098e-01, -2.25676179e+00,  9.69038129e-01,  1.67922759e+00,\n",
              "        3.00115633e+00,  3.65266228e+00,  1.37373269e+00,  8.86779904e-01,\n",
              "       -1.94254428e-01, -2.70564342e+00, -4.57548618e+00, -4.01219606e+00,\n",
              "       -8.44258845e-01, -4.70641255e-03,  1.46189868e-01,  1.11512518e+00,\n",
              "       -4.90507793e+00,  1.99134529e+00,  1.28397870e+00,  9.30539310e-01,\n",
              "       -1.58999324e+00, -4.34492767e-01, -1.49458027e+00, -1.08847713e+00,\n",
              "       -5.77188015e-01, -1.67170596e+00, -1.13334692e+00, -3.71762204e+00,\n",
              "       -3.05853295e+00,  8.86221886e-01,  8.10534298e-01,  3.37945700e+00,\n",
              "        1.61337328e+00,  3.16819143e+00,  1.00714922e+00, -1.61404300e+00,\n",
              "        3.29048872e+00, -2.56954312e+00, -8.60822976e-01,  1.60650802e+00,\n",
              "        3.74336815e+00, -1.61115265e+00,  3.14750648e+00, -2.13140488e-01,\n",
              "        3.74398255e+00, -4.87071753e-01, -2.81002283e-01, -7.62991488e-01,\n",
              "        3.25648725e-01,  9.84451026e-02,  1.97099042e+00,  9.12549078e-01,\n",
              "       -1.41620100e+00,  4.86817074e+00, -4.33228874e+00, -2.68204421e-01,\n",
              "        1.55617130e+00,  3.45260930e+00, -1.89696038e+00, -2.15736294e+00,\n",
              "        1.24473020e-01,  3.18478155e+00, -3.67019153e+00, -2.16743469e+00,\n",
              "       -4.06600714e+00, -5.38650990e-01, -4.74222034e-01, -1.42529473e-01,\n",
              "       -1.61186659e+00, -2.84319377e+00,  2.34432483e+00, -2.09997725e+00,\n",
              "        1.35972822e+00,  2.29891586e+00,  1.87662172e+00,  3.58208251e+00,\n",
              "       -3.40966797e+00,  3.16277170e+00,  1.61869252e+00,  3.67911482e+00,\n",
              "        1.23337328e+00, -2.17495894e+00, -1.44881415e+00, -1.44419372e+00,\n",
              "        5.15722704e+00,  2.41342473e+00, -1.78518248e+00,  2.83140135e+00,\n",
              "       -3.63206387e+00,  1.58811510e+00,  1.98073640e-01,  3.42561245e+00,\n",
              "        3.59780169e+00, -2.14849877e+00, -1.52137244e+00, -3.96767879e+00,\n",
              "       -1.59496439e+00, -1.66648245e+00,  1.24147868e+00,  1.25195026e+00,\n",
              "       -1.14460874e+00,  1.91819859e+00, -1.90252686e+00,  2.17205739e+00,\n",
              "        2.18560314e+00,  1.92854023e+00, -2.43319368e+00, -2.51813352e-01,\n",
              "        1.49876213e+00, -3.04172903e-01, -2.55019975e+00,  3.45724750e+00,\n",
              "        2.81593156e+00,  2.93157816e+00, -3.02550554e+00,  2.99405432e+00,\n",
              "       -1.24151468e+00, -4.01494890e-01, -3.52957702e+00, -3.74888277e+00,\n",
              "        3.70725203e+00,  2.79060698e+00, -1.59934974e+00,  3.98373753e-01,\n",
              "       -3.90597987e+00, -9.44931686e-01, -3.88820887e+00,  1.23125243e+00,\n",
              "        1.67029488e+00, -4.38530302e+00, -5.02977908e-01, -1.50697875e+00,\n",
              "       -4.32871771e+00,  2.07771325e+00, -2.89836287e+00, -8.88364196e-01,\n",
              "       -1.03750837e+00, -4.35433912e+00,  1.33170247e+00,  3.35481852e-01,\n",
              "        4.88676500e+00,  3.24798727e+00, -1.24235046e+00, -2.05795258e-01,\n",
              "        2.07869768e+00,  3.29714537e+00, -2.20127225e+00, -3.14993262e-01,\n",
              "        2.23873687e+00, -1.38132656e+00, -4.61236000e+00,  2.37496591e+00,\n",
              "        2.22194719e+00, -6.26159382e+00, -1.27062941e+00,  3.40890527e+00,\n",
              "        3.74239373e+00,  3.24130249e+00,  7.96113789e-01, -1.93019414e+00,\n",
              "       -1.70034063e+00,  1.10853720e+00, -3.33056831e+00,  1.48041761e+00,\n",
              "       -4.22560120e+00,  3.15936327e-01, -2.93285441e+00,  4.15038204e+00,\n",
              "       -3.67894816e+00,  2.57499266e+00,  2.93252826e+00, -1.01039445e+00,\n",
              "        3.40774250e+00,  6.34849501e+00,  5.47555637e+00, -3.62464094e+00,\n",
              "       -1.95290014e-01, -1.30183053e+00, -2.11845949e-01, -4.05528355e+00,\n",
              "       -3.21720541e-01,  3.54675144e-01, -3.63576794e+00, -1.82648540e+00,\n",
              "       -1.88258517e+00, -1.92401302e+00,  1.10692716e+00, -2.38008118e+00,\n",
              "       -1.32708383e+00,  8.71863902e-01,  9.61178303e-01, -5.49798667e-01,\n",
              "       -1.48808634e+00,  1.33808899e+00, -7.16022778e+00, -6.16024435e-01,\n",
              "        2.40468407e+00, -4.58799028e+00, -3.19438934e+00, -5.13443041e+00,\n",
              "        2.13300061e+00, -9.20850456e-01, -8.92085552e-01, -2.79927015e+00,\n",
              "        2.34111094e+00, -4.28240210e-01,  1.68944335e+00, -1.51826048e+00,\n",
              "       -2.03749508e-01,  9.94458854e-01, -1.95080817e+00, -2.72900391e+00,\n",
              "       -2.39578605e+00,  3.01679158e+00,  3.48259377e+00, -3.10434222e+00,\n",
              "       -1.37244153e+00,  4.48128462e+00, -4.70004022e-01,  2.47618914e+00,\n",
              "       -2.27748132e+00, -1.31412375e+00,  5.62919438e-01, -4.88828802e+00,\n",
              "        2.90337276e+00, -1.27153993e+00,  2.46834087e+00, -4.33347034e+00,\n",
              "        1.25790799e+00,  2.97927213e+00,  3.41754842e+00,  4.54467869e+00,\n",
              "       -2.49128914e+00,  2.21511388e+00,  1.90639114e+00, -6.62878275e+00,\n",
              "       -2.19305134e+00,  1.33286977e+00, -1.86891520e+00,  1.93747318e+00,\n",
              "       -2.74938732e-01, -2.57652879e+00, -2.00293088e+00,  6.37761891e-01,\n",
              "        1.93424273e+00,  1.53509593e+00, -4.79525185e+00,  1.12111115e+00,\n",
              "       -2.27796412e+00, -5.86482096e+00,  1.99008143e+00,  1.03284395e+00,\n",
              "       -1.74452949e+00,  2.97297716e+00, -3.31440210e-01,  3.04090261e+00,\n",
              "        3.81547523e+00, -2.71343064e+00,  1.16717196e+00,  6.85332596e-01,\n",
              "        3.56940985e+00, -1.91924131e+00, -5.46087742e-01,  2.22219491e+00,\n",
              "        3.38119030e+00, -4.79953319e-01, -1.33451855e+00,  4.51512903e-01,\n",
              "        2.70865083e-01, -1.33277714e+00, -5.47711182e+00, -2.57625389e+00,\n",
              "        4.37853241e+00, -5.92141581e+00,  8.46928310e+00,  7.05914783e+00,\n",
              "        4.23016405e+00, -3.79250884e-01, -8.59307349e-01, -6.54398823e+00,\n",
              "        7.71866620e-01, -7.80854285e-01, -2.09312156e-01,  1.60277808e+00,\n",
              "        2.02323127e+00,  1.13483179e+00, -4.39739561e+00, -5.87612331e-01,\n",
              "       -2.42698669e-01, -3.90104763e-03, -8.63477325e+00, -4.01018524e+00,\n",
              "       -4.07157421e+00, -3.96847749e+00,  4.00875711e+00, -2.20872188e+00,\n",
              "        1.06440508e+00, -1.57789266e+00, -4.63217527e-01,  1.11540735e+00,\n",
              "        2.17293262e+00,  1.95551193e+00,  2.06837535e+00, -2.86774874e+00,\n",
              "       -1.91892517e+00,  1.92653358e+00,  1.22934139e+00, -8.83664608e-01,\n",
              "        1.29104149e+00,  2.66457486e+00, -6.17802191e+00,  3.52332020e+00,\n",
              "        1.63374877e+00,  1.50463939e+00,  1.92814267e+00,  1.19861579e+00,\n",
              "        1.43564725e+00, -2.06664968e+00,  7.32998967e-01, -9.64538455e-01,\n",
              "        7.31698155e-01, -3.64772582e+00, -2.15871835e+00,  2.75004721e+00,\n",
              "        2.22629952e+00, -1.17068243e+00, -9.02784824e-01, -1.68655872e-01,\n",
              "        7.42085457e-01, -4.95863342e+00, -7.49526143e-01, -4.92869234e+00],\n",
              "      dtype=float32)"
            ]
          },
          "metadata": {},
          "execution_count": 117
        }
      ]
    },
    {
      "cell_type": "code",
      "source": [
        "func_vector = []\n",
        "for i in range(len(train_df['function_tokens'].values)):\n",
        "    inp = tokenizer_func.encode(train_df['function_tokens'][i]).ids\n",
        "    func_vector.append(generate_embeddings(inp))\n",
        "\n",
        "import csv\n",
        "# Store the fucntion vectors in a .tsv file\n",
        "with open(\"/content/gdrive/MyDrive/SCE_dataset/func_vectors.tsv\",\"w+\",newline='') as my_csv:\n",
        "    csvWriter = csv.writer(my_csv,delimiter='\\t')\n",
        "    csvWriter.writerows(func_vector)"
      ],
      "metadata": {
        "id": "QOhnbWVqT8OI"
      },
      "execution_count": null,
      "outputs": []
    },
    {
      "cell_type": "code",
      "source": [
        "print(len(func_vector))"
      ],
      "metadata": {
        "colab": {
          "base_uri": "https://localhost:8080/"
        },
        "id": "C861V5JkYbIf",
        "outputId": "2c6bb3e4-1e51-4c6e-86d2-74b0c73681c4"
      },
      "execution_count": null,
      "outputs": [
        {
          "output_type": "stream",
          "name": "stdout",
          "text": [
            "26\n"
          ]
        }
      ]
    },
    {
      "cell_type": "code",
      "source": [
        "# Load the ALBERT model to convert the query into a vector\n",
        "from transformers import AlbertTokenizer, TFAlbertModel\n",
        "\n",
        "albert_tokenizer = AlbertTokenizer.from_pretrained(\"albert-base-v2\")\n",
        "\n",
        "from transformers import  AlbertConfig\n",
        "\n",
        "config = AlbertConfig.from_pretrained('/content/gdrive/MyDrive/Config_and_model', output_hidden_states=True)\n",
        "\n",
        "model = TFAlbertModel.from_pretrained('/content/gdrive/MyDrive/Config_and_model', config=config,  from_pt=True)"
      ],
      "metadata": {
        "colab": {
          "base_uri": "https://localhost:8080/"
        },
        "id": "0e4l2UvJYbf2",
        "outputId": "352f5328-faa8-42d3-e9e9-e5415afc1235"
      },
      "execution_count": null,
      "outputs": [
        {
          "output_type": "stream",
          "name": "stderr",
          "text": [
            "Some weights of the PyTorch model were not used when initializing the TF 2.0 model TFAlbertModel: ['predictions.LayerNorm.bias', 'albert.embeddings.position_ids', 'sop_classifier.classifier.bias', 'predictions.decoder.bias', 'sop_classifier.classifier.weight', 'predictions.dense.bias', 'predictions.dense.weight', 'predictions.LayerNorm.weight', 'predictions.decoder.weight', 'predictions.bias']\n",
            "- This IS expected if you are initializing TFAlbertModel from a PyTorch model trained on another task or with another architecture (e.g. initializing a TFBertForSequenceClassification model from a BertForPreTraining model).\n",
            "- This IS NOT expected if you are initializing TFAlbertModel from a PyTorch model that you expect to be exactly identical (e.g. initializing a TFBertForSequenceClassification model from a BertForSequenceClassification model).\n",
            "All the weights of TFAlbertModel were initialized from the PyTorch model.\n",
            "If your task is similar to the task the model of the checkpoint was trained on, you can already use TFAlbertModel for predictions without further training.\n"
          ]
        }
      ]
    },
    {
      "cell_type": "code",
      "source": [
        "!pip install nmslib"
      ],
      "metadata": {
        "colab": {
          "base_uri": "https://localhost:8080/"
        },
        "id": "S5UwpgZfd_vp",
        "outputId": "c79cef54-fb3a-4f44-f8dd-19bd8788a617"
      },
      "execution_count": null,
      "outputs": [
        {
          "output_type": "stream",
          "name": "stdout",
          "text": [
            "Requirement already satisfied: nmslib in /usr/local/lib/python3.7/dist-packages (2.1.1)\n",
            "Requirement already satisfied: pybind11<2.6.2 in /usr/local/lib/python3.7/dist-packages (from nmslib) (2.6.1)\n",
            "Requirement already satisfied: psutil in /usr/local/lib/python3.7/dist-packages (from nmslib) (5.4.8)\n",
            "Requirement already satisfied: numpy>=1.10.0 in /usr/local/lib/python3.7/dist-packages (from nmslib) (1.21.5)\n"
          ]
        }
      ]
    },
    {
      "cell_type": "code",
      "source": [
        "import nmslib\n",
        "search_index = nmslib.init(method='hnsw', space='cosinesimil')\n",
        "e = np.loadtxt('/content/gdrive/MyDrive/SCE_dataset/func_vectors.tsv',delimiter='\\t')\n",
        "search_index.addDataPointBatch(e)\n",
        "# Create our search indices\n",
        "search_index.createIndex(print_progress=True)"
      ],
      "metadata": {
        "id": "r365N8XRdoOs"
      },
      "execution_count": null,
      "outputs": []
    },
    {
      "cell_type": "code",
      "source": [
        "def search(query):\n",
        "    e = albert_tokenizer.encode(query, max_length=512)\n",
        "    input = tf.constant(e)[None, :]\n",
        "    output = model(input)\n",
        "    v = [0]*768\n",
        "    for i in range(1, len(input[0])-1):\n",
        "        v = v + output[0][0][i].numpy()\n",
        "    emb = v/len(input[0])\n",
        "\n",
        "    # Search five nearest neighbours, their index value and cosine distances are returned\n",
        "    idxs, dists = search_index.knnQuery(emb, k=5)\n",
        "\n",
        "\n",
        "    for idx, dist in zip(idxs, dists):\n",
        "            code = train_df['original_function'][idx]\n",
        "\n",
        "            print(f'cosine dist:{dist:.4f} \\n   \\n {code} \\n---------------------------------\\n')"
      ],
      "metadata": {
        "id": "U2kPHaifd-9o"
      },
      "execution_count": null,
      "outputs": []
    },
    {
      "cell_type": "code",
      "source": [
        "search('matrix multiplication') # Search"
      ],
      "metadata": {
        "colab": {
          "base_uri": "https://localhost:8080/"
        },
        "id": "B_2qbl9qeM0i",
        "outputId": "f6c0defe-3dd6-45cc-fddf-9b9326bc7f57"
      },
      "execution_count": null,
      "outputs": [
        {
          "output_type": "stream",
          "name": "stdout",
          "text": [
            "cosine dist:0.0838 \n",
            "   \n",
            " def inverse(matrix: list[list]) ->(list[list] | None):\n",
            "    \"\"\"\n",
            "    Inverse of a matrix a with n Dimension\n",
            "    \"\"\"\n",
            "    det = determinant(matrix)\n",
            "    if det == 0:\n",
            "        return None\n",
            "    matrix_minor = [[determinant(minor(matrix, i, j)) for j in range(len(\n",
            "        matrix))] for i in range(len(matrix))]\n",
            "    cofactors = [[(x * (-1) ** (row + col)) for col, x in enumerate(\n",
            "        matrix_minor[row])] for row in range(len(matrix))]\n",
            "    adjugate = list(transpose(cofactors))\n",
            "    return scalar_multiply(adjugate, 1 / det)\n",
            " \n",
            "---------------------------------\n",
            "\n",
            "cosine dist:0.0856 \n",
            "   \n",
            " def multiply(matrix_a: list[list], matrix_b: list[list]) ->list[list]:\n",
            "    \"\"\"\n",
            "    Regular matrix multiplication using list\n",
            "    \"\"\"\n",
            "    if _check_not_integer(matrix_a) and _check_not_integer(matrix_b):\n",
            "        rows, cols = _verify_matrix_sizes(matrix_a, matrix_b)\n",
            "    if cols[0] != rows[1]:\n",
            "        raise ValueError(\n",
            "            f'Cannot multiply matrix of dimensions ({rows[0]},{cols[0]}) and ({rows[1]},{cols[1]})'\n",
            "            )\n",
            "    return [[sum(m * n for m, n in zip(i, j)) for j in zip(*matrix_b)] for\n",
            "        i in matrix_a]\n",
            " \n",
            "---------------------------------\n",
            "\n",
            "cosine dist:0.0859 \n",
            "   \n",
            " def search_in_a_sorted_matrix(mat: list[list], m: int, n: int, key: (int |\n",
            "    float)) ->None:\n",
            "    \"\"\"\n",
            "    search a key inside a n dimension matrix using function\n",
            "    \"\"\"\n",
            "    i, j = m - 1, 0\n",
            "    while i >= 0 and j < n:\n",
            "        if key == mat[i][j]:\n",
            "            print(f'Key {key} found at row- {i + 1} column- {j + 1}')\n",
            "            return\n",
            "        if key < mat[i][j]:\n",
            "            i -= 1\n",
            "        else:\n",
            "            j += 1\n",
            "    print(f'Key {key} not found')\n",
            " \n",
            "---------------------------------\n",
            "\n",
            "cosine dist:0.0860 \n",
            "   \n",
            " def subtract(matrix_a: list[list], matrix_b: list[list]) ->list[list]:\n",
            "    \"\"\"\n",
            "   two matrix substraction function using list\n",
            "    \"\"\"\n",
            "    if _check_not_integer(matrix_a) and _check_not_integer(matrix_b\n",
            "        ) and _verify_matrix_sizes(matrix_a, matrix_b):\n",
            "        return [[(i - j) for i, j in zip(*m)] for m in zip(matrix_a, matrix_b)]\n",
            "    raise TypeError('Expected a matrix, got int/list instead')\n",
            " \n",
            "---------------------------------\n",
            "\n",
            "cosine dist:0.0860 \n",
            "   \n",
            " def levenshtein_distance(first_word: str, second_word: str) ->int:\n",
            "    \"\"\"Implementation of the levenshtein distance in Python.\n",
            "    :param first_word: the first word to measure the difference.\n",
            "    :param second_word: the second word to measure the difference.\n",
            "    :return: the levenshtein distance between the two words.\n",
            "    Examples:\n",
            "    \"\"\"\n",
            "    if len(first_word) < len(second_word):\n",
            "        return levenshtein_distance(second_word, first_word)\n",
            "    if len(second_word) == 0:\n",
            "        return len(first_word)\n",
            "    previous_row = list(range(len(second_word) + 1))\n",
            "    for i, c1 in enumerate(first_word):\n",
            "        current_row = [i + 1]\n",
            "        for j, c2 in enumerate(second_word):\n",
            "            insertions = previous_row[j + 1] + 1\n",
            "            deletions = current_row[j] + 1\n",
            "            substitutions = previous_row[j] + (c1 != c2)\n",
            "            current_row.append(min(insertions, deletions, substitutions))\n",
            "        previous_row = current_row\n",
            "    return previous_row[-1]\n",
            " \n",
            "---------------------------------\n",
            "\n"
          ]
        }
      ]
    },
    {
      "cell_type": "code",
      "source": [
        "search('Function for bubble sort')"
      ],
      "metadata": {
        "colab": {
          "base_uri": "https://localhost:8080/"
        },
        "id": "XaXEA_kDeRiI",
        "outputId": "9b5d335b-2960-4d90-df45-552bc60edac4"
      },
      "execution_count": null,
      "outputs": [
        {
          "output_type": "stream",
          "name": "stdout",
          "text": [
            "cosine dist:0.0873 \n",
            "   \n",
            " def procentual_proximity(source_data: list[list[float]], weights: list[int]\n",
            "    ) ->list[list[float]]:\n",
            "    \"\"\"\n",
            "    function to find procentual proximity.\n",
            "    \"\"\"\n",
            "    data_lists: list[list[float]] = []\n",
            "    for data in source_data:\n",
            "        for i, el in enumerate(data):\n",
            "            if len(data_lists) < i + 1:\n",
            "                data_lists.append([])\n",
            "            data_lists[i].append(float(el))\n",
            "    score_lists: list[list[float]] = []\n",
            "    for dlist, weight in zip(data_lists, weights):\n",
            "        mind = min(dlist)\n",
            "        maxd = max(dlist)\n",
            "        score: list[float] = []\n",
            "        if weight == 0:\n",
            "            for item in dlist:\n",
            "                try:\n",
            "                    score.append(1 - (item - mind) / (maxd - mind))\n",
            "                except ZeroDivisionError:\n",
            "                    score.append(1)\n",
            "        elif weight == 1:\n",
            "            for item in dlist:\n",
            "                try:\n",
            "                    score.append((item - mind) / (maxd - mind))\n",
            "                except ZeroDivisionError:\n",
            "                    score.append(0)\n",
            "        else:\n",
            "            raise ValueError('Invalid weight of %f provided' % weight)\n",
            "        score_lists.append(score)\n",
            "    final_scores: list[float] = [(0) for i in range(len(score_lists[0]))]\n",
            "    for i, slist in enumerate(score_lists):\n",
            "        for j, ele in enumerate(slist):\n",
            "            final_scores[j] = final_scores[j] + ele\n",
            "    for i, ele in enumerate(final_scores):\n",
            "        source_data[i].append(ele)\n",
            "    return source_data\n",
            " \n",
            "---------------------------------\n",
            "\n",
            "cosine dist:0.0899 \n",
            "   \n",
            " def insertion_sort(elements):\n",
            "    \"\"\"\n",
            "    perform an insertion sort for given n elements of array \n",
            "    \"\"\"\n",
            "    for i in range(1, len(elements)):\n",
            "        anchor = elements[i]\n",
            "        j = i - 1\n",
            "        while j >= 0 and anchor < elements[j]:\n",
            "            elements[j + 1] = elements[j]\n",
            "            j = j - 1\n",
            "        elements[j + 1] = anchor\n",
            " \n",
            "---------------------------------\n",
            "\n",
            "cosine dist:0.0900 \n",
            "   \n",
            " def identity(n: int) ->list[list]:\n",
            "    \"\"\"\n",
            "    function to create identity matrix for n dimension\n",
            "    \"\"\"\n",
            "    n = int(n)\n",
            "    return [[int(row == column) for column in range(n)] for row in range(n)]\n",
            " \n",
            "---------------------------------\n",
            "\n",
            "cosine dist:0.0905 \n",
            "   \n",
            " def inverse(matrix: list[list]) ->(list[list] | None):\n",
            "    \"\"\"\n",
            "    Inverse of a matrix a with n Dimension\n",
            "    \"\"\"\n",
            "    det = determinant(matrix)\n",
            "    if det == 0:\n",
            "        return None\n",
            "    matrix_minor = [[determinant(minor(matrix, i, j)) for j in range(len(\n",
            "        matrix))] for i in range(len(matrix))]\n",
            "    cofactors = [[(x * (-1) ** (row + col)) for col, x in enumerate(\n",
            "        matrix_minor[row])] for row in range(len(matrix))]\n",
            "    adjugate = list(transpose(cofactors))\n",
            "    return scalar_multiply(adjugate, 1 / det)\n",
            " \n",
            "---------------------------------\n",
            "\n",
            "cosine dist:0.0910 \n",
            "   \n",
            " def subtract(matrix_a: list[list], matrix_b: list[list]) ->list[list]:\n",
            "    \"\"\"\n",
            "   two matrix substraction function using list\n",
            "    \"\"\"\n",
            "    if _check_not_integer(matrix_a) and _check_not_integer(matrix_b\n",
            "        ) and _verify_matrix_sizes(matrix_a, matrix_b):\n",
            "        return [[(i - j) for i, j in zip(*m)] for m in zip(matrix_a, matrix_b)]\n",
            "    raise TypeError('Expected a matrix, got int/list instead')\n",
            " \n",
            "---------------------------------\n",
            "\n"
          ]
        }
      ]
    },
    {
      "cell_type": "code",
      "source": [
        "search(\"How to create a bed sort\")"
      ],
      "metadata": {
        "colab": {
          "base_uri": "https://localhost:8080/"
        },
        "id": "-inVJ5NyhVP4",
        "outputId": "177ed4b6-a0ca-483b-c29e-fe893b0808ca"
      },
      "execution_count": null,
      "outputs": [
        {
          "output_type": "stream",
          "name": "stdout",
          "text": [
            "cosine dist:0.0421 \n",
            "   \n",
            " def decimal_to_binary(no_of_variable: int, minterms: Sequence[float]) ->list[\n",
            "    str]:\n",
            "    \"\"\"\n",
            "    function to convert a decimal to binary\n",
            "    \"\"\"\n",
            "    temp = []\n",
            "    for minterm in minterms:\n",
            "        string = ''\n",
            "        for i in range(no_of_variable):\n",
            "            string = str(minterm % 2) + string\n",
            "            minterm //= 2\n",
            "        temp.append(string)\n",
            "    return temp\n",
            " \n",
            "---------------------------------\n",
            "\n",
            "cosine dist:0.0424 \n",
            "   \n",
            " def scalar_multiply(matrix: list[list], n: (int | float)) ->list[list]:\n",
            "    \"\"\"\n",
            "   Scalar multuplication of a matrix\n",
            "    \"\"\"\n",
            "    return [[(x * n) for x in row] for row in matrix]\n",
            " \n",
            "---------------------------------\n",
            "\n",
            "cosine dist:0.0434 \n",
            "   \n",
            " def is_isomorphic(s, t):\n",
            "    \"\"\"\n",
            "    Given two strings s and t, determine if they are isomorphic.\n",
            "    Two strings are isomorphic if the characters in s can be replaced to get t.\n",
            "    All occurrences of a character must be replaced with another character while\n",
            "    preserving the order of characters. No two characters may map to the same\n",
            "    character but a character may map to itself.\n",
            "    \"\"\"\n",
            "    if len(s) != len(t):\n",
            "        return False\n",
            "    dict = {}\n",
            "    set_value = set()\n",
            "    for i in range(len(s)):\n",
            "        if s[i] not in dict:\n",
            "            if t[i] in set_value:\n",
            "                return False\n",
            "            dict[s[i]] = t[i]\n",
            "            set_value.add(t[i])\n",
            "        elif dict[s[i]] != t[i]:\n",
            "            return False\n",
            "    return True\n",
            " \n",
            "---------------------------------\n",
            "\n",
            "cosine dist:0.0443 \n",
            "   \n",
            " def bead_sort(sequence: list) ->list:\n",
            "    \"\"\"\n",
            "    pure implementation of bead sort in python\n",
            "    \"\"\"\n",
            "    if any(not isinstance(x, int) or x < 0 for x in sequence):\n",
            "        raise TypeError('Sequence must be list of non-negative integers')\n",
            "    for _ in range(len(sequence)):\n",
            "        for i, (rod_upper, rod_lower) in enumerate(zip(sequence, sequence[1:])\n",
            "            ):\n",
            "            if rod_upper > rod_lower:\n",
            "                sequence[i] -= rod_upper - rod_lower\n",
            "                sequence[i + 1] += rod_upper - rod_lower\n",
            "    return sequence\n",
            " \n",
            "---------------------------------\n",
            "\n",
            "cosine dist:0.0449 \n",
            "   \n",
            " def levenshtein_distance(first_word: str, second_word: str) ->int:\n",
            "    \"\"\"Implementation of the levenshtein distance in Python.\n",
            "    :param first_word: the first word to measure the difference.\n",
            "    :param second_word: the second word to measure the difference.\n",
            "    :return: the levenshtein distance between the two words.\n",
            "    Examples:\n",
            "    \"\"\"\n",
            "    if len(first_word) < len(second_word):\n",
            "        return levenshtein_distance(second_word, first_word)\n",
            "    if len(second_word) == 0:\n",
            "        return len(first_word)\n",
            "    previous_row = list(range(len(second_word) + 1))\n",
            "    for i, c1 in enumerate(first_word):\n",
            "        current_row = [i + 1]\n",
            "        for j, c2 in enumerate(second_word):\n",
            "            insertions = previous_row[j + 1] + 1\n",
            "            deletions = current_row[j] + 1\n",
            "            substitutions = previous_row[j] + (c1 != c2)\n",
            "            current_row.append(min(insertions, deletions, substitutions))\n",
            "        previous_row = current_row\n",
            "    return previous_row[-1]\n",
            " \n",
            "---------------------------------\n",
            "\n"
          ]
        }
      ]
    },
    {
      "cell_type": "code",
      "source": [
        "search(\"how to find procentual proximity\")"
      ],
      "metadata": {
        "colab": {
          "base_uri": "https://localhost:8080/"
        },
        "id": "vXuM2PtPhdGe",
        "outputId": "09e3b5d5-4064-455b-8ce2-3bdf704a1cf2"
      },
      "execution_count": null,
      "outputs": [
        {
          "output_type": "stream",
          "name": "stdout",
          "text": [
            "cosine dist:0.0293 \n",
            "   \n",
            " def procentual_proximity(source_data: list[list[float]], weights: list[int]\n",
            "    ) ->list[list[float]]:\n",
            "    \"\"\"\n",
            "    function to find procentual proximity.\n",
            "    \"\"\"\n",
            "    data_lists: list[list[float]] = []\n",
            "    for data in source_data:\n",
            "        for i, el in enumerate(data):\n",
            "            if len(data_lists) < i + 1:\n",
            "                data_lists.append([])\n",
            "            data_lists[i].append(float(el))\n",
            "    score_lists: list[list[float]] = []\n",
            "    for dlist, weight in zip(data_lists, weights):\n",
            "        mind = min(dlist)\n",
            "        maxd = max(dlist)\n",
            "        score: list[float] = []\n",
            "        if weight == 0:\n",
            "            for item in dlist:\n",
            "                try:\n",
            "                    score.append(1 - (item - mind) / (maxd - mind))\n",
            "                except ZeroDivisionError:\n",
            "                    score.append(1)\n",
            "        elif weight == 1:\n",
            "            for item in dlist:\n",
            "                try:\n",
            "                    score.append((item - mind) / (maxd - mind))\n",
            "                except ZeroDivisionError:\n",
            "                    score.append(0)\n",
            "        else:\n",
            "            raise ValueError('Invalid weight of %f provided' % weight)\n",
            "        score_lists.append(score)\n",
            "    final_scores: list[float] = [(0) for i in range(len(score_lists[0]))]\n",
            "    for i, slist in enumerate(score_lists):\n",
            "        for j, ele in enumerate(slist):\n",
            "            final_scores[j] = final_scores[j] + ele\n",
            "    for i, ele in enumerate(final_scores):\n",
            "        source_data[i].append(ele)\n",
            "    return source_data\n",
            " \n",
            "---------------------------------\n",
            "\n",
            "cosine dist:0.0293 \n",
            "   \n",
            " def scalar_multiply(matrix: list[list], n: (int | float)) ->list[list]:\n",
            "    \"\"\"\n",
            "   Scalar multuplication of a matrix\n",
            "    \"\"\"\n",
            "    return [[(x * n) for x in row] for row in matrix]\n",
            " \n",
            "---------------------------------\n",
            "\n",
            "cosine dist:0.0327 \n",
            "   \n",
            " def inverse(matrix: list[list]) ->(list[list] | None):\n",
            "    \"\"\"\n",
            "    Inverse of a matrix a with n Dimension\n",
            "    \"\"\"\n",
            "    det = determinant(matrix)\n",
            "    if det == 0:\n",
            "        return None\n",
            "    matrix_minor = [[determinant(minor(matrix, i, j)) for j in range(len(\n",
            "        matrix))] for i in range(len(matrix))]\n",
            "    cofactors = [[(x * (-1) ** (row + col)) for col, x in enumerate(\n",
            "        matrix_minor[row])] for row in range(len(matrix))]\n",
            "    adjugate = list(transpose(cofactors))\n",
            "    return scalar_multiply(adjugate, 1 / det)\n",
            " \n",
            "---------------------------------\n",
            "\n",
            "cosine dist:0.0340 \n",
            "   \n",
            " def levenshtein_distance(first_word: str, second_word: str) ->int:\n",
            "    \"\"\"Implementation of the levenshtein distance in Python.\n",
            "    :param first_word: the first word to measure the difference.\n",
            "    :param second_word: the second word to measure the difference.\n",
            "    :return: the levenshtein distance between the two words.\n",
            "    Examples:\n",
            "    \"\"\"\n",
            "    if len(first_word) < len(second_word):\n",
            "        return levenshtein_distance(second_word, first_word)\n",
            "    if len(second_word) == 0:\n",
            "        return len(first_word)\n",
            "    previous_row = list(range(len(second_word) + 1))\n",
            "    for i, c1 in enumerate(first_word):\n",
            "        current_row = [i + 1]\n",
            "        for j, c2 in enumerate(second_word):\n",
            "            insertions = previous_row[j + 1] + 1\n",
            "            deletions = current_row[j] + 1\n",
            "            substitutions = previous_row[j] + (c1 != c2)\n",
            "            current_row.append(min(insertions, deletions, substitutions))\n",
            "        previous_row = current_row\n",
            "    return previous_row[-1]\n",
            " \n",
            "---------------------------------\n",
            "\n",
            "cosine dist:0.0342 \n",
            "   \n",
            " def identity(n: int) ->list[list]:\n",
            "    \"\"\"\n",
            "    function to create identity matrix for n dimension\n",
            "    \"\"\"\n",
            "    n = int(n)\n",
            "    return [[int(row == column) for column in range(n)] for row in range(n)]\n",
            " \n",
            "---------------------------------\n",
            "\n"
          ]
        }
      ]
    },
    {
      "cell_type": "code",
      "source": [],
      "metadata": {
        "id": "qq7JyQm5Rl-M"
      },
      "execution_count": null,
      "outputs": []
    }
  ]
}